{
 "cells": [
  {
   "cell_type": "markdown",
   "metadata": {},
   "source": [
    "# Data Cleaning, Describing, and Visualization\n",
    "\n",
    "### Step 1 - Get your environment setup\n",
    "\n",
    "1. Install Git on your computer and fork the class repository on [Github](https://github.com/tfolkman/byu_econ_applied_machine_learning).\n",
    "2. Install [Anaconda](https://conda.io/docs/install/quick.html) and get it working.\n",
    "\n",
    "### Step 2 - Explore Datasets\n",
    "\n",
    "The goals of this project are:\n",
    "\n",
    "1. Read in data from multiple sources\n",
    "2. Gain practice cleaning, describing, and visualizing data\n",
    "\n",
    "To this end, you need to find from three different sources. For example: CSV, JSON, and API, SQL, or web scraping. For each of these data sets, you must perform the following:\n",
    "\n",
    "1. Data cleaning. Some options your might consider: handle missing data, handle outliers, scale the data, convert some data to categorical.\n",
    "2. Describe data. Provide tables, statistics, and summaries of your data.\n",
    "3. Visualize data. Provide visualizations of your data.\n",
    "\n",
    "These are the typical first steps of any data science project and are often the most time consuming. My hope is that in going through this process 3 different times, that you will gain a sense for it.\n",
    "\n",
    "Also, as you are doing this, please tell us a story. Explain in your notebook why are doing what you are doing and to what end. Telling a story in your analysis is a crucial skill for data scientists. There are almost an infinite amount of ways to analyze a data set; help us understand why you choose your particular path and why we should care.\n",
    "\n",
    "Also - this homework is very open-ended and we provided you with basically no starting point. I realize this increases the difficulty and complexity, but I think it is worth it. It is much closer to what you might experience in industry and allows you to find data that might excite you!"
   ]
  },
  {
   "cell_type": "markdown",
   "metadata": {},
   "source": [
    "## Data 1: CSV Data"
   ]
  },
  {
   "cell_type": "code",
   "execution_count": 29,
   "metadata": {
    "collapsed": true
   },
   "outputs": [],
   "source": [
    "# -*- coding: utf-8 -*-"
   ]
  },
  {
   "cell_type": "code",
   "execution_count": 3,
   "metadata": {
    "collapsed": true
   },
   "outputs": [],
   "source": [
    "import pandas as pd"
   ]
  },
  {
   "cell_type": "code",
   "execution_count": 4,
   "metadata": {
    "collapsed": true
   },
   "outputs": [],
   "source": [
    "data1 = pd.read_csv('')"
   ]
  },
  {
   "cell_type": "code",
   "execution_count": 9,
   "metadata": {},
   "outputs": [
    {
     "data": {
      "text/html": [
       "<div>\n",
       "<style>\n",
       "    .dataframe thead tr:only-child th {\n",
       "        text-align: right;\n",
       "    }\n",
       "\n",
       "    .dataframe thead th {\n",
       "        text-align: left;\n",
       "    }\n",
       "\n",
       "    .dataframe tbody tr th {\n",
       "        vertical-align: top;\n",
       "    }\n",
       "</style>\n",
       "<table border=\"1\" class=\"dataframe\">\n",
       "  <thead>\n",
       "    <tr style=\"text-align: right;\">\n",
       "      <th></th>\n",
       "      <th>Id</th>\n",
       "      <th>SepalLengthCm</th>\n",
       "      <th>SepalWidthCm</th>\n",
       "      <th>PetalLengthCm</th>\n",
       "      <th>PetalWidthCm</th>\n",
       "      <th>Species</th>\n",
       "    </tr>\n",
       "  </thead>\n",
       "  <tbody>\n",
       "    <tr>\n",
       "      <th>0</th>\n",
       "      <td>1</td>\n",
       "      <td>5.1</td>\n",
       "      <td>3.5</td>\n",
       "      <td>1.4</td>\n",
       "      <td>0.2</td>\n",
       "      <td>Iris-setosa</td>\n",
       "    </tr>\n",
       "    <tr>\n",
       "      <th>1</th>\n",
       "      <td>2</td>\n",
       "      <td>4.9</td>\n",
       "      <td>3.0</td>\n",
       "      <td>1.4</td>\n",
       "      <td>0.2</td>\n",
       "      <td>Iris-setosa</td>\n",
       "    </tr>\n",
       "    <tr>\n",
       "      <th>2</th>\n",
       "      <td>3</td>\n",
       "      <td>4.7</td>\n",
       "      <td>3.2</td>\n",
       "      <td>1.3</td>\n",
       "      <td>0.2</td>\n",
       "      <td>Iris-setosa</td>\n",
       "    </tr>\n",
       "    <tr>\n",
       "      <th>3</th>\n",
       "      <td>4</td>\n",
       "      <td>4.6</td>\n",
       "      <td>3.1</td>\n",
       "      <td>1.5</td>\n",
       "      <td>0.2</td>\n",
       "      <td>Iris-setosa</td>\n",
       "    </tr>\n",
       "    <tr>\n",
       "      <th>4</th>\n",
       "      <td>5</td>\n",
       "      <td>5.0</td>\n",
       "      <td>3.6</td>\n",
       "      <td>1.4</td>\n",
       "      <td>0.2</td>\n",
       "      <td>Iris-setosa</td>\n",
       "    </tr>\n",
       "  </tbody>\n",
       "</table>\n",
       "</div>"
      ],
      "text/plain": [
       "   Id  SepalLengthCm  SepalWidthCm  PetalLengthCm  PetalWidthCm      Species\n",
       "0   1            5.1           3.5            1.4           0.2  Iris-setosa\n",
       "1   2            4.9           3.0            1.4           0.2  Iris-setosa\n",
       "2   3            4.7           3.2            1.3           0.2  Iris-setosa\n",
       "3   4            4.6           3.1            1.5           0.2  Iris-setosa\n",
       "4   5            5.0           3.6            1.4           0.2  Iris-setosa"
      ]
     },
     "execution_count": 9,
     "metadata": {},
     "output_type": "execute_result"
    }
   ],
   "source": [
    "data1.head()"
   ]
  },
  {
   "cell_type": "code",
   "execution_count": 10,
   "metadata": {},
   "outputs": [
    {
     "data": {
      "text/html": [
       "<div>\n",
       "<style>\n",
       "    .dataframe thead tr:only-child th {\n",
       "        text-align: right;\n",
       "    }\n",
       "\n",
       "    .dataframe thead th {\n",
       "        text-align: left;\n",
       "    }\n",
       "\n",
       "    .dataframe tbody tr th {\n",
       "        vertical-align: top;\n",
       "    }\n",
       "</style>\n",
       "<table border=\"1\" class=\"dataframe\">\n",
       "  <thead>\n",
       "    <tr style=\"text-align: right;\">\n",
       "      <th></th>\n",
       "      <th>Id</th>\n",
       "      <th>SepalLengthCm</th>\n",
       "      <th>SepalWidthCm</th>\n",
       "      <th>PetalLengthCm</th>\n",
       "      <th>PetalWidthCm</th>\n",
       "      <th>Species</th>\n",
       "    </tr>\n",
       "  </thead>\n",
       "  <tbody>\n",
       "    <tr>\n",
       "      <th>0</th>\n",
       "      <td>1</td>\n",
       "      <td>5.1</td>\n",
       "      <td>3.5</td>\n",
       "      <td>1.4</td>\n",
       "      <td>0.2</td>\n",
       "      <td>Iris-setosa</td>\n",
       "    </tr>\n",
       "    <tr>\n",
       "      <th>1</th>\n",
       "      <td>2</td>\n",
       "      <td>4.9</td>\n",
       "      <td>3.0</td>\n",
       "      <td>1.4</td>\n",
       "      <td>0.2</td>\n",
       "      <td>Iris-setosa</td>\n",
       "    </tr>\n",
       "    <tr>\n",
       "      <th>2</th>\n",
       "      <td>3</td>\n",
       "      <td>4.7</td>\n",
       "      <td>3.2</td>\n",
       "      <td>1.3</td>\n",
       "      <td>0.2</td>\n",
       "      <td>Iris-setosa</td>\n",
       "    </tr>\n",
       "    <tr>\n",
       "      <th>3</th>\n",
       "      <td>4</td>\n",
       "      <td>4.6</td>\n",
       "      <td>3.1</td>\n",
       "      <td>1.5</td>\n",
       "      <td>0.2</td>\n",
       "      <td>Iris-setosa</td>\n",
       "    </tr>\n",
       "    <tr>\n",
       "      <th>4</th>\n",
       "      <td>5</td>\n",
       "      <td>5.0</td>\n",
       "      <td>3.6</td>\n",
       "      <td>1.4</td>\n",
       "      <td>0.2</td>\n",
       "      <td>Iris-setosa</td>\n",
       "    </tr>\n",
       "    <tr>\n",
       "      <th>5</th>\n",
       "      <td>6</td>\n",
       "      <td>5.4</td>\n",
       "      <td>3.9</td>\n",
       "      <td>1.7</td>\n",
       "      <td>0.4</td>\n",
       "      <td>Iris-setosa</td>\n",
       "    </tr>\n",
       "    <tr>\n",
       "      <th>6</th>\n",
       "      <td>7</td>\n",
       "      <td>4.6</td>\n",
       "      <td>3.4</td>\n",
       "      <td>1.4</td>\n",
       "      <td>0.3</td>\n",
       "      <td>Iris-setosa</td>\n",
       "    </tr>\n",
       "    <tr>\n",
       "      <th>7</th>\n",
       "      <td>8</td>\n",
       "      <td>5.0</td>\n",
       "      <td>3.4</td>\n",
       "      <td>1.5</td>\n",
       "      <td>0.2</td>\n",
       "      <td>Iris-setosa</td>\n",
       "    </tr>\n",
       "    <tr>\n",
       "      <th>8</th>\n",
       "      <td>9</td>\n",
       "      <td>4.4</td>\n",
       "      <td>2.9</td>\n",
       "      <td>1.4</td>\n",
       "      <td>0.2</td>\n",
       "      <td>Iris-setosa</td>\n",
       "    </tr>\n",
       "    <tr>\n",
       "      <th>9</th>\n",
       "      <td>10</td>\n",
       "      <td>4.9</td>\n",
       "      <td>3.1</td>\n",
       "      <td>1.5</td>\n",
       "      <td>0.1</td>\n",
       "      <td>Iris-setosa</td>\n",
       "    </tr>\n",
       "  </tbody>\n",
       "</table>\n",
       "</div>"
      ],
      "text/plain": [
       "   Id  SepalLengthCm  SepalWidthCm  PetalLengthCm  PetalWidthCm      Species\n",
       "0   1            5.1           3.5            1.4           0.2  Iris-setosa\n",
       "1   2            4.9           3.0            1.4           0.2  Iris-setosa\n",
       "2   3            4.7           3.2            1.3           0.2  Iris-setosa\n",
       "3   4            4.6           3.1            1.5           0.2  Iris-setosa\n",
       "4   5            5.0           3.6            1.4           0.2  Iris-setosa\n",
       "5   6            5.4           3.9            1.7           0.4  Iris-setosa\n",
       "6   7            4.6           3.4            1.4           0.3  Iris-setosa\n",
       "7   8            5.0           3.4            1.5           0.2  Iris-setosa\n",
       "8   9            4.4           2.9            1.4           0.2  Iris-setosa\n",
       "9  10            4.9           3.1            1.5           0.1  Iris-setosa"
      ]
     },
     "execution_count": 10,
     "metadata": {},
     "output_type": "execute_result"
    }
   ],
   "source": [
    "data1.head(10)"
   ]
  },
  {
   "cell_type": "code",
   "execution_count": 8,
   "metadata": {},
   "outputs": [
    {
     "data": {
      "text/html": [
       "<div>\n",
       "<style>\n",
       "    .dataframe thead tr:only-child th {\n",
       "        text-align: right;\n",
       "    }\n",
       "\n",
       "    .dataframe thead th {\n",
       "        text-align: left;\n",
       "    }\n",
       "\n",
       "    .dataframe tbody tr th {\n",
       "        vertical-align: top;\n",
       "    }\n",
       "</style>\n",
       "<table border=\"1\" class=\"dataframe\">\n",
       "  <thead>\n",
       "    <tr style=\"text-align: right;\">\n",
       "      <th></th>\n",
       "      <th>Id</th>\n",
       "      <th>SepalLengthCm</th>\n",
       "      <th>SepalWidthCm</th>\n",
       "      <th>PetalLengthCm</th>\n",
       "      <th>PetalWidthCm</th>\n",
       "      <th>Species</th>\n",
       "    </tr>\n",
       "  </thead>\n",
       "  <tbody>\n",
       "    <tr>\n",
       "      <th>145</th>\n",
       "      <td>146</td>\n",
       "      <td>6.7</td>\n",
       "      <td>3.0</td>\n",
       "      <td>5.2</td>\n",
       "      <td>2.3</td>\n",
       "      <td>Iris-virginica</td>\n",
       "    </tr>\n",
       "    <tr>\n",
       "      <th>146</th>\n",
       "      <td>147</td>\n",
       "      <td>6.3</td>\n",
       "      <td>2.5</td>\n",
       "      <td>5.0</td>\n",
       "      <td>1.9</td>\n",
       "      <td>Iris-virginica</td>\n",
       "    </tr>\n",
       "    <tr>\n",
       "      <th>147</th>\n",
       "      <td>148</td>\n",
       "      <td>6.5</td>\n",
       "      <td>3.0</td>\n",
       "      <td>5.2</td>\n",
       "      <td>2.0</td>\n",
       "      <td>Iris-virginica</td>\n",
       "    </tr>\n",
       "    <tr>\n",
       "      <th>148</th>\n",
       "      <td>149</td>\n",
       "      <td>6.2</td>\n",
       "      <td>3.4</td>\n",
       "      <td>5.4</td>\n",
       "      <td>2.3</td>\n",
       "      <td>Iris-virginica</td>\n",
       "    </tr>\n",
       "    <tr>\n",
       "      <th>149</th>\n",
       "      <td>150</td>\n",
       "      <td>5.9</td>\n",
       "      <td>3.0</td>\n",
       "      <td>5.1</td>\n",
       "      <td>1.8</td>\n",
       "      <td>Iris-virginica</td>\n",
       "    </tr>\n",
       "  </tbody>\n",
       "</table>\n",
       "</div>"
      ],
      "text/plain": [
       "      Id  SepalLengthCm  SepalWidthCm  PetalLengthCm  PetalWidthCm  \\\n",
       "145  146            6.7           3.0            5.2           2.3   \n",
       "146  147            6.3           2.5            5.0           1.9   \n",
       "147  148            6.5           3.0            5.2           2.0   \n",
       "148  149            6.2           3.4            5.4           2.3   \n",
       "149  150            5.9           3.0            5.1           1.8   \n",
       "\n",
       "            Species  \n",
       "145  Iris-virginica  \n",
       "146  Iris-virginica  \n",
       "147  Iris-virginica  \n",
       "148  Iris-virginica  \n",
       "149  Iris-virginica  "
      ]
     },
     "execution_count": 8,
     "metadata": {},
     "output_type": "execute_result"
    }
   ],
   "source": [
    "data1.tail()"
   ]
  },
  {
   "cell_type": "code",
   "execution_count": 11,
   "metadata": {},
   "outputs": [
    {
     "data": {
      "text/html": [
       "<div>\n",
       "<style>\n",
       "    .dataframe thead tr:only-child th {\n",
       "        text-align: right;\n",
       "    }\n",
       "\n",
       "    .dataframe thead th {\n",
       "        text-align: left;\n",
       "    }\n",
       "\n",
       "    .dataframe tbody tr th {\n",
       "        vertical-align: top;\n",
       "    }\n",
       "</style>\n",
       "<table border=\"1\" class=\"dataframe\">\n",
       "  <thead>\n",
       "    <tr style=\"text-align: right;\">\n",
       "      <th></th>\n",
       "      <th>Id</th>\n",
       "      <th>SepalLengthCm</th>\n",
       "      <th>SepalWidthCm</th>\n",
       "      <th>PetalLengthCm</th>\n",
       "      <th>PetalWidthCm</th>\n",
       "    </tr>\n",
       "  </thead>\n",
       "  <tbody>\n",
       "    <tr>\n",
       "      <th>count</th>\n",
       "      <td>150.000000</td>\n",
       "      <td>150.000000</td>\n",
       "      <td>150.000000</td>\n",
       "      <td>150.000000</td>\n",
       "      <td>150.000000</td>\n",
       "    </tr>\n",
       "    <tr>\n",
       "      <th>mean</th>\n",
       "      <td>75.500000</td>\n",
       "      <td>5.843333</td>\n",
       "      <td>3.054000</td>\n",
       "      <td>3.758667</td>\n",
       "      <td>1.198667</td>\n",
       "    </tr>\n",
       "    <tr>\n",
       "      <th>std</th>\n",
       "      <td>43.445368</td>\n",
       "      <td>0.828066</td>\n",
       "      <td>0.433594</td>\n",
       "      <td>1.764420</td>\n",
       "      <td>0.763161</td>\n",
       "    </tr>\n",
       "    <tr>\n",
       "      <th>min</th>\n",
       "      <td>1.000000</td>\n",
       "      <td>4.300000</td>\n",
       "      <td>2.000000</td>\n",
       "      <td>1.000000</td>\n",
       "      <td>0.100000</td>\n",
       "    </tr>\n",
       "    <tr>\n",
       "      <th>25%</th>\n",
       "      <td>38.250000</td>\n",
       "      <td>5.100000</td>\n",
       "      <td>2.800000</td>\n",
       "      <td>1.600000</td>\n",
       "      <td>0.300000</td>\n",
       "    </tr>\n",
       "    <tr>\n",
       "      <th>50%</th>\n",
       "      <td>75.500000</td>\n",
       "      <td>5.800000</td>\n",
       "      <td>3.000000</td>\n",
       "      <td>4.350000</td>\n",
       "      <td>1.300000</td>\n",
       "    </tr>\n",
       "    <tr>\n",
       "      <th>75%</th>\n",
       "      <td>112.750000</td>\n",
       "      <td>6.400000</td>\n",
       "      <td>3.300000</td>\n",
       "      <td>5.100000</td>\n",
       "      <td>1.800000</td>\n",
       "    </tr>\n",
       "    <tr>\n",
       "      <th>max</th>\n",
       "      <td>150.000000</td>\n",
       "      <td>7.900000</td>\n",
       "      <td>4.400000</td>\n",
       "      <td>6.900000</td>\n",
       "      <td>2.500000</td>\n",
       "    </tr>\n",
       "  </tbody>\n",
       "</table>\n",
       "</div>"
      ],
      "text/plain": [
       "               Id  SepalLengthCm  SepalWidthCm  PetalLengthCm  PetalWidthCm\n",
       "count  150.000000     150.000000    150.000000     150.000000    150.000000\n",
       "mean    75.500000       5.843333      3.054000       3.758667      1.198667\n",
       "std     43.445368       0.828066      0.433594       1.764420      0.763161\n",
       "min      1.000000       4.300000      2.000000       1.000000      0.100000\n",
       "25%     38.250000       5.100000      2.800000       1.600000      0.300000\n",
       "50%     75.500000       5.800000      3.000000       4.350000      1.300000\n",
       "75%    112.750000       6.400000      3.300000       5.100000      1.800000\n",
       "max    150.000000       7.900000      4.400000       6.900000      2.500000"
      ]
     },
     "execution_count": 11,
     "metadata": {},
     "output_type": "execute_result"
    }
   ],
   "source": [
    "data1.describe()"
   ]
  },
  {
   "cell_type": "markdown",
   "metadata": {},
   "source": [
    "### Data Cleaning"
   ]
  },
  {
   "cell_type": "code",
   "execution_count": null,
   "metadata": {
    "collapsed": true
   },
   "outputs": [],
   "source": []
  },
  {
   "cell_type": "code",
   "execution_count": null,
   "metadata": {
    "collapsed": true
   },
   "outputs": [],
   "source": []
  },
  {
   "cell_type": "code",
   "execution_count": null,
   "metadata": {
    "collapsed": true
   },
   "outputs": [],
   "source": []
  },
  {
   "cell_type": "code",
   "execution_count": null,
   "metadata": {
    "collapsed": true
   },
   "outputs": [],
   "source": []
  },
  {
   "cell_type": "code",
   "execution_count": null,
   "metadata": {
    "collapsed": true
   },
   "outputs": [],
   "source": []
  },
  {
   "cell_type": "code",
   "execution_count": null,
   "metadata": {
    "collapsed": true
   },
   "outputs": [],
   "source": []
  },
  {
   "cell_type": "markdown",
   "metadata": {},
   "source": [
    "### Data Visualization"
   ]
  },
  {
   "cell_type": "code",
   "execution_count": 57,
   "metadata": {
    "collapsed": true
   },
   "outputs": [],
   "source": [
    "import matplotlib.pyplot as plt\n",
    "import seaborn as sns; sns.set()\n",
    "%matplotlib inline"
   ]
  },
  {
   "cell_type": "code",
   "execution_count": 58,
   "metadata": {},
   "outputs": [
    {
     "data": {
      "text/html": [
       "<div>\n",
       "<style>\n",
       "    .dataframe thead tr:only-child th {\n",
       "        text-align: right;\n",
       "    }\n",
       "\n",
       "    .dataframe thead th {\n",
       "        text-align: left;\n",
       "    }\n",
       "\n",
       "    .dataframe tbody tr th {\n",
       "        vertical-align: top;\n",
       "    }\n",
       "</style>\n",
       "<table border=\"1\" class=\"dataframe\">\n",
       "  <thead>\n",
       "    <tr style=\"text-align: right;\">\n",
       "      <th></th>\n",
       "      <th>sepal_length</th>\n",
       "      <th>sepal_width</th>\n",
       "      <th>petal_length</th>\n",
       "      <th>petal_width</th>\n",
       "      <th>species</th>\n",
       "    </tr>\n",
       "  </thead>\n",
       "  <tbody>\n",
       "    <tr>\n",
       "      <th>0</th>\n",
       "      <td>5.1</td>\n",
       "      <td>3.5</td>\n",
       "      <td>1.4</td>\n",
       "      <td>0.2</td>\n",
       "      <td>setosa</td>\n",
       "    </tr>\n",
       "    <tr>\n",
       "      <th>1</th>\n",
       "      <td>4.9</td>\n",
       "      <td>3.0</td>\n",
       "      <td>1.4</td>\n",
       "      <td>0.2</td>\n",
       "      <td>setosa</td>\n",
       "    </tr>\n",
       "    <tr>\n",
       "      <th>2</th>\n",
       "      <td>4.7</td>\n",
       "      <td>3.2</td>\n",
       "      <td>1.3</td>\n",
       "      <td>0.2</td>\n",
       "      <td>setosa</td>\n",
       "    </tr>\n",
       "    <tr>\n",
       "      <th>3</th>\n",
       "      <td>4.6</td>\n",
       "      <td>3.1</td>\n",
       "      <td>1.5</td>\n",
       "      <td>0.2</td>\n",
       "      <td>setosa</td>\n",
       "    </tr>\n",
       "    <tr>\n",
       "      <th>4</th>\n",
       "      <td>5.0</td>\n",
       "      <td>3.6</td>\n",
       "      <td>1.4</td>\n",
       "      <td>0.2</td>\n",
       "      <td>setosa</td>\n",
       "    </tr>\n",
       "  </tbody>\n",
       "</table>\n",
       "</div>"
      ],
      "text/plain": [
       "   sepal_length  sepal_width  petal_length  petal_width species\n",
       "0           5.1          3.5           1.4          0.2  setosa\n",
       "1           4.9          3.0           1.4          0.2  setosa\n",
       "2           4.7          3.2           1.3          0.2  setosa\n",
       "3           4.6          3.1           1.5          0.2  setosa\n",
       "4           5.0          3.6           1.4          0.2  setosa"
      ]
     },
     "execution_count": 58,
     "metadata": {},
     "output_type": "execute_result"
    }
   ],
   "source": [
    "iris = sns.load_dataset(\"iris\")\n",
    "iris.head()"
   ]
  },
  {
   "cell_type": "code",
   "execution_count": 59,
   "metadata": {},
   "outputs": [
    {
     "data": {
      "text/plain": [
       "<matplotlib.axes._subplots.AxesSubplot at 0x282d9074128>"
      ]
     },
     "execution_count": 59,
     "metadata": {},
     "output_type": "execute_result"
    },
    {
     "data": {
      "image/png": "[encoded data removed]",
      "text/plain": [
       "<matplotlib.figure.Figure at 0x282d9028e48>"
      ]
     },
     "metadata": {},
     "output_type": "display_data"
    }
   ],
   "source": [
    "sns.distplot(iris.sepal_length)"
   ]
  },
  {
   "cell_type": "code",
   "execution_count": 60,
   "metadata": {},
   "outputs": [
    {
     "data": {
      "image/png": "[encoded data removed]",
      "text/plain": [
       "<matplotlib.figure.Figure at 0x282d909b9e8>"
      ]
     },
     "metadata": {},
     "output_type": "display_data"
    }
   ],
   "source": [
    "g = sns.PairGrid(iris)\n",
    "g = g.map(plt.scatter)"
   ]
  },
  {
   "cell_type": "code",
   "execution_count": 48,
   "metadata": {
    "collapsed": true
   },
   "outputs": [],
   "source": []
  },
  {
   "cell_type": "code",
   "execution_count": 47,
   "metadata": {},
   "outputs": [
    {
     "data": {
      "text/plain": [
       "<seaborn.axisgrid.PairGrid at 0x282d7b880b8>"
      ]
     },
     "execution_count": 47,
     "metadata": {},
     "output_type": "execute_result"
    }
   ],
   "source": []
  },
  {
   "cell_type": "markdown",
   "metadata": {
    "collapsed": true
   },
   "source": [
    "## Data 2: DTA (Stata) File"
   ]
  },
  {
   "cell_type": "code",
   "execution_count": 7,
   "metadata": {},
   "outputs": [
    {
     "data": {
      "text/plain": [
       "['desktop.ini',\n",
       " 'PASEC2014_GRADE2-SPSS.sav',\n",
       " 'PASEC2014_GRADE2.dta',\n",
       " 'PASEC2014_GRADE6-SPSS.sav',\n",
       " 'PASEC2014_GRADE6.dta']"
      ]
     },
     "execution_count": 7,
     "metadata": {},
     "output_type": "execute_result"
    }
   ],
   "source": [
    "import os\n",
    "os.chdir('C:\\\\Users\\\\iriley\\\\Google Drive\\\\B. Asistente de investigación\\\\Dr. Baum\\\\###SACMEQ. PASEC private school analysis\\\\Data\\\\PASEC data\\\\PASEC 2014\\\\Data')\n",
    "os.listdir()"
   ]
  },
  {
   "cell_type": "code",
   "execution_count": 9,
   "metadata": {
    "collapsed": true
   },
   "outputs": [],
   "source": [
    "data2 = pd.read_stata('PASEC2014_GRADE6.dta')"
   ]
  },
  {
   "cell_type": "code",
   "execution_count": 10,
   "metadata": {},
   "outputs": [
    {
     "data": {
      "text/html": [
       "<div>\n",
       "<style>\n",
       "    .dataframe thead tr:only-child th {\n",
       "        text-align: right;\n",
       "    }\n",
       "\n",
       "    .dataframe thead th {\n",
       "        text-align: left;\n",
       "    }\n",
       "\n",
       "    .dataframe tbody tr th {\n",
       "        vertical-align: top;\n",
       "    }\n",
       "</style>\n",
       "<table border=\"1\" class=\"dataframe\">\n",
       "  <thead>\n",
       "    <tr style=\"text-align: right;\">\n",
       "      <th></th>\n",
       "      <th>ID_PAYS</th>\n",
       "      <th>PAYS</th>\n",
       "      <th>ID_TOT</th>\n",
       "      <th>ID_ECOLE</th>\n",
       "      <th>ID_ELEVE</th>\n",
       "      <th>ID_STRATE</th>\n",
       "      <th>ID_LIVRET</th>\n",
       "      <th>LECT_PV1</th>\n",
       "      <th>LECT_PV2</th>\n",
       "      <th>LECT_PV3</th>\n",
       "      <th>...</th>\n",
       "      <th>rwgt81</th>\n",
       "      <th>rwgt82</th>\n",
       "      <th>rwgt83</th>\n",
       "      <th>rwgt84</th>\n",
       "      <th>rwgt85</th>\n",
       "      <th>rwgt86</th>\n",
       "      <th>rwgt87</th>\n",
       "      <th>rwgt88</th>\n",
       "      <th>rwgt89</th>\n",
       "      <th>rwgt90</th>\n",
       "    </tr>\n",
       "  </thead>\n",
       "  <tbody>\n",
       "    <tr>\n",
       "      <th>0</th>\n",
       "      <td>1</td>\n",
       "      <td>BENIN</td>\n",
       "      <td>0101100102</td>\n",
       "      <td>011001</td>\n",
       "      <td>02</td>\n",
       "      <td>BEN:Atacora-Donga</td>\n",
       "      <td>A</td>\n",
       "      <td>566.397583</td>\n",
       "      <td>499.803650</td>\n",
       "      <td>492.445557</td>\n",
       "      <td>...</td>\n",
       "      <td>23.263889</td>\n",
       "      <td>23.263889</td>\n",
       "      <td>23.263889</td>\n",
       "      <td>23.263889</td>\n",
       "      <td>23.263889</td>\n",
       "      <td>23.263889</td>\n",
       "      <td>23.263889</td>\n",
       "      <td>23.263889</td>\n",
       "      <td>23.263889</td>\n",
       "      <td>23.263889</td>\n",
       "    </tr>\n",
       "    <tr>\n",
       "      <th>1</th>\n",
       "      <td>1</td>\n",
       "      <td>BENIN</td>\n",
       "      <td>0101100106</td>\n",
       "      <td>011001</td>\n",
       "      <td>06</td>\n",
       "      <td>BEN:Atacora-Donga</td>\n",
       "      <td>B</td>\n",
       "      <td>544.891785</td>\n",
       "      <td>515.615479</td>\n",
       "      <td>537.782715</td>\n",
       "      <td>...</td>\n",
       "      <td>23.263889</td>\n",
       "      <td>23.263889</td>\n",
       "      <td>23.263889</td>\n",
       "      <td>23.263889</td>\n",
       "      <td>23.263889</td>\n",
       "      <td>23.263889</td>\n",
       "      <td>23.263889</td>\n",
       "      <td>23.263889</td>\n",
       "      <td>23.263889</td>\n",
       "      <td>23.263889</td>\n",
       "    </tr>\n",
       "    <tr>\n",
       "      <th>2</th>\n",
       "      <td>1</td>\n",
       "      <td>BENIN</td>\n",
       "      <td>0101100107</td>\n",
       "      <td>011001</td>\n",
       "      <td>07</td>\n",
       "      <td>BEN:Atacora-Donga</td>\n",
       "      <td>B</td>\n",
       "      <td>669.836487</td>\n",
       "      <td>747.771667</td>\n",
       "      <td>752.336670</td>\n",
       "      <td>...</td>\n",
       "      <td>23.263889</td>\n",
       "      <td>23.263889</td>\n",
       "      <td>23.263889</td>\n",
       "      <td>23.263889</td>\n",
       "      <td>23.263889</td>\n",
       "      <td>23.263889</td>\n",
       "      <td>23.263889</td>\n",
       "      <td>23.263889</td>\n",
       "      <td>23.263889</td>\n",
       "      <td>23.263889</td>\n",
       "    </tr>\n",
       "    <tr>\n",
       "      <th>3</th>\n",
       "      <td>1</td>\n",
       "      <td>BENIN</td>\n",
       "      <td>0101100111</td>\n",
       "      <td>011001</td>\n",
       "      <td>11</td>\n",
       "      <td>BEN:Atacora-Donga</td>\n",
       "      <td>C</td>\n",
       "      <td>722.919250</td>\n",
       "      <td>774.398743</td>\n",
       "      <td>779.477539</td>\n",
       "      <td>...</td>\n",
       "      <td>23.263889</td>\n",
       "      <td>23.263889</td>\n",
       "      <td>23.263889</td>\n",
       "      <td>23.263889</td>\n",
       "      <td>23.263889</td>\n",
       "      <td>23.263889</td>\n",
       "      <td>23.263889</td>\n",
       "      <td>23.263889</td>\n",
       "      <td>23.263889</td>\n",
       "      <td>23.263889</td>\n",
       "    </tr>\n",
       "    <tr>\n",
       "      <th>4</th>\n",
       "      <td>1</td>\n",
       "      <td>BENIN</td>\n",
       "      <td>0101100112</td>\n",
       "      <td>011001</td>\n",
       "      <td>12</td>\n",
       "      <td>BEN:Atacora-Donga</td>\n",
       "      <td>C</td>\n",
       "      <td>621.764648</td>\n",
       "      <td>604.541443</td>\n",
       "      <td>580.500854</td>\n",
       "      <td>...</td>\n",
       "      <td>23.263889</td>\n",
       "      <td>23.263889</td>\n",
       "      <td>23.263889</td>\n",
       "      <td>23.263889</td>\n",
       "      <td>23.263889</td>\n",
       "      <td>23.263889</td>\n",
       "      <td>23.263889</td>\n",
       "      <td>23.263889</td>\n",
       "      <td>23.263889</td>\n",
       "      <td>23.263889</td>\n",
       "    </tr>\n",
       "  </tbody>\n",
       "</table>\n",
       "<p>5 rows × 903 columns</p>\n",
       "</div>"
      ],
      "text/plain": [
       "   ID_PAYS   PAYS      ID_TOT ID_ECOLE ID_ELEVE          ID_STRATE ID_LIVRET  \\\n",
       "0        1  BENIN  0101100102   011001       02  BEN:Atacora-Donga         A   \n",
       "1        1  BENIN  0101100106   011001       06  BEN:Atacora-Donga         B   \n",
       "2        1  BENIN  0101100107   011001       07  BEN:Atacora-Donga         B   \n",
       "3        1  BENIN  0101100111   011001       11  BEN:Atacora-Donga         C   \n",
       "4        1  BENIN  0101100112   011001       12  BEN:Atacora-Donga         C   \n",
       "\n",
       "     LECT_PV1    LECT_PV2    LECT_PV3    ...         rwgt81     rwgt82  \\\n",
       "0  566.397583  499.803650  492.445557    ...      23.263889  23.263889   \n",
       "1  544.891785  515.615479  537.782715    ...      23.263889  23.263889   \n",
       "2  669.836487  747.771667  752.336670    ...      23.263889  23.263889   \n",
       "3  722.919250  774.398743  779.477539    ...      23.263889  23.263889   \n",
       "4  621.764648  604.541443  580.500854    ...      23.263889  23.263889   \n",
       "\n",
       "      rwgt83     rwgt84     rwgt85     rwgt86     rwgt87     rwgt88  \\\n",
       "0  23.263889  23.263889  23.263889  23.263889  23.263889  23.263889   \n",
       "1  23.263889  23.263889  23.263889  23.263889  23.263889  23.263889   \n",
       "2  23.263889  23.263889  23.263889  23.263889  23.263889  23.263889   \n",
       "3  23.263889  23.263889  23.263889  23.263889  23.263889  23.263889   \n",
       "4  23.263889  23.263889  23.263889  23.263889  23.263889  23.263889   \n",
       "\n",
       "      rwgt89     rwgt90  \n",
       "0  23.263889  23.263889  \n",
       "1  23.263889  23.263889  \n",
       "2  23.263889  23.263889  \n",
       "3  23.263889  23.263889  \n",
       "4  23.263889  23.263889  \n",
       "\n",
       "[5 rows x 903 columns]"
      ]
     },
     "execution_count": 10,
     "metadata": {},
     "output_type": "execute_result"
    }
   ],
   "source": [
    "data2.head()"
   ]
  },
  {
   "cell_type": "code",
   "execution_count": 11,
   "metadata": {},
   "outputs": [
    {
     "data": {
      "text/html": [
       "<div>\n",
       "<style>\n",
       "    .dataframe thead tr:only-child th {\n",
       "        text-align: right;\n",
       "    }\n",
       "\n",
       "    .dataframe thead th {\n",
       "        text-align: left;\n",
       "    }\n",
       "\n",
       "    .dataframe tbody tr th {\n",
       "        vertical-align: top;\n",
       "    }\n",
       "</style>\n",
       "<table border=\"1\" class=\"dataframe\">\n",
       "  <thead>\n",
       "    <tr style=\"text-align: right;\">\n",
       "      <th></th>\n",
       "      <th>ID_PAYS</th>\n",
       "      <th>LECT_PV1</th>\n",
       "      <th>LECT_PV2</th>\n",
       "      <th>LECT_PV3</th>\n",
       "      <th>LECT_PV4</th>\n",
       "      <th>LECT_PV5</th>\n",
       "      <th>MATHS_PV1</th>\n",
       "      <th>MATHS_PV2</th>\n",
       "      <th>MATHS_PV3</th>\n",
       "      <th>MATHS_PV4</th>\n",
       "      <th>...</th>\n",
       "      <th>rwgt81</th>\n",
       "      <th>rwgt82</th>\n",
       "      <th>rwgt83</th>\n",
       "      <th>rwgt84</th>\n",
       "      <th>rwgt85</th>\n",
       "      <th>rwgt86</th>\n",
       "      <th>rwgt87</th>\n",
       "      <th>rwgt88</th>\n",
       "      <th>rwgt89</th>\n",
       "      <th>rwgt90</th>\n",
       "    </tr>\n",
       "  </thead>\n",
       "  <tbody>\n",
       "    <tr>\n",
       "      <th>count</th>\n",
       "      <td>31213.000000</td>\n",
       "      <td>31213.000000</td>\n",
       "      <td>31213.000000</td>\n",
       "      <td>31213.000000</td>\n",
       "      <td>31213.000000</td>\n",
       "      <td>31213.000000</td>\n",
       "      <td>31213.000000</td>\n",
       "      <td>31213.000000</td>\n",
       "      <td>31213.000000</td>\n",
       "      <td>31213.000000</td>\n",
       "      <td>...</td>\n",
       "      <td>31213.000000</td>\n",
       "      <td>31213.000000</td>\n",
       "      <td>31213.000000</td>\n",
       "      <td>31213.000000</td>\n",
       "      <td>31213.000000</td>\n",
       "      <td>31213.000000</td>\n",
       "      <td>31213.000000</td>\n",
       "      <td>31213.000000</td>\n",
       "      <td>31213.000000</td>\n",
       "      <td>31213.000000</td>\n",
       "    </tr>\n",
       "    <tr>\n",
       "      <th>mean</th>\n",
       "      <td>5.358056</td>\n",
       "      <td>498.126648</td>\n",
       "      <td>498.336243</td>\n",
       "      <td>498.061615</td>\n",
       "      <td>498.082611</td>\n",
       "      <td>498.086853</td>\n",
       "      <td>498.721802</td>\n",
       "      <td>498.739624</td>\n",
       "      <td>498.593811</td>\n",
       "      <td>498.400635</td>\n",
       "      <td>...</td>\n",
       "      <td>64.913628</td>\n",
       "      <td>65.013405</td>\n",
       "      <td>65.073517</td>\n",
       "      <td>65.086029</td>\n",
       "      <td>65.062080</td>\n",
       "      <td>65.073898</td>\n",
       "      <td>65.046227</td>\n",
       "      <td>65.063942</td>\n",
       "      <td>65.074043</td>\n",
       "      <td>65.094604</td>\n",
       "    </tr>\n",
       "    <tr>\n",
       "      <th>std</th>\n",
       "      <td>2.863777</td>\n",
       "      <td>98.568680</td>\n",
       "      <td>98.082939</td>\n",
       "      <td>98.357216</td>\n",
       "      <td>98.483498</td>\n",
       "      <td>98.336494</td>\n",
       "      <td>99.938622</td>\n",
       "      <td>99.853416</td>\n",
       "      <td>99.796074</td>\n",
       "      <td>99.748383</td>\n",
       "      <td>...</td>\n",
       "      <td>60.136086</td>\n",
       "      <td>60.327938</td>\n",
       "      <td>60.328693</td>\n",
       "      <td>60.339352</td>\n",
       "      <td>60.231697</td>\n",
       "      <td>60.251076</td>\n",
       "      <td>60.237564</td>\n",
       "      <td>60.232182</td>\n",
       "      <td>60.252689</td>\n",
       "      <td>60.212868</td>\n",
       "    </tr>\n",
       "    <tr>\n",
       "      <th>min</th>\n",
       "      <td>1.000000</td>\n",
       "      <td>79.725060</td>\n",
       "      <td>68.189354</td>\n",
       "      <td>79.354782</td>\n",
       "      <td>90.684532</td>\n",
       "      <td>42.610943</td>\n",
       "      <td>90.900574</td>\n",
       "      <td>117.043015</td>\n",
       "      <td>45.529194</td>\n",
       "      <td>81.243835</td>\n",
       "      <td>...</td>\n",
       "      <td>0.000000</td>\n",
       "      <td>0.000000</td>\n",
       "      <td>0.000000</td>\n",
       "      <td>0.000000</td>\n",
       "      <td>0.000000</td>\n",
       "      <td>0.000000</td>\n",
       "      <td>0.000000</td>\n",
       "      <td>0.000000</td>\n",
       "      <td>0.000000</td>\n",
       "      <td>0.000000</td>\n",
       "    </tr>\n",
       "    <tr>\n",
       "      <th>25%</th>\n",
       "      <td>3.000000</td>\n",
       "      <td>426.925720</td>\n",
       "      <td>428.211792</td>\n",
       "      <td>427.204987</td>\n",
       "      <td>427.459412</td>\n",
       "      <td>426.866791</td>\n",
       "      <td>426.106476</td>\n",
       "      <td>426.034485</td>\n",
       "      <td>425.481415</td>\n",
       "      <td>425.925934</td>\n",
       "      <td>...</td>\n",
       "      <td>30.018551</td>\n",
       "      <td>30.112415</td>\n",
       "      <td>30.152498</td>\n",
       "      <td>30.255133</td>\n",
       "      <td>30.187500</td>\n",
       "      <td>30.255133</td>\n",
       "      <td>30.112415</td>\n",
       "      <td>30.200686</td>\n",
       "      <td>30.255133</td>\n",
       "      <td>30.255133</td>\n",
       "    </tr>\n",
       "    <tr>\n",
       "      <th>50%</th>\n",
       "      <td>5.000000</td>\n",
       "      <td>496.688843</td>\n",
       "      <td>497.100281</td>\n",
       "      <td>496.635712</td>\n",
       "      <td>497.041718</td>\n",
       "      <td>496.913940</td>\n",
       "      <td>495.073425</td>\n",
       "      <td>495.382111</td>\n",
       "      <td>495.555603</td>\n",
       "      <td>495.418884</td>\n",
       "      <td>...</td>\n",
       "      <td>48.529591</td>\n",
       "      <td>48.434734</td>\n",
       "      <td>48.575741</td>\n",
       "      <td>48.644646</td>\n",
       "      <td>48.575741</td>\n",
       "      <td>48.575741</td>\n",
       "      <td>48.652691</td>\n",
       "      <td>48.644646</td>\n",
       "      <td>48.575741</td>\n",
       "      <td>48.652691</td>\n",
       "    </tr>\n",
       "    <tr>\n",
       "      <th>75%</th>\n",
       "      <td>8.000000</td>\n",
       "      <td>564.155518</td>\n",
       "      <td>564.057983</td>\n",
       "      <td>564.261841</td>\n",
       "      <td>564.316284</td>\n",
       "      <td>563.944397</td>\n",
       "      <td>568.470520</td>\n",
       "      <td>568.328308</td>\n",
       "      <td>568.302551</td>\n",
       "      <td>568.005859</td>\n",
       "      <td>...</td>\n",
       "      <td>80.875084</td>\n",
       "      <td>80.662575</td>\n",
       "      <td>80.662575</td>\n",
       "      <td>80.636955</td>\n",
       "      <td>80.662575</td>\n",
       "      <td>80.662575</td>\n",
       "      <td>80.490936</td>\n",
       "      <td>80.662575</td>\n",
       "      <td>80.636955</td>\n",
       "      <td>80.662575</td>\n",
       "    </tr>\n",
       "    <tr>\n",
       "      <th>max</th>\n",
       "      <td>10.000000</td>\n",
       "      <td>858.717163</td>\n",
       "      <td>865.001892</td>\n",
       "      <td>868.793213</td>\n",
       "      <td>860.535706</td>\n",
       "      <td>871.814514</td>\n",
       "      <td>912.209351</td>\n",
       "      <td>888.806763</td>\n",
       "      <td>922.163452</td>\n",
       "      <td>886.264771</td>\n",
       "      <td>...</td>\n",
       "      <td>752.774475</td>\n",
       "      <td>752.774475</td>\n",
       "      <td>752.774475</td>\n",
       "      <td>752.774475</td>\n",
       "      <td>752.774475</td>\n",
       "      <td>752.774475</td>\n",
       "      <td>752.774475</td>\n",
       "      <td>752.774475</td>\n",
       "      <td>752.774475</td>\n",
       "      <td>752.774475</td>\n",
       "    </tr>\n",
       "  </tbody>\n",
       "</table>\n",
       "<p>8 rows × 331 columns</p>\n",
       "</div>"
      ],
      "text/plain": [
       "            ID_PAYS      LECT_PV1      LECT_PV2      LECT_PV3      LECT_PV4  \\\n",
       "count  31213.000000  31213.000000  31213.000000  31213.000000  31213.000000   \n",
       "mean       5.358056    498.126648    498.336243    498.061615    498.082611   \n",
       "std        2.863777     98.568680     98.082939     98.357216     98.483498   \n",
       "min        1.000000     79.725060     68.189354     79.354782     90.684532   \n",
       "25%        3.000000    426.925720    428.211792    427.204987    427.459412   \n",
       "50%        5.000000    496.688843    497.100281    496.635712    497.041718   \n",
       "75%        8.000000    564.155518    564.057983    564.261841    564.316284   \n",
       "max       10.000000    858.717163    865.001892    868.793213    860.535706   \n",
       "\n",
       "           LECT_PV5     MATHS_PV1     MATHS_PV2     MATHS_PV3     MATHS_PV4  \\\n",
       "count  31213.000000  31213.000000  31213.000000  31213.000000  31213.000000   \n",
       "mean     498.086853    498.721802    498.739624    498.593811    498.400635   \n",
       "std       98.336494     99.938622     99.853416     99.796074     99.748383   \n",
       "min       42.610943     90.900574    117.043015     45.529194     81.243835   \n",
       "25%      426.866791    426.106476    426.034485    425.481415    425.925934   \n",
       "50%      496.913940    495.073425    495.382111    495.555603    495.418884   \n",
       "75%      563.944397    568.470520    568.328308    568.302551    568.005859   \n",
       "max      871.814514    912.209351    888.806763    922.163452    886.264771   \n",
       "\n",
       "           ...             rwgt81        rwgt82        rwgt83        rwgt84  \\\n",
       "count      ...       31213.000000  31213.000000  31213.000000  31213.000000   \n",
       "mean       ...          64.913628     65.013405     65.073517     65.086029   \n",
       "std        ...          60.136086     60.327938     60.328693     60.339352   \n",
       "min        ...           0.000000      0.000000      0.000000      0.000000   \n",
       "25%        ...          30.018551     30.112415     30.152498     30.255133   \n",
       "50%        ...          48.529591     48.434734     48.575741     48.644646   \n",
       "75%        ...          80.875084     80.662575     80.662575     80.636955   \n",
       "max        ...         752.774475    752.774475    752.774475    752.774475   \n",
       "\n",
       "             rwgt85        rwgt86        rwgt87        rwgt88        rwgt89  \\\n",
       "count  31213.000000  31213.000000  31213.000000  31213.000000  31213.000000   \n",
       "mean      65.062080     65.073898     65.046227     65.063942     65.074043   \n",
       "std       60.231697     60.251076     60.237564     60.232182     60.252689   \n",
       "min        0.000000      0.000000      0.000000      0.000000      0.000000   \n",
       "25%       30.187500     30.255133     30.112415     30.200686     30.255133   \n",
       "50%       48.575741     48.575741     48.652691     48.644646     48.575741   \n",
       "75%       80.662575     80.662575     80.490936     80.662575     80.636955   \n",
       "max      752.774475    752.774475    752.774475    752.774475    752.774475   \n",
       "\n",
       "             rwgt90  \n",
       "count  31213.000000  \n",
       "mean      65.094604  \n",
       "std       60.212868  \n",
       "min        0.000000  \n",
       "25%       30.255133  \n",
       "50%       48.652691  \n",
       "75%       80.662575  \n",
       "max      752.774475  \n",
       "\n",
       "[8 rows x 331 columns]"
      ]
     },
     "execution_count": 11,
     "metadata": {},
     "output_type": "execute_result"
    }
   ],
   "source": [
    "data2.describe()"
   ]
  },
  {
   "cell_type": "code",
   "execution_count": null,
   "metadata": {
    "collapsed": true
   },
   "outputs": [],
   "source": []
  },
  {
   "cell_type": "markdown",
   "metadata": {},
   "source": [
    "### Data Cleaning"
   ]
  },
  {
   "cell_type": "code",
   "execution_count": null,
   "metadata": {
    "collapsed": true
   },
   "outputs": [],
   "source": []
  },
  {
   "cell_type": "code",
   "execution_count": null,
   "metadata": {
    "collapsed": true
   },
   "outputs": [],
   "source": []
  },
  {
   "cell_type": "code",
   "execution_count": null,
   "metadata": {
    "collapsed": true
   },
   "outputs": [],
   "source": []
  },
  {
   "cell_type": "code",
   "execution_count": null,
   "metadata": {
    "collapsed": true
   },
   "outputs": [],
   "source": []
  },
  {
   "cell_type": "code",
   "execution_count": null,
   "metadata": {
    "collapsed": true
   },
   "outputs": [],
   "source": []
  },
  {
   "cell_type": "code",
   "execution_count": null,
   "metadata": {
    "collapsed": true
   },
   "outputs": [],
   "source": []
  },
  {
   "cell_type": "markdown",
   "metadata": {},
   "source": [
    "### Data Visualization"
   ]
  },
  {
   "cell_type": "code",
   "execution_count": null,
   "metadata": {
    "collapsed": true
   },
   "outputs": [],
   "source": []
  },
  {
   "cell_type": "code",
   "execution_count": null,
   "metadata": {
    "collapsed": true
   },
   "outputs": [],
   "source": []
  },
  {
   "cell_type": "code",
   "execution_count": null,
   "metadata": {
    "collapsed": true
   },
   "outputs": [],
   "source": []
  },
  {
   "cell_type": "code",
   "execution_count": null,
   "metadata": {
    "collapsed": true
   },
   "outputs": [],
   "source": []
  },
  {
   "cell_type": "code",
   "execution_count": null,
   "metadata": {
    "collapsed": true
   },
   "outputs": [],
   "source": []
  },
  {
   "cell_type": "code",
   "execution_count": null,
   "metadata": {
    "collapsed": true
   },
   "outputs": [],
   "source": []
  },
  {
   "cell_type": "markdown",
   "metadata": {},
   "source": [
    "## Data 3: Web Scraping"
   ]
  },
  {
   "cell_type": "code",
   "execution_count": 22,
   "metadata": {
    "collapsed": true
   },
   "outputs": [],
   "source": [
    "import requests\n",
    "import re"
   ]
  },
  {
   "cell_type": "markdown",
   "metadata": {},
   "source": [
    "Now I define functions to scrape and clean the data I will eventually scrape."
   ]
  },
  {
   "cell_type": "code",
   "execution_count": 25,
   "metadata": {
    "collapsed": true
   },
   "outputs": [],
   "source": [
    "def scraper(lang, vidid):\n",
    "    '''\n",
    "    Scrapes YouTube subtitles from Google's online \n",
    "    subtitle repository, using the video ID.\n",
    "    '''\n",
    "    address = 'http://video.google.com/timedtext?lang=%s&v=%s' % (lang, vidid)\n",
    "    return requests.get(address).text\n",
    "\n",
    "\n",
    "def ytcleaner(html):\n",
    "    '''\n",
    "   Process subtitle xml text scraped from the web\n",
    "    '''\n",
    "    html2 =  re.sub('\" dur=\".*?\">', '_spl_', html)\n",
    "    html3 = re.sub('<.*?=\"', '_n_', html2)\n",
    "    html4 = re.sub('<.*?>', '', html3)\n",
    "    html5 = re.sub('\\n', '', html4)\n",
    "    html6 = re.sub('_n_', '\\n', html5[3:])\n",
    "    html7 = re.sub('&quot;', '\"', html6)\n",
    "    anntext = re.sub('&#39;', \"'\", html7)\n",
    "    return anntext\n",
    "\n",
    "\n",
    "def plaintext(html):\n",
    "    '''\n",
    "    Process subtitle xml text to return a plain text file\n",
    "    '''\n",
    "    html2 =  re.sub('\" dur=\".*?\">', '\\t', html)\n",
    "    html3 = re.sub('<.*?=\"', '_n_', html2)\n",
    "    html4 = re.sub('<.*?>', '', html3)\n",
    "    html5 = re.sub('\\n', '', html4)\n",
    "    html6 = re.sub('_n_', '\\n', html5[3:])\n",
    "    html7 = re.sub('&quot;', '\"', html6)\n",
    "    anntext = re.sub('&#39;', \"'\", html7)\n",
    "    return anntext"
   ]
  },
  {
   "cell_type": "markdown",
   "metadata": {},
   "source": []
  },
  {
   "cell_type": "code",
   "execution_count": 20,
   "metadata": {},
   "outputs": [
    {
     "name": "stdout",
     "output_type": "stream",
     "text": [
      "<?xml version=\"1.0\" encoding=\"utf-8\" ?><transcript><text start=\"5.4\" dur=\"2.81\">The challenge begins with how to pronounce\n",
      "his name.</text><text start=\"8.21\" dur=\"3.44\">The first bit should sound like ‘Knee’, the second like ‘cha’</text><text start=\"11.65\" dur=\"1.21\">Knee – cha.</text><text start=\"12.86\" dur=\"3.76\">Then we need to get past some of his extraordinary\n",
      "and provocative statements:</text><text start=\"16.62\" dur=\"1.76\">‘What doesn’t kill me makes\n",
      "me stronger’</text><text start=\"18.39\" dur=\"2.68\">‘God is dead! And we have killed him.&amp;#39;</text><text start=\"21.07\" dur=\"1.26\">And his large moustache.</text><text start=\"22.33\" dur=\"4.63\">But when we do, we’ll discover a thinker\n",
      "who is intermittently enchanting, wise and</text><text start=\"26.96\" dur=\"1.549\">very helpful.</text><text start=\"28.509\" dur=\"4.481\">Friedrich Nietzsche was born in 1844 in a\n",
      "quiet village in the eastern part of Germany</text><text start=\"32.99\" dur=\"2.13\">where his father was the priest.</text><text start=\"35.12\" dur=\"3.35\">He did exceptionally well at school and university and so excelled at</text><text start=\"38.47\" dur=\"2.06\">ancient Greek that he was made a professor</text><text start=\"40.53\" dur=\"1.52\">at the University of Basel</text><text start=\"42.05\" dur=\"2.34\">when still only in his mid-twenties.</text><text start=\"44.39\" dur=\"4.2\">But his official career didn’t work out.\n",
      "He got fed up with his fellow academics, gave</text><text start=\"48.59\" dur=\"3.27\">up his job and moved to Sils Maria in the\n",
      "Swiss alps</text><text start=\"51.86\" dur=\"2.71\">where he lived quietly, working on his masterpieces,</text><text start=\"54.57\" dur=\"0.77\">among them:</text><text start=\"55.34\" dur=\"1.88\">The Birth of Tragedy,\n",
      "Human, All Too Human,</text><text start=\"57.22\" dur=\"2.04\">The Gay Science, Thus Spoke Zarathustra,</text><text start=\"59.26\" dur=\"2.7\">Beyond Good and Evil,\n",
      "On the Genealogy of Morals,</text><text start=\"61.96\" dur=\"2.82\">He had lots of problems:\n",
      "- he didn’t get on with his family:</text><text start=\"64.78\" dur=\"3.819\">&amp;#39;I don’t like my mother and it’s painful\n",
      "even for me to hear my sister’s voice.’</text><text start=\"68.599\" dur=\"2.191\">- women kept rejecting him.\n",
      "- his books didn’t sell</text><text start=\"70.79\" dur=\"4.57\">- And when he was only forty-four, he had\n",
      "a mental breakdown, precipitated when he saw</text><text start=\"75.36\" dur=\"3.03\">a horse in a Turin street being beaten by its driver</text><text start=\"78.39\" dur=\"4.35\">and ran over to embrace him shouting\n",
      "&amp;#39;I understand you&amp;#39;. He never recovered and</text><text start=\"82.74\" dur=\"2.96\">died eleven sad years later.</text><text start=\"85.7\" dur=\"3.2\">But his philosophy was full of heroism and\n",
      "grandeur.</text><text start=\"88.909\" dur=\"3.051\">He was a prophet of what he called: SELBSTÜBERWINDUNG</text><text start=\"91.96\" dur=\"3.5\">or SELF-OVERCOMING, the process by which a great-souled</text><text start=\"95.46\" dur=\"2.46\">person - what he called an ÜBERMENSCH </text><text start=\"97.92\" dur=\"3.059\">rises above their\n",
      "circumstances and difficulties to embrace</text><text start=\"100.979\" dur=\"2.281\">whatever life throws at them.</text><text start=\"103.26\" dur=\"4.95\">He wanted his work to teach us, as he put\n",
      "it, ‘how to become who we really are’.</text><text start=\"108.21\" dur=\"4.3\">His thought centers around 4 main recommendations:</text><text start=\"113.18\" dur=\"1.799\">Own up to envy</text><text start=\"114.979\" dur=\"4.231\">Envy is – Nietzsche recognised – a big\n",
      "part of life. Yet the lingering effects of</text><text start=\"119.21\" dur=\"2.78\">Christianity generally teaches to be feel ashamed</text><text start=\"121.99\" dur=\"2.09\">of our envious feelings. They seem an</text><text start=\"124.08\" dur=\"3.8\">indication of evil. So we hide them from ourselves\n",
      "and others</text><text start=\"128.22\" dur=\"4.53\">Yet there is nothing wrong with envy, maintained\n",
      "Nietzsche, so long as we use it as a guide</text><text start=\"132.75\" dur=\"5.139\">to what we really want. Every person who makes\n",
      "us envious should be seen as an indication</text><text start=\"137.889\" dur=\"4.35\">of what we could one day become. The envy-inducing\n",
      "writer, tycoon</text><text start=\"142.239\" dur=\"4.18\">or chef is hinting at who you are capable of one day being.</text><text start=\"146.419\" dur=\"3.98\">It&amp;#39;s not that Nietzsche believed we always end up getting what we want. His own life</text><text start=\"150.409\" dur=\"4.34\">had taught him this well enough). He simply\n",
      "insisted that we must face up to our true</text><text start=\"154.749\" dur=\"5.58\">desires, put up a heroic fight to honour them,\n",
      "and only then mourn failure with solemn dignity.</text><text start=\"160.329\" dur=\"2.8\">That is what it means to be an ÜBERMENSCH</text><text start=\"163.129\" dur=\"2.321\">2. Don’t be a Christian</text><text start=\"165.45\" dur=\"2.75\">Nietzsche had some extreme things to say about Christianity</text><text start=\"168.2\" dur=\"2.519\">‘In the entire New Testament, there</text><text start=\"170.719\" dur=\"4.68\">is only person worth respecting: Pilate, the\n",
      "Roman governor.’</text><text start=\"175.4\" dur=\"5\">It was knockabout stuff, but his true target\n",
      "was more subtle and more interesting: he resented</text><text start=\"180.4\" dur=\"4.319\">Christianity for protecting people from their\n",
      "envy.</text><text start=\"184.719\" dur=\"4.03\">Christianity had in Nietzsche’s account\n",
      "emerged in the late Roman Empire</text><text start=\"188.749\" dur=\"2.92\">in the minds of timid slaves, who had lacked the stomach</text><text start=\"191.669\" dur=\"2.29\">to get hold of what they really wanted </text><text start=\"193.959\" dur=\"4.26\">and so had clung to a philosophy that made a virtue of their cowardice.</text><text start=\"198.23\" dur=\"2.64\">He called this SKLAVENMORAL</text><text start=\"200.87\" dur=\"4.349\">Christians - whom he rather rudely termed\n",
      "DIE HEERDE, the herd - had wished to</text><text start=\"205.219\" dur=\"4.321\">enjoy the real ingredients of fulfilment (a\n",
      "position in the world, sex,</text><text start=\"209.54\" dur=\"1.72\">intellectual mastery, creativity)</text><text start=\"211.26\" dur=\"2.679\">but had been too inept\n",
      "to get them.</text><text start=\"213.939\" dur=\"2.961\">They had therefore fashioned a hypocritical\n",
      "creed denouncing what</text><text start=\"216.9\" dur=\"2.349\">they wanted but were too weak to fight for</text><text start=\"219.249\" dur=\"2.39\"> – while praising what they did not want but happened</text><text start=\"221.639\" dur=\"3.88\">to have. So, in the Christian value system, sexlessness</text><text start=\"225.519\" dur=\"4.84\">turned into purity [show text changing] weakness\n",
      "became goodness, submission-to-people-one-hates</text><text start=\"230.359\" dur=\"5.44\">became obedience and, in Nietzsche’s phrase,\n",
      "“not-being-able-to-take-revenge” turned</text><text start=\"235.8\" dur=\"1.78\">into “forgiveness.”</text><text start=\"237.82\" dur=\"3.779\">Christianity amounted to a giant machine for\n",
      "bitter denial.</text><text start=\"242.22\" dur=\"2.5\">3. Never drink alcohol</text><text start=\"244.849\" dur=\"4.31\">Nietzsche himself drank only water – and\n",
      "as a special treat, milk. And he thought we</text><text start=\"249.159\" dur=\"2.81\">should do likewise. He wasn’t making a small,</text><text start=\"251.969\" dur=\"4.311\">eccentric dietary point. The idea went to\n",
      "the heart of his philosophy, as contained</text><text start=\"256.28\" dur=\"4.96\">in his declaration: ‘There have been two\n",
      "great narcotics in European civilisation:</text><text start=\"261.24\" dur=\"2.46\">Christianity and alcohol.’</text><text start=\"263.7\" dur=\"4.68\">He hated alcohol for the very same reasons\n",
      "that he scorned Christianity: because both</text><text start=\"268.389\" dur=\"4.81\">numb pain, and both reassure us that things\n",
      "are just fine as they are, sapping us of the</text><text start=\"273.199\" dur=\"4.391\">will to change our lives for the better. A\n",
      "few drinks usher in a transient feeling of</text><text start=\"277.59\" dur=\"4.5\">satisfaction that can get fatally in the way\n",
      "of taking the steps necessary to improve our</text><text start=\"282.09\" dur=\"1.389\">lives.</text><text start=\"283.479\" dur=\"4.981\">Nietzsche was obsessed with the awkward truth\n",
      "that getting really valuable things done hurts.</text><text start=\"288.46\" dur=\"4.62\">“How little you know of human happiness\n",
      "- you comfortable people” he wrote</text><text start=\"293.08\" dur=\"2.929\">“The secret of a fulfilled life is: live</text><text start=\"296.009\" dur=\"4.41\">dangerously! Build your cities on the slopes\n",
      "of Mount Vesuvius!”</text><text start=\"300.68\" dur=\"2.46\">4. “God is Dead”</text><text start=\"303.14\" dur=\"4.58\">Nietzsche’s dramatic assertion that God\n",
      "is dead is not, as it’s often taken to be,</text><text start=\"307.72\" dur=\"2.92\">some kind of a celebratory statement.</text><text start=\"310.64\" dur=\"4.2\">Despite his reservations about Christianity,\n",
      "Nietzsche did not think that the end of belief</text><text start=\"314.849\" dur=\"2.08\">was anything to cheer about.</text><text start=\"316.929\" dur=\"5.031\">Religious beliefs were false, he knew; but\n",
      "he observed that they were very beneficial</text><text start=\"321.96\" dur=\"3.1\">in the sense of helping us cope with the problems\n",
      "of life.</text><text start=\"325.2\" dur=\"5.02\">Nietzsche felt that the gap left by religion\n",
      "should ideally be filled by Culture (he meant:</text><text start=\"330.22\" dur=\"4.48\">philosophy, art, music, literature): Culture should replace Scripture.</text><text start=\"334.7\" dur=\"4.9\">However, Nietzsche was deeply suspicious of\n",
      "the way his own era was handling culture.</text><text start=\"339.61\" dur=\"2.39\">He believed the universities were killing the humanities,</text><text start=\"342\" dur=\"2.8\">turning them into dry academic exercises,</text><text start=\"344.8\" dur=\"3.1\">rather than using them for what they were always meant to be:</text><text start=\"347.9\" dur=\"1.799\">guides to life. He admired</text><text start=\"349.699\" dur=\"3.981\">the way the Greeks had used tragic drama in a practical, therapeutic way,</text><text start=\"353.68\" dur=\"4.97\">as an occasion for catharsis and moral education\n",
      "– and wished his own age to be comparably</text><text start=\"358.65\" dur=\"1.139\">ambitious.</text><text start=\"359.789\" dur=\"3.791\">He called for a reformation, in which people\n",
      "– newly conscious of the crisis brought</text><text start=\"363.58\" dur=\"4.38\">on by the end of faith – would fill the\n",
      "gaps created by the disappearance of religion</text><text start=\"367.96\" dur=\"2.8\">with philosophy and art.</text><text start=\"370.96\" dur=\"4.72\">Every era faces particular psychological challenges,\n",
      "thought Nietzsche, and it is the task of the</text><text start=\"375.689\" dur=\"3.311\">philosopher to identify, and help solve, these.</text><text start=\"379\" dur=\"2.939\">For Nietzsche, the 19th century was reeling under the impact</text><text start=\"381.939\" dur=\"2.641\">of two developments: Mass Democracy </text><text start=\"384.58\" dur=\"1.889\">and Atheism. The first</text><text start=\"386.469\" dur=\"4.151\">threatened to unleash torrents of undigested\n",
      "envy; the second to</text><text start=\"390.62\" dur=\"2.78\">leave humans without guidance or morality.</text><text start=\"393.4\" dur=\"4.46\">In relation to both challenges, Nietzsche\n",
      "remains our endearing, fascinating often loveable</text><text start=\"397.86\" dur=\"2.94\">and moustachioed guide.</text></transcript>\n"
     ]
    }
   ],
   "source": [
    "html1 = scraper('en', 'wHWbZmg2hzU')\n",
    "print(html1)"
   ]
  },
  {
   "cell_type": "code",
   "execution_count": null,
   "metadata": {
    "collapsed": true
   },
   "outputs": [],
   "source": []
  },
  {
   "cell_type": "code",
   "execution_count": 23,
   "metadata": {},
   "outputs": [
    {
     "name": "stdout",
     "output_type": "stream",
     "text": [
      "1.0\" encoding=\"utf-8\" ?>\n",
      "5.4_spl_The challenge begins with how to pronouncehis name.\n",
      "8.21_spl_The first bit should sound like ‘Knee’, the second like ‘cha’\n",
      "11.65_spl_Knee – cha.\n",
      "12.86_spl_Then we need to get past some of his extraordinaryand provocative statements:\n",
      "16.62_spl_‘What doesn’t kill me makesme stronger’\n",
      "18.39_spl_‘God is dead! And we have killed him.&amp;#39;\n",
      "21.07_spl_And his large moustache.\n",
      "22.33_spl_But when we do, we’ll discover a thinkerwho is intermittently enchanting, wise and\n",
      "26.96_spl_very helpful.\n",
      "28.509_spl_Friedrich Nietzsche was born in 1844 in aquiet village in the eastern part of Germany\n",
      "32.99_spl_where his father was the priest.\n",
      "35.12_spl_He did exceptionally well at school and university and so excelled at\n",
      "38.47_spl_ancient Greek that he was made a professor\n",
      "40.53_spl_at the University of Basel\n",
      "42.05_spl_when still only in his mid-twenties.\n",
      "44.39_spl_But his official career didn’t work out.He got fed up with his fellow academics, gave\n",
      "48.59_spl_up his job and moved to Sils Maria in theSwiss alps\n",
      "51.86_spl_where he lived quietly, working on his masterpieces,\n",
      "54.57_spl_among them:\n",
      "55.34_spl_The Birth of Tragedy,Human, All Too Human,\n",
      "57.22_spl_The Gay Science, Thus Spoke Zarathustra,\n",
      "59.26_spl_Beyond Good and Evil,On the Genealogy of Morals,\n",
      "61.96_spl_He had lots of problems:- he didn’t get on with his family:\n",
      "64.78_spl_&amp;#39;I don’t like my mother and it’s painfuleven for me to hear my sister’s voice.’\n",
      "68.599_spl_- women kept rejecting him.- his books didn’t sell\n",
      "70.79_spl_- And when he was only forty-four, he hada mental breakdown, precipitated when he saw\n",
      "75.36_spl_a horse in a Turin street being beaten by its driver\n",
      "78.39_spl_and ran over to embrace him shouting&amp;#39;I understand you&amp;#39;. He never recovered and\n",
      "82.74_spl_died eleven sad years later.\n",
      "85.7_spl_But his philosophy was full of heroism andgrandeur.\n",
      "88.909_spl_He was a prophet of what he called: SELBSTÜBERWINDUNG\n",
      "91.96_spl_or SELF-OVERCOMING, the process by which a great-souled\n",
      "95.46_spl_person - what he called an ÜBERMENSCH \n",
      "97.92_spl_rises above theircircumstances and difficulties to embrace\n",
      "100.979_spl_whatever life throws at them.\n",
      "103.26_spl_He wanted his work to teach us, as he putit, ‘how to become who we really are’.\n",
      "108.21_spl_His thought centers around 4 main recommendations:\n",
      "113.18_spl_Own up to envy\n",
      "114.979_spl_Envy is – Nietzsche recognised – a bigpart of life. Yet the lingering effects of\n",
      "119.21_spl_Christianity generally teaches to be feel ashamed\n",
      "121.99_spl_of our envious feelings. They seem an\n",
      "124.08_spl_indication of evil. So we hide them from ourselvesand others\n",
      "128.22_spl_Yet there is nothing wrong with envy, maintainedNietzsche, so long as we use it as a guide\n",
      "132.75_spl_to what we really want. Every person who makesus envious should be seen as an indication\n",
      "137.889_spl_of what we could one day become. The envy-inducingwriter, tycoon\n",
      "142.239_spl_or chef is hinting at who you are capable of one day being.\n",
      "146.419_spl_It&amp;#39;s not that Nietzsche believed we always end up getting what we want. His own life\n",
      "150.409_spl_had taught him this well enough). He simplyinsisted that we must face up to our true\n",
      "154.749_spl_desires, put up a heroic fight to honour them,and only then mourn failure with solemn dignity.\n",
      "160.329_spl_That is what it means to be an ÜBERMENSCH\n",
      "163.129_spl_2. Don’t be a Christian\n",
      "165.45_spl_Nietzsche had some extreme things to say about Christianity\n",
      "168.2_spl_‘In the entire New Testament, there\n",
      "170.719_spl_is only person worth respecting: Pilate, theRoman governor.’\n",
      "175.4_spl_It was knockabout stuff, but his true targetwas more subtle and more interesting: he resented\n",
      "180.4_spl_Christianity for protecting people from theirenvy.\n",
      "184.719_spl_Christianity had in Nietzsche’s accountemerged in the late Roman Empire\n",
      "188.749_spl_in the minds of timid slaves, who had lacked the stomach\n",
      "191.669_spl_to get hold of what they really wanted \n",
      "193.959_spl_and so had clung to a philosophy that made a virtue of their cowardice.\n",
      "198.23_spl_He called this SKLAVENMORAL\n",
      "200.87_spl_Christians - whom he rather rudely termedDIE HEERDE, the herd - had wished to\n",
      "205.219_spl_enjoy the real ingredients of fulfilment (aposition in the world, sex,\n",
      "209.54_spl_intellectual mastery, creativity)\n",
      "211.26_spl_but had been too ineptto get them.\n",
      "213.939_spl_They had therefore fashioned a hypocriticalcreed denouncing what\n",
      "216.9_spl_they wanted but were too weak to fight for\n",
      "219.249_spl_ – while praising what they did not want but happened\n",
      "221.639_spl_to have. So, in the Christian value system, sexlessness\n",
      "225.519_spl_turned into purity [show text changing] weaknessbecame goodness, submission-to-people-one-hates\n",
      "230.359_spl_became obedience and, in Nietzsche’s phrase,“not-being-able-to-take-revenge” turned\n",
      "235.8_spl_into “forgiveness.”\n",
      "237.82_spl_Christianity amounted to a giant machine forbitter denial.\n",
      "242.22_spl_3. Never drink alcohol\n",
      "244.849_spl_Nietzsche himself drank only water – andas a special treat, milk. And he thought we\n",
      "249.159_spl_should do likewise. He wasn’t making a small,\n",
      "251.969_spl_eccentric dietary point. The idea went tothe heart of his philosophy, as contained\n",
      "256.28_spl_in his declaration: ‘There have been twogreat narcotics in European civilisation:\n",
      "261.24_spl_Christianity and alcohol.’\n",
      "263.7_spl_He hated alcohol for the very same reasonsthat he scorned Christianity: because both\n",
      "268.389_spl_numb pain, and both reassure us that thingsare just fine as they are, sapping us of the\n",
      "273.199_spl_will to change our lives for the better. Afew drinks usher in a transient feeling of\n",
      "277.59_spl_satisfaction that can get fatally in the wayof taking the steps necessary to improve our\n",
      "282.09_spl_lives.\n",
      "283.479_spl_Nietzsche was obsessed with the awkward truththat getting really valuable things done hurts.\n",
      "288.46_spl_“How little you know of human happiness- you comfortable people” he wrote\n",
      "293.08_spl_“The secret of a fulfilled life is: live\n",
      "296.009_spl_dangerously! Build your cities on the slopesof Mount Vesuvius!”\n",
      "300.68_spl_4. “God is Dead”\n",
      "303.14_spl_Nietzsche’s dramatic assertion that Godis dead is not, as it’s often taken to be,\n",
      "307.72_spl_some kind of a celebratory statement.\n",
      "310.64_spl_Despite his reservations about Christianity,Nietzsche did not think that the end of belief\n",
      "314.849_spl_was anything to cheer about.\n",
      "316.929_spl_Religious beliefs were false, he knew; buthe observed that they were very beneficial\n",
      "321.96_spl_in the sense of helping us cope with the problemsof life.\n",
      "325.2_spl_Nietzsche felt that the gap left by religionshould ideally be filled by Culture (he meant:\n",
      "330.22_spl_philosophy, art, music, literature): Culture should replace Scripture.\n",
      "334.7_spl_However, Nietzsche was deeply suspicious ofthe way his own era was handling culture.\n",
      "339.61_spl_He believed the universities were killing the humanities,\n",
      "342_spl_turning them into dry academic exercises,\n",
      "344.8_spl_rather than using them for what they were always meant to be:\n",
      "347.9_spl_guides to life. He admired\n",
      "349.699_spl_the way the Greeks had used tragic drama in a practical, therapeutic way,\n",
      "353.68_spl_as an occasion for catharsis and moral education– and wished his own age to be comparably\n",
      "358.65_spl_ambitious.\n",
      "359.789_spl_He called for a reformation, in which people– newly conscious of the crisis brought\n",
      "363.58_spl_on by the end of faith – would fill thegaps created by the disappearance of religion\n",
      "367.96_spl_with philosophy and art.\n",
      "370.96_spl_Every era faces particular psychological challenges,thought Nietzsche, and it is the task of the\n",
      "375.689_spl_philosopher to identify, and help solve, these.\n",
      "379_spl_For Nietzsche, the 19th century was reeling under the impact\n",
      "381.939_spl_of two developments: Mass Democracy \n",
      "384.58_spl_and Atheism. The first\n",
      "386.469_spl_threatened to unleash torrents of undigestedenvy; the second to\n",
      "390.62_spl_leave humans without guidance or morality.\n",
      "393.4_spl_In relation to both challenges, Nietzscheremains our endearing, fascinating often loveable\n",
      "397.86_spl_and moustachioed guide.\n"
     ]
    }
   ],
   "source": [
    "print(ytcleaner(html1))"
   ]
  },
  {
   "cell_type": "code",
   "execution_count": null,
   "metadata": {
    "collapsed": true
   },
   "outputs": [],
   "source": [
    "#plaintext = ()"
   ]
  },
  {
   "cell_type": "code",
   "execution_count": 8,
   "metadata": {
    "scrolled": false
   },
   "outputs": [
    {
     "ename": "NameError",
     "evalue": "name 'plaintext' is not defined",
     "output_type": "error",
     "traceback": [
      "\u001b[1;31m---------------------------------------------------------------------------\u001b[0m",
      "\u001b[1;31mNameError\u001b[0m                                 Traceback (most recent call last)",
      "\u001b[1;32m<ipython-input-8-332571c9c0df>\u001b[0m in \u001b[0;36m<module>\u001b[1;34m()\u001b[0m\n\u001b[1;32m----> 1\u001b[1;33m \u001b[0mprint\u001b[0m\u001b[1;33m(\u001b[0m\u001b[0mplaintext\u001b[0m\u001b[1;33m(\u001b[0m\u001b[0mhtml1\u001b[0m\u001b[1;33m)\u001b[0m\u001b[1;33m)\u001b[0m\u001b[1;33m\u001b[0m\u001b[0m\n\u001b[0m",
      "\u001b[1;31mNameError\u001b[0m: name 'plaintext' is not defined"
     ]
    }
   ],
   "source": [
    "print(plaintext(html1))"
   ]
  },
  {
   "cell_type": "code",
   "execution_count": null,
   "metadata": {
    "collapsed": true
   },
   "outputs": [],
   "source": [
    "import nltk"
   ]
  },
  {
   "cell_type": "code",
   "execution_count": null,
   "metadata": {
    "collapsed": true
   },
   "outputs": [],
   "source": [
    "nltk.tokenize(plaintext)"
   ]
  },
  {
   "cell_type": "code",
   "execution_count": 6,
   "metadata": {
    "collapsed": true
   },
   "outputs": [],
   "source": [
    "\n",
    "from nltk.corpus import webtext as wt"
   ]
  },
  {
   "cell_type": "code",
   "execution_count": 7,
   "metadata": {},
   "outputs": [
    {
     "ename": "LookupError",
     "evalue": "\n**********************************************************************\n  Resource 'corpora/webtext' not found.  Please use the NLTK\n  Downloader to obtain the resource:  >>> nltk.download()\n  Searched in:\n    - 'C:\\\\Users\\\\swktstud/nltk_data'\n    - 'C:\\\\nltk_data'\n    - 'D:\\\\nltk_data'\n    - 'E:\\\\nltk_data'\n    - 'C:\\\\Users\\\\swktstud\\\\AppData\\\\Local\\\\Continuum\\\\anaconda3\\\\nltk_data'\n    - 'C:\\\\Users\\\\swktstud\\\\AppData\\\\Local\\\\Continuum\\\\anaconda3\\\\lib\\\\nltk_data'\n    - 'C:\\\\Users\\\\swktstud\\\\AppData\\\\Roaming\\\\nltk_data'\n**********************************************************************",
     "output_type": "error",
     "traceback": [
      "\u001b[1;31m---------------------------------------------------------------------------\u001b[0m",
      "\u001b[1;31mLookupError\u001b[0m                               Traceback (most recent call last)",
      "\u001b[1;32m~\\AppData\\Local\\Continuum\\anaconda3\\lib\\site-packages\\nltk\\corpus\\util.py\u001b[0m in \u001b[0;36m__load\u001b[1;34m(self)\u001b[0m\n\u001b[0;32m     79\u001b[0m             \u001b[1;32mexcept\u001b[0m \u001b[0mLookupError\u001b[0m \u001b[1;32mas\u001b[0m \u001b[0me\u001b[0m\u001b[1;33m:\u001b[0m\u001b[1;33m\u001b[0m\u001b[0m\n\u001b[1;32m---> 80\u001b[1;33m                 \u001b[1;32mtry\u001b[0m\u001b[1;33m:\u001b[0m \u001b[0mroot\u001b[0m \u001b[1;33m=\u001b[0m \u001b[0mnltk\u001b[0m\u001b[1;33m.\u001b[0m\u001b[0mdata\u001b[0m\u001b[1;33m.\u001b[0m\u001b[0mfind\u001b[0m\u001b[1;33m(\u001b[0m\u001b[1;34m'{}/{}'\u001b[0m\u001b[1;33m.\u001b[0m\u001b[0mformat\u001b[0m\u001b[1;33m(\u001b[0m\u001b[0mself\u001b[0m\u001b[1;33m.\u001b[0m\u001b[0msubdir\u001b[0m\u001b[1;33m,\u001b[0m \u001b[0mzip_name\u001b[0m\u001b[1;33m)\u001b[0m\u001b[1;33m)\u001b[0m\u001b[1;33m\u001b[0m\u001b[0m\n\u001b[0m\u001b[0;32m     81\u001b[0m                 \u001b[1;32mexcept\u001b[0m \u001b[0mLookupError\u001b[0m\u001b[1;33m:\u001b[0m \u001b[1;32mraise\u001b[0m \u001b[0me\u001b[0m\u001b[1;33m\u001b[0m\u001b[0m\n",
      "\u001b[1;32m~\\AppData\\Local\\Continuum\\anaconda3\\lib\\site-packages\\nltk\\data.py\u001b[0m in \u001b[0;36mfind\u001b[1;34m(resource_name, paths)\u001b[0m\n\u001b[0;32m    652\u001b[0m             \u001b[1;32mtry\u001b[0m\u001b[1;33m:\u001b[0m\u001b[1;33m\u001b[0m\u001b[0m\n\u001b[1;32m--> 653\u001b[1;33m                 \u001b[1;32mreturn\u001b[0m \u001b[0mfind\u001b[0m\u001b[1;33m(\u001b[0m\u001b[0mmodified_name\u001b[0m\u001b[1;33m,\u001b[0m \u001b[0mpaths\u001b[0m\u001b[1;33m)\u001b[0m\u001b[1;33m\u001b[0m\u001b[0m\n\u001b[0m\u001b[0;32m    654\u001b[0m             \u001b[1;32mexcept\u001b[0m \u001b[0mLookupError\u001b[0m\u001b[1;33m:\u001b[0m\u001b[1;33m\u001b[0m\u001b[0m\n",
      "\u001b[1;31mLookupError\u001b[0m: \n**********************************************************************\n  Resource 'corpora/webtext.zip/webtext/' not found.  Please use\n  the NLTK Downloader to obtain the resource:  >>> nltk.download()\n  Searched in:\n    - 'C:\\\\Users\\\\swktstud/nltk_data'\n    - 'C:\\\\nltk_data'\n    - 'D:\\\\nltk_data'\n    - 'E:\\\\nltk_data'\n    - 'C:\\\\Users\\\\swktstud\\\\AppData\\\\Local\\\\Continuum\\\\anaconda3\\\\nltk_data'\n    - 'C:\\\\Users\\\\swktstud\\\\AppData\\\\Local\\\\Continuum\\\\anaconda3\\\\lib\\\\nltk_data'\n    - 'C:\\\\Users\\\\swktstud\\\\AppData\\\\Roaming\\\\nltk_data'\n**********************************************************************",
      "\nDuring handling of the above exception, another exception occurred:\n",
      "\u001b[1;31mLookupError\u001b[0m                               Traceback (most recent call last)",
      "\u001b[1;32m<ipython-input-7-1ddffb77305e>\u001b[0m in \u001b[0;36m<module>\u001b[1;34m()\u001b[0m\n\u001b[1;32m----> 1\u001b[1;33m \u001b[1;32mfor\u001b[0m \u001b[0mfileid\u001b[0m \u001b[1;32min\u001b[0m \u001b[0mwebtext\u001b[0m\u001b[1;33m.\u001b[0m\u001b[0mfileids\u001b[0m\u001b[1;33m(\u001b[0m\u001b[1;33m)\u001b[0m\u001b[1;33m:\u001b[0m\u001b[1;33m\u001b[0m\u001b[0m\n\u001b[0m\u001b[0;32m      2\u001b[0m     \u001b[0mprint\u001b[0m\u001b[1;33m(\u001b[0m\u001b[0mfileid\u001b[0m\u001b[1;33m,\u001b[0m \u001b[0mwebtext\u001b[0m\u001b[1;33m.\u001b[0m\u001b[0mraw\u001b[0m\u001b[1;33m(\u001b[0m\u001b[0mfileid\u001b[0m\u001b[1;33m)\u001b[0m\u001b[1;33m[\u001b[0m\u001b[1;33m:\u001b[0m\u001b[1;36m65\u001b[0m\u001b[1;33m]\u001b[0m\u001b[1;33m,\u001b[0m \u001b[1;34m'...'\u001b[0m\u001b[1;33m)\u001b[0m\u001b[1;33m\u001b[0m\u001b[0m\n",
      "\u001b[1;32m~\\AppData\\Local\\Continuum\\anaconda3\\lib\\site-packages\\nltk\\corpus\\util.py\u001b[0m in \u001b[0;36m__getattr__\u001b[1;34m(self, attr)\u001b[0m\n\u001b[0;32m    114\u001b[0m             \u001b[1;32mraise\u001b[0m \u001b[0mAttributeError\u001b[0m\u001b[1;33m(\u001b[0m\u001b[1;34m\"LazyCorpusLoader object has no attribute '__bases__'\"\u001b[0m\u001b[1;33m)\u001b[0m\u001b[1;33m\u001b[0m\u001b[0m\n\u001b[0;32m    115\u001b[0m \u001b[1;33m\u001b[0m\u001b[0m\n\u001b[1;32m--> 116\u001b[1;33m         \u001b[0mself\u001b[0m\u001b[1;33m.\u001b[0m\u001b[0m__load\u001b[0m\u001b[1;33m(\u001b[0m\u001b[1;33m)\u001b[0m\u001b[1;33m\u001b[0m\u001b[0m\n\u001b[0m\u001b[0;32m    117\u001b[0m         \u001b[1;31m# This looks circular, but its not, since __load() changes our\u001b[0m\u001b[1;33m\u001b[0m\u001b[1;33m\u001b[0m\u001b[0m\n\u001b[0;32m    118\u001b[0m         \u001b[1;31m# __class__ to something new:\u001b[0m\u001b[1;33m\u001b[0m\u001b[1;33m\u001b[0m\u001b[0m\n",
      "\u001b[1;32m~\\AppData\\Local\\Continuum\\anaconda3\\lib\\site-packages\\nltk\\corpus\\util.py\u001b[0m in \u001b[0;36m__load\u001b[1;34m(self)\u001b[0m\n\u001b[0;32m     79\u001b[0m             \u001b[1;32mexcept\u001b[0m \u001b[0mLookupError\u001b[0m \u001b[1;32mas\u001b[0m \u001b[0me\u001b[0m\u001b[1;33m:\u001b[0m\u001b[1;33m\u001b[0m\u001b[0m\n\u001b[0;32m     80\u001b[0m                 \u001b[1;32mtry\u001b[0m\u001b[1;33m:\u001b[0m \u001b[0mroot\u001b[0m \u001b[1;33m=\u001b[0m \u001b[0mnltk\u001b[0m\u001b[1;33m.\u001b[0m\u001b[0mdata\u001b[0m\u001b[1;33m.\u001b[0m\u001b[0mfind\u001b[0m\u001b[1;33m(\u001b[0m\u001b[1;34m'{}/{}'\u001b[0m\u001b[1;33m.\u001b[0m\u001b[0mformat\u001b[0m\u001b[1;33m(\u001b[0m\u001b[0mself\u001b[0m\u001b[1;33m.\u001b[0m\u001b[0msubdir\u001b[0m\u001b[1;33m,\u001b[0m \u001b[0mzip_name\u001b[0m\u001b[1;33m)\u001b[0m\u001b[1;33m)\u001b[0m\u001b[1;33m\u001b[0m\u001b[0m\n\u001b[1;32m---> 81\u001b[1;33m                 \u001b[1;32mexcept\u001b[0m \u001b[0mLookupError\u001b[0m\u001b[1;33m:\u001b[0m \u001b[1;32mraise\u001b[0m \u001b[0me\u001b[0m\u001b[1;33m\u001b[0m\u001b[0m\n\u001b[0m\u001b[0;32m     82\u001b[0m \u001b[1;33m\u001b[0m\u001b[0m\n\u001b[0;32m     83\u001b[0m         \u001b[1;31m# Load the corpus.\u001b[0m\u001b[1;33m\u001b[0m\u001b[1;33m\u001b[0m\u001b[0m\n",
      "\u001b[1;32m~\\AppData\\Local\\Continuum\\anaconda3\\lib\\site-packages\\nltk\\corpus\\util.py\u001b[0m in \u001b[0;36m__load\u001b[1;34m(self)\u001b[0m\n\u001b[0;32m     76\u001b[0m         \u001b[1;32melse\u001b[0m\u001b[1;33m:\u001b[0m\u001b[1;33m\u001b[0m\u001b[0m\n\u001b[0;32m     77\u001b[0m             \u001b[1;32mtry\u001b[0m\u001b[1;33m:\u001b[0m\u001b[1;33m\u001b[0m\u001b[0m\n\u001b[1;32m---> 78\u001b[1;33m                 \u001b[0mroot\u001b[0m \u001b[1;33m=\u001b[0m \u001b[0mnltk\u001b[0m\u001b[1;33m.\u001b[0m\u001b[0mdata\u001b[0m\u001b[1;33m.\u001b[0m\u001b[0mfind\u001b[0m\u001b[1;33m(\u001b[0m\u001b[1;34m'{}/{}'\u001b[0m\u001b[1;33m.\u001b[0m\u001b[0mformat\u001b[0m\u001b[1;33m(\u001b[0m\u001b[0mself\u001b[0m\u001b[1;33m.\u001b[0m\u001b[0msubdir\u001b[0m\u001b[1;33m,\u001b[0m \u001b[0mself\u001b[0m\u001b[1;33m.\u001b[0m\u001b[0m__name\u001b[0m\u001b[1;33m)\u001b[0m\u001b[1;33m)\u001b[0m\u001b[1;33m\u001b[0m\u001b[0m\n\u001b[0m\u001b[0;32m     79\u001b[0m             \u001b[1;32mexcept\u001b[0m \u001b[0mLookupError\u001b[0m \u001b[1;32mas\u001b[0m \u001b[0me\u001b[0m\u001b[1;33m:\u001b[0m\u001b[1;33m\u001b[0m\u001b[0m\n\u001b[0;32m     80\u001b[0m                 \u001b[1;32mtry\u001b[0m\u001b[1;33m:\u001b[0m \u001b[0mroot\u001b[0m \u001b[1;33m=\u001b[0m \u001b[0mnltk\u001b[0m\u001b[1;33m.\u001b[0m\u001b[0mdata\u001b[0m\u001b[1;33m.\u001b[0m\u001b[0mfind\u001b[0m\u001b[1;33m(\u001b[0m\u001b[1;34m'{}/{}'\u001b[0m\u001b[1;33m.\u001b[0m\u001b[0mformat\u001b[0m\u001b[1;33m(\u001b[0m\u001b[0mself\u001b[0m\u001b[1;33m.\u001b[0m\u001b[0msubdir\u001b[0m\u001b[1;33m,\u001b[0m \u001b[0mzip_name\u001b[0m\u001b[1;33m)\u001b[0m\u001b[1;33m)\u001b[0m\u001b[1;33m\u001b[0m\u001b[0m\n",
      "\u001b[1;32m~\\AppData\\Local\\Continuum\\anaconda3\\lib\\site-packages\\nltk\\data.py\u001b[0m in \u001b[0;36mfind\u001b[1;34m(resource_name, paths)\u001b[0m\n\u001b[0;32m    651\u001b[0m                                      [pieces[i] + '.zip'] + pieces[i:])\n\u001b[0;32m    652\u001b[0m             \u001b[1;32mtry\u001b[0m\u001b[1;33m:\u001b[0m\u001b[1;33m\u001b[0m\u001b[0m\n\u001b[1;32m--> 653\u001b[1;33m                 \u001b[1;32mreturn\u001b[0m \u001b[0mfind\u001b[0m\u001b[1;33m(\u001b[0m\u001b[0mmodified_name\u001b[0m\u001b[1;33m,\u001b[0m \u001b[0mpaths\u001b[0m\u001b[1;33m)\u001b[0m\u001b[1;33m\u001b[0m\u001b[0m\n\u001b[0m\u001b[0;32m    654\u001b[0m             \u001b[1;32mexcept\u001b[0m \u001b[0mLookupError\u001b[0m\u001b[1;33m:\u001b[0m\u001b[1;33m\u001b[0m\u001b[0m\n\u001b[0;32m    655\u001b[0m                 \u001b[1;32mpass\u001b[0m\u001b[1;33m\u001b[0m\u001b[0m\n",
      "\u001b[1;31mLookupError\u001b[0m: \n**********************************************************************\n  Resource 'corpora/webtext' not found.  Please use the NLTK\n  Downloader to obtain the resource:  >>> nltk.download()\n  Searched in:\n    - 'C:\\\\Users\\\\swktstud/nltk_data'\n    - 'C:\\\\nltk_data'\n    - 'D:\\\\nltk_data'\n    - 'E:\\\\nltk_data'\n    - 'C:\\\\Users\\\\swktstud\\\\AppData\\\\Local\\\\Continuum\\\\anaconda3\\\\nltk_data'\n    - 'C:\\\\Users\\\\swktstud\\\\AppData\\\\Local\\\\Continuum\\\\anaconda3\\\\lib\\\\nltk_data'\n    - 'C:\\\\Users\\\\swktstud\\\\AppData\\\\Roaming\\\\nltk_data'\n**********************************************************************"
     ]
    }
   ],
   "source": [
    "for fileid in webtext.fileids():\n",
    "...     print(fileid, webtext.raw(fileid)[:65], '...')\n",
    "\n",
    "#http://www.nltk.org/book/ch02.html"
   ]
  },
  {
   "cell_type": "markdown",
   "metadata": {},
   "source": [
    "### Data Cleaning"
   ]
  },
  {
   "cell_type": "code",
   "execution_count": null,
   "metadata": {
    "collapsed": true
   },
   "outputs": [],
   "source": []
  },
  {
   "cell_type": "code",
   "execution_count": null,
   "metadata": {
    "collapsed": true
   },
   "outputs": [],
   "source": []
  },
  {
   "cell_type": "code",
   "execution_count": null,
   "metadata": {
    "collapsed": true
   },
   "outputs": [],
   "source": []
  },
  {
   "cell_type": "code",
   "execution_count": null,
   "metadata": {
    "collapsed": true
   },
   "outputs": [],
   "source": []
  },
  {
   "cell_type": "code",
   "execution_count": null,
   "metadata": {
    "collapsed": true
   },
   "outputs": [],
   "source": []
  },
  {
   "cell_type": "code",
   "execution_count": null,
   "metadata": {
    "collapsed": true
   },
   "outputs": [],
   "source": []
  },
  {
   "cell_type": "markdown",
   "metadata": {},
   "source": [
    "### Data Visualization"
   ]
  },
  {
   "cell_type": "code",
   "execution_count": null,
   "metadata": {
    "collapsed": true
   },
   "outputs": [],
   "source": []
  },
  {
   "cell_type": "code",
   "execution_count": null,
   "metadata": {
    "collapsed": true
   },
   "outputs": [],
   "source": []
  },
  {
   "cell_type": "code",
   "execution_count": null,
   "metadata": {
    "collapsed": true
   },
   "outputs": [],
   "source": []
  },
  {
   "cell_type": "code",
   "execution_count": null,
   "metadata": {
    "collapsed": true
   },
   "outputs": [],
   "source": []
  },
  {
   "cell_type": "code",
   "execution_count": null,
   "metadata": {
    "collapsed": true
   },
   "outputs": [],
   "source": []
  },
  {
   "cell_type": "code",
   "execution_count": null,
   "metadata": {
    "collapsed": true
   },
   "outputs": [],
   "source": []
  },
  {
   "cell_type": "markdown",
   "metadata": {},
   "source": [
    "## Bonus Data: JSON"
   ]
  },
  {
   "cell_type": "code",
   "execution_count": 30,
   "metadata": {
    "collapsed": true
   },
   "outputs": [],
   "source": [
    "json_file = open('C:\\\\Users\\\\swktstud\\\\Downloads\\\\news_0000001.json', 'r', encoding = 'utf-8').read()"
   ]
  },
  {
   "cell_type": "code",
   "execution_count": 31,
   "metadata": {},
   "outputs": [],
   "source": [
    "import json\n",
    "\n",
    "#jsonfile = pd.read_json(jsonfile)"
   ]
  },
  {
   "cell_type": "code",
   "execution_count": 32,
   "metadata": {},
   "outputs": [],
   "source": [
    "json_dict = json.loads(json_file)"
   ]
  },
  {
   "cell_type": "code",
   "execution_count": 25,
   "metadata": {},
   "outputs": [
    {
     "data": {
      "text/plain": [
       "{'author': 'RÃ©daction Europe1.fr avec AFP',\n",
       " 'crawled': '2016-10-02T00:59:33.959+03:00',\n",
       " 'entities': {'locations': [], 'organizations': [], 'persons': []},\n",
       " 'external_links': [],\n",
       " 'highlightText': '',\n",
       " 'highlightTitle': '',\n",
       " 'language': 'french',\n",
       " 'locations': [],\n",
       " 'ord_in_thread': 0,\n",
       " 'organizations': [],\n",
       " 'persons': [],\n",
       " 'published': '2016-10-02T00:31:00.000+03:00',\n",
       " 'text': \"Il tente d'incendier sa femme : elle est indemne, lui est gravement brÃ»lÃ© 18h31, le 01 octobre 2016 A Le mari dÃ©sespÃ©rÃ© a tentÃ© d'incendier sa femme.@ TIZIANA FABI / AFP 0 partage Dans le but d'incendier sa femme, un homme en instance de divorce a aspergÃ© l'appartement conjugal d'essence. Mais ce sont ses propres vÃªtements qui ont pris feu. \\nLe retour de flamme ne s'est pas fait attendre. Un homme s'est griÃ¨vement brÃ»lÃ© dans le nord de l'Italie en tentant d'incendier son Ã©pouse qui voulait le quitter, rapportent samedi des mÃ©dias locaux . \\nVendredi en fin d'aprÃ¨s-midi, une violente dispute a Ã©clatÃ© entre les deux conjoints quadragÃ©naires en instance de divorce, tous deux Albanais rÃ©sidant Ã\\xa0 Gorgonzola, dans l'agglomÃ©ration de Milan. Ne supportant pas l'idÃ©e de la sÃ©paration, le mari s'est saisi d'un bidon d'essence pour asperger l'appartement et son Ã©pouse, avant d'allumer son briquet. \\nDes brÃ»lures au 3e degrÃ©. Mais ce sont ses propres vÃªtements, arrosÃ©s involontairement dans son Ã©lan, qui ont pris feu. Son Ã©pouse est parvenue Ã\\xa0 sauter Ã\\xa0 temps par le balcon de l'appartement, situÃ© au premier Ã©tage, suivie de peu par son mari. Elle est indemne, mais lui est hospitalisÃ© dans un Ã©tat grave, souffrant de brÃ»lures au 3e degrÃ© . Aucun de leurs trois enfants, Ã¢gÃ©s de 23, 22 et 14 ans, n'Ã©tait prÃ©sent au moment des faits. Sur le mÃªme sujet :\",\n",
       " 'thread': {'country': 'FR',\n",
       "  'domain_rank': 9784,\n",
       "  'main_image': 'http://cdn-europe1.new2.ladmedia.fr/var/europe1/storage/images/europe1/faits-divers/il-tente-dincendier-sa-femme-elle-est-indemne-lui-gravement-brule-2861698/29153683-1-fre-FR/Il-tente-d-incendier-sa-femme-elle-est-indemne-lui-gravement-brule.jpg',\n",
       "  'participants_count': 1,\n",
       "  'performance_score': 0,\n",
       "  'published': '2016-10-02T00:31:00.000+03:00',\n",
       "  'replies_count': 0,\n",
       "  'section_title': 'Europe 1: Actus',\n",
       "  'site': 'europe1.fr',\n",
       "  'site_full': 'www.europe1.fr',\n",
       "  'site_section': 'http://www.europe1.fr/var/export/rss/europe1/actus.xml',\n",
       "  'site_type': 'news',\n",
       "  'social': {'facebook': {'comments': 0, 'likes': 0, 'shares': 0},\n",
       "   'gplus': {'shares': 0},\n",
       "   'linkedin': {'shares': 0},\n",
       "   'pinterest': {'shares': 0},\n",
       "   'stumbledupon': {'shares': 0},\n",
       "   'vk': {'shares': 0}},\n",
       "  'spam_score': 0.0,\n",
       "  'title': \"Il tente d'incendier sa femme : elle est indemne, lui est gravement brÃ»lÃ©\",\n",
       "  'title_full': \"Il tente d'incendier sa femme : elle est indemne, lui est gravement brÃ»lÃ©\",\n",
       "  'url': 'http://www.europe1.fr/faits-divers/il-tente-dincendier-sa-femme-elle-est-indemne-lui-gravement-brule-2861698',\n",
       "  'uuid': '0a4de1a5cbde83c0e0f6679a664fe9f98aefd7cc'},\n",
       " 'title': \"Il tente d'incendier sa femme : elle est indemne, lui est gravement brÃ»lÃ©\",\n",
       " 'url': 'http://www.europe1.fr/faits-divers/il-tente-dincendier-sa-femme-elle-est-indemne-lui-gravement-brule-2861698',\n",
       " 'uuid': '0a4de1a5cbde83c0e0f6679a664fe9f98aefd7cc'}"
      ]
     },
     "execution_count": 25,
     "metadata": {},
     "output_type": "execute_result"
    }
   ],
   "source": [
    "json_dict\n"
   ]
  },
  {
   "cell_type": "markdown",
   "metadata": {},
   "source": [
    "### Data Cleaning"
   ]
  },
  {
   "cell_type": "code",
   "execution_count": null,
   "metadata": {
    "collapsed": true
   },
   "outputs": [],
   "source": []
  },
  {
   "cell_type": "code",
   "execution_count": null,
   "metadata": {
    "collapsed": true
   },
   "outputs": [],
   "source": []
  },
  {
   "cell_type": "code",
   "execution_count": null,
   "metadata": {
    "collapsed": true
   },
   "outputs": [],
   "source": []
  },
  {
   "cell_type": "code",
   "execution_count": null,
   "metadata": {
    "collapsed": true
   },
   "outputs": [],
   "source": []
  },
  {
   "cell_type": "code",
   "execution_count": null,
   "metadata": {
    "collapsed": true
   },
   "outputs": [],
   "source": []
  },
  {
   "cell_type": "code",
   "execution_count": null,
   "metadata": {
    "collapsed": true
   },
   "outputs": [],
   "source": []
  },
  {
   "cell_type": "markdown",
   "metadata": {},
   "source": [
    "### Data Visualization"
   ]
  },
  {
   "cell_type": "code",
   "execution_count": null,
   "metadata": {
    "collapsed": true
   },
   "outputs": [],
   "source": []
  },
  {
   "cell_type": "code",
   "execution_count": null,
   "metadata": {
    "collapsed": true
   },
   "outputs": [],
   "source": []
  },
  {
   "cell_type": "code",
   "execution_count": null,
   "metadata": {
    "collapsed": true
   },
   "outputs": [],
   "source": []
  },
  {
   "cell_type": "code",
   "execution_count": null,
   "metadata": {
    "collapsed": true
   },
   "outputs": [],
   "source": []
  },
  {
   "cell_type": "code",
   "execution_count": null,
   "metadata": {
    "collapsed": true
   },
   "outputs": [],
   "source": []
  },
  {
   "cell_type": "code",
   "execution_count": null,
   "metadata": {
    "collapsed": true
   },
   "outputs": [],
   "source": []
  }
 ],
 "metadata": {
  "kernelspec": {
   "display_name": "Python 3",
   "language": "python",
   "name": "python3"
  },
  "language_info": {
   "codemirror_mode": {
    "name": "ipython",
    "version": 3
   },
   "file_extension": ".py",
   "mimetype": "text/x-python",
   "name": "python",
   "nbconvert_exporter": "python",
   "pygments_lexer": "ipython3",
   "version": "3.6.3"
  }
 },
 "nbformat": 4,
 "nbformat_minor": 2
}

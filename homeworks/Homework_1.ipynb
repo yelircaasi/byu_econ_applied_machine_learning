{
 "cells": [
  {
   "cell_type": "markdown",
   "metadata": {},
   "source": [
    "# Data Cleaning, Describing, and Visualization\n",
    "\n",
    "### Step 1 - Get your environment setup\n",
    "\n",
    "1. Install Git on your computer and fork the class repository on [Github](https://github.com/tfolkman/byu_econ_applied_machine_learning).\n",
    "2. Install [Anaconda](https://conda.io/docs/install/quick.html) and get it working.\n",
    "\n",
    "### Step 2 - Explore Datasets\n",
    "\n",
    "The goals of this project are:\n",
    "\n",
    "1. Read in data from multiple sources\n",
    "2. Gain practice cleaning, describing, and visualizing data\n",
    "\n",
    "To this end, you need to find from three different sources. For example: CSV, JSON, and API, SQL, or web scraping. For each of these data sets, you must perform the following:\n",
    "\n",
    "1. Data cleaning. Some options your might consider: handle missing data, handle outliers, scale the data, convert some data to categorical.\n",
    "2. Describe data. Provide tables, statistics, and summaries of your data.\n",
    "3. Visualize data. Provide visualizations of your data.\n",
    "\n",
    "These are the typical first steps of any data science project and are often the most time consuming. My hope is that in going through this process 3 different times, that you will gain a sense for it.\n",
    "\n",
    "Also, as you are doing this, please tell us a story. Explain in your notebook why are doing what you are doing and to what end. Telling a story in your analysis is a crucial skill for data scientists. There are almost an infinite amount of ways to analyze a data set; help us understand why you choose your particular path and why we should care.\n",
    "\n",
    "Also - this homework is very open-ended and we provided you with basically no starting point. I realize this increases the difficulty and complexity, but I think it is worth it. It is much closer to what you might experience in industry and allows you to find data that might excite you!"
   ]
  },
  {
   "cell_type": "markdown",
   "metadata": {},
   "source": [
    "## Data 1: CSV Data"
   ]
  },
  {
   "cell_type": "code",
   "execution_count": 1,
   "metadata": {
    "collapsed": true
   },
   "outputs": [],
   "source": [
    "# -*- coding: utf-8 -*-"
   ]
  },
  {
   "cell_type": "code",
   "execution_count": 37,
   "metadata": {
    "collapsed": true
   },
   "outputs": [],
   "source": [
    "import pandas as pd\n",
    "import numpy as np"
   ]
  },
  {
   "cell_type": "code",
   "execution_count": 9,
   "metadata": {
    "collapsed": true
   },
   "outputs": [],
   "source": [
    "data1 = sns.load_dataset(\"iris\")"
   ]
  },
  {
   "cell_type": "code",
   "execution_count": 10,
   "metadata": {},
   "outputs": [
    {
     "data": {
      "text/html": [
       "<div>\n",
       "<style>\n",
       "    .dataframe thead tr:only-child th {\n",
       "        text-align: right;\n",
       "    }\n",
       "\n",
       "    .dataframe thead th {\n",
       "        text-align: left;\n",
       "    }\n",
       "\n",
       "    .dataframe tbody tr th {\n",
       "        vertical-align: top;\n",
       "    }\n",
       "</style>\n",
       "<table border=\"1\" class=\"dataframe\">\n",
       "  <thead>\n",
       "    <tr style=\"text-align: right;\">\n",
       "      <th></th>\n",
       "      <th>sepal_length</th>\n",
       "      <th>sepal_width</th>\n",
       "      <th>petal_length</th>\n",
       "      <th>petal_width</th>\n",
       "      <th>species</th>\n",
       "    </tr>\n",
       "  </thead>\n",
       "  <tbody>\n",
       "    <tr>\n",
       "      <th>0</th>\n",
       "      <td>5.1</td>\n",
       "      <td>3.5</td>\n",
       "      <td>1.4</td>\n",
       "      <td>0.2</td>\n",
       "      <td>setosa</td>\n",
       "    </tr>\n",
       "    <tr>\n",
       "      <th>1</th>\n",
       "      <td>4.9</td>\n",
       "      <td>3.0</td>\n",
       "      <td>1.4</td>\n",
       "      <td>0.2</td>\n",
       "      <td>setosa</td>\n",
       "    </tr>\n",
       "    <tr>\n",
       "      <th>2</th>\n",
       "      <td>4.7</td>\n",
       "      <td>3.2</td>\n",
       "      <td>1.3</td>\n",
       "      <td>0.2</td>\n",
       "      <td>setosa</td>\n",
       "    </tr>\n",
       "    <tr>\n",
       "      <th>3</th>\n",
       "      <td>4.6</td>\n",
       "      <td>3.1</td>\n",
       "      <td>1.5</td>\n",
       "      <td>0.2</td>\n",
       "      <td>setosa</td>\n",
       "    </tr>\n",
       "    <tr>\n",
       "      <th>4</th>\n",
       "      <td>5.0</td>\n",
       "      <td>3.6</td>\n",
       "      <td>1.4</td>\n",
       "      <td>0.2</td>\n",
       "      <td>setosa</td>\n",
       "    </tr>\n",
       "  </tbody>\n",
       "</table>\n",
       "</div>"
      ],
      "text/plain": [
       "   sepal_length  sepal_width  petal_length  petal_width species\n",
       "0           5.1          3.5           1.4          0.2  setosa\n",
       "1           4.9          3.0           1.4          0.2  setosa\n",
       "2           4.7          3.2           1.3          0.2  setosa\n",
       "3           4.6          3.1           1.5          0.2  setosa\n",
       "4           5.0          3.6           1.4          0.2  setosa"
      ]
     },
     "execution_count": 10,
     "metadata": {},
     "output_type": "execute_result"
    }
   ],
   "source": [
    "data1.head()"
   ]
  },
  {
   "cell_type": "code",
   "execution_count": 11,
   "metadata": {},
   "outputs": [
    {
     "data": {
      "text/html": [
       "<div>\n",
       "<style>\n",
       "    .dataframe thead tr:only-child th {\n",
       "        text-align: right;\n",
       "    }\n",
       "\n",
       "    .dataframe thead th {\n",
       "        text-align: left;\n",
       "    }\n",
       "\n",
       "    .dataframe tbody tr th {\n",
       "        vertical-align: top;\n",
       "    }\n",
       "</style>\n",
       "<table border=\"1\" class=\"dataframe\">\n",
       "  <thead>\n",
       "    <tr style=\"text-align: right;\">\n",
       "      <th></th>\n",
       "      <th>sepal_length</th>\n",
       "      <th>sepal_width</th>\n",
       "      <th>petal_length</th>\n",
       "      <th>petal_width</th>\n",
       "      <th>species</th>\n",
       "    </tr>\n",
       "  </thead>\n",
       "  <tbody>\n",
       "    <tr>\n",
       "      <th>0</th>\n",
       "      <td>5.1</td>\n",
       "      <td>3.5</td>\n",
       "      <td>1.4</td>\n",
       "      <td>0.2</td>\n",
       "      <td>setosa</td>\n",
       "    </tr>\n",
       "    <tr>\n",
       "      <th>1</th>\n",
       "      <td>4.9</td>\n",
       "      <td>3.0</td>\n",
       "      <td>1.4</td>\n",
       "      <td>0.2</td>\n",
       "      <td>setosa</td>\n",
       "    </tr>\n",
       "    <tr>\n",
       "      <th>2</th>\n",
       "      <td>4.7</td>\n",
       "      <td>3.2</td>\n",
       "      <td>1.3</td>\n",
       "      <td>0.2</td>\n",
       "      <td>setosa</td>\n",
       "    </tr>\n",
       "    <tr>\n",
       "      <th>3</th>\n",
       "      <td>4.6</td>\n",
       "      <td>3.1</td>\n",
       "      <td>1.5</td>\n",
       "      <td>0.2</td>\n",
       "      <td>setosa</td>\n",
       "    </tr>\n",
       "    <tr>\n",
       "      <th>4</th>\n",
       "      <td>5.0</td>\n",
       "      <td>3.6</td>\n",
       "      <td>1.4</td>\n",
       "      <td>0.2</td>\n",
       "      <td>setosa</td>\n",
       "    </tr>\n",
       "    <tr>\n",
       "      <th>5</th>\n",
       "      <td>5.4</td>\n",
       "      <td>3.9</td>\n",
       "      <td>1.7</td>\n",
       "      <td>0.4</td>\n",
       "      <td>setosa</td>\n",
       "    </tr>\n",
       "    <tr>\n",
       "      <th>6</th>\n",
       "      <td>4.6</td>\n",
       "      <td>3.4</td>\n",
       "      <td>1.4</td>\n",
       "      <td>0.3</td>\n",
       "      <td>setosa</td>\n",
       "    </tr>\n",
       "    <tr>\n",
       "      <th>7</th>\n",
       "      <td>5.0</td>\n",
       "      <td>3.4</td>\n",
       "      <td>1.5</td>\n",
       "      <td>0.2</td>\n",
       "      <td>setosa</td>\n",
       "    </tr>\n",
       "    <tr>\n",
       "      <th>8</th>\n",
       "      <td>4.4</td>\n",
       "      <td>2.9</td>\n",
       "      <td>1.4</td>\n",
       "      <td>0.2</td>\n",
       "      <td>setosa</td>\n",
       "    </tr>\n",
       "    <tr>\n",
       "      <th>9</th>\n",
       "      <td>4.9</td>\n",
       "      <td>3.1</td>\n",
       "      <td>1.5</td>\n",
       "      <td>0.1</td>\n",
       "      <td>setosa</td>\n",
       "    </tr>\n",
       "  </tbody>\n",
       "</table>\n",
       "</div>"
      ],
      "text/plain": [
       "   sepal_length  sepal_width  petal_length  petal_width species\n",
       "0           5.1          3.5           1.4          0.2  setosa\n",
       "1           4.9          3.0           1.4          0.2  setosa\n",
       "2           4.7          3.2           1.3          0.2  setosa\n",
       "3           4.6          3.1           1.5          0.2  setosa\n",
       "4           5.0          3.6           1.4          0.2  setosa\n",
       "5           5.4          3.9           1.7          0.4  setosa\n",
       "6           4.6          3.4           1.4          0.3  setosa\n",
       "7           5.0          3.4           1.5          0.2  setosa\n",
       "8           4.4          2.9           1.4          0.2  setosa\n",
       "9           4.9          3.1           1.5          0.1  setosa"
      ]
     },
     "execution_count": 11,
     "metadata": {},
     "output_type": "execute_result"
    }
   ],
   "source": [
    "data1.head(10)"
   ]
  },
  {
   "cell_type": "code",
   "execution_count": 12,
   "metadata": {},
   "outputs": [
    {
     "data": {
      "text/html": [
       "<div>\n",
       "<style>\n",
       "    .dataframe thead tr:only-child th {\n",
       "        text-align: right;\n",
       "    }\n",
       "\n",
       "    .dataframe thead th {\n",
       "        text-align: left;\n",
       "    }\n",
       "\n",
       "    .dataframe tbody tr th {\n",
       "        vertical-align: top;\n",
       "    }\n",
       "</style>\n",
       "<table border=\"1\" class=\"dataframe\">\n",
       "  <thead>\n",
       "    <tr style=\"text-align: right;\">\n",
       "      <th></th>\n",
       "      <th>sepal_length</th>\n",
       "      <th>sepal_width</th>\n",
       "      <th>petal_length</th>\n",
       "      <th>petal_width</th>\n",
       "      <th>species</th>\n",
       "    </tr>\n",
       "  </thead>\n",
       "  <tbody>\n",
       "    <tr>\n",
       "      <th>145</th>\n",
       "      <td>6.7</td>\n",
       "      <td>3.0</td>\n",
       "      <td>5.2</td>\n",
       "      <td>2.3</td>\n",
       "      <td>virginica</td>\n",
       "    </tr>\n",
       "    <tr>\n",
       "      <th>146</th>\n",
       "      <td>6.3</td>\n",
       "      <td>2.5</td>\n",
       "      <td>5.0</td>\n",
       "      <td>1.9</td>\n",
       "      <td>virginica</td>\n",
       "    </tr>\n",
       "    <tr>\n",
       "      <th>147</th>\n",
       "      <td>6.5</td>\n",
       "      <td>3.0</td>\n",
       "      <td>5.2</td>\n",
       "      <td>2.0</td>\n",
       "      <td>virginica</td>\n",
       "    </tr>\n",
       "    <tr>\n",
       "      <th>148</th>\n",
       "      <td>6.2</td>\n",
       "      <td>3.4</td>\n",
       "      <td>5.4</td>\n",
       "      <td>2.3</td>\n",
       "      <td>virginica</td>\n",
       "    </tr>\n",
       "    <tr>\n",
       "      <th>149</th>\n",
       "      <td>5.9</td>\n",
       "      <td>3.0</td>\n",
       "      <td>5.1</td>\n",
       "      <td>1.8</td>\n",
       "      <td>virginica</td>\n",
       "    </tr>\n",
       "  </tbody>\n",
       "</table>\n",
       "</div>"
      ],
      "text/plain": [
       "     sepal_length  sepal_width  petal_length  petal_width    species\n",
       "145           6.7          3.0           5.2          2.3  virginica\n",
       "146           6.3          2.5           5.0          1.9  virginica\n",
       "147           6.5          3.0           5.2          2.0  virginica\n",
       "148           6.2          3.4           5.4          2.3  virginica\n",
       "149           5.9          3.0           5.1          1.8  virginica"
      ]
     },
     "execution_count": 12,
     "metadata": {},
     "output_type": "execute_result"
    }
   ],
   "source": [
    "data1.tail()"
   ]
  },
  {
   "cell_type": "code",
   "execution_count": 13,
   "metadata": {},
   "outputs": [
    {
     "data": {
      "text/html": [
       "<div>\n",
       "<style>\n",
       "    .dataframe thead tr:only-child th {\n",
       "        text-align: right;\n",
       "    }\n",
       "\n",
       "    .dataframe thead th {\n",
       "        text-align: left;\n",
       "    }\n",
       "\n",
       "    .dataframe tbody tr th {\n",
       "        vertical-align: top;\n",
       "    }\n",
       "</style>\n",
       "<table border=\"1\" class=\"dataframe\">\n",
       "  <thead>\n",
       "    <tr style=\"text-align: right;\">\n",
       "      <th></th>\n",
       "      <th>sepal_length</th>\n",
       "      <th>sepal_width</th>\n",
       "      <th>petal_length</th>\n",
       "      <th>petal_width</th>\n",
       "    </tr>\n",
       "  </thead>\n",
       "  <tbody>\n",
       "    <tr>\n",
       "      <th>count</th>\n",
       "      <td>150.000</td>\n",
       "      <td>150.000</td>\n",
       "      <td>150.000</td>\n",
       "      <td>150.000</td>\n",
       "    </tr>\n",
       "    <tr>\n",
       "      <th>mean</th>\n",
       "      <td>5.843</td>\n",
       "      <td>3.057</td>\n",
       "      <td>3.758</td>\n",
       "      <td>1.199</td>\n",
       "    </tr>\n",
       "    <tr>\n",
       "      <th>std</th>\n",
       "      <td>0.828</td>\n",
       "      <td>0.436</td>\n",
       "      <td>1.765</td>\n",
       "      <td>0.762</td>\n",
       "    </tr>\n",
       "    <tr>\n",
       "      <th>min</th>\n",
       "      <td>4.300</td>\n",
       "      <td>2.000</td>\n",
       "      <td>1.000</td>\n",
       "      <td>0.100</td>\n",
       "    </tr>\n",
       "    <tr>\n",
       "      <th>25%</th>\n",
       "      <td>5.100</td>\n",
       "      <td>2.800</td>\n",
       "      <td>1.600</td>\n",
       "      <td>0.300</td>\n",
       "    </tr>\n",
       "    <tr>\n",
       "      <th>50%</th>\n",
       "      <td>5.800</td>\n",
       "      <td>3.000</td>\n",
       "      <td>4.350</td>\n",
       "      <td>1.300</td>\n",
       "    </tr>\n",
       "    <tr>\n",
       "      <th>75%</th>\n",
       "      <td>6.400</td>\n",
       "      <td>3.300</td>\n",
       "      <td>5.100</td>\n",
       "      <td>1.800</td>\n",
       "    </tr>\n",
       "    <tr>\n",
       "      <th>max</th>\n",
       "      <td>7.900</td>\n",
       "      <td>4.400</td>\n",
       "      <td>6.900</td>\n",
       "      <td>2.500</td>\n",
       "    </tr>\n",
       "  </tbody>\n",
       "</table>\n",
       "</div>"
      ],
      "text/plain": [
       "       sepal_length  sepal_width  petal_length  petal_width\n",
       "count       150.000      150.000       150.000      150.000\n",
       "mean          5.843        3.057         3.758        1.199\n",
       "std           0.828        0.436         1.765        0.762\n",
       "min           4.300        2.000         1.000        0.100\n",
       "25%           5.100        2.800         1.600        0.300\n",
       "50%           5.800        3.000         4.350        1.300\n",
       "75%           6.400        3.300         5.100        1.800\n",
       "max           7.900        4.400         6.900        2.500"
      ]
     },
     "execution_count": 13,
     "metadata": {},
     "output_type": "execute_result"
    }
   ],
   "source": [
    "data1.describe().round(3)"
   ]
  },
  {
   "cell_type": "markdown",
   "metadata": {},
   "source": [
    "### Data Cleaning"
   ]
  },
  {
   "cell_type": "code",
   "execution_count": null,
   "metadata": {
    "collapsed": true
   },
   "outputs": [],
   "source": []
  },
  {
   "cell_type": "code",
   "execution_count": null,
   "metadata": {
    "collapsed": true
   },
   "outputs": [],
   "source": []
  },
  {
   "cell_type": "code",
   "execution_count": null,
   "metadata": {
    "collapsed": true
   },
   "outputs": [],
   "source": []
  },
  {
   "cell_type": "code",
   "execution_count": null,
   "metadata": {
    "collapsed": true
   },
   "outputs": [],
   "source": []
  },
  {
   "cell_type": "code",
   "execution_count": null,
   "metadata": {
    "collapsed": true
   },
   "outputs": [],
   "source": []
  },
  {
   "cell_type": "code",
   "execution_count": null,
   "metadata": {
    "collapsed": true
   },
   "outputs": [],
   "source": []
  },
  {
   "cell_type": "markdown",
   "metadata": {},
   "source": [
    "### Data Visualization"
   ]
  },
  {
   "cell_type": "code",
   "execution_count": 14,
   "metadata": {
    "collapsed": true
   },
   "outputs": [],
   "source": [
    "import matplotlib.pyplot as plt\n",
    "import seaborn as sns; sns.set()\n",
    "%matplotlib inline"
   ]
  },
  {
   "cell_type": "markdown",
   "metadata": {},
   "source": [
    "First, I need to load my .csv data. I use the iris dataset because it is the most common dataset in machine learning."
   ]
  },
  {
   "cell_type": "markdown",
   "metadata": {},
   "source": [
    "Next I make a histogram of sepal length."
   ]
  },
  {
   "cell_type": "code",
   "execution_count": 15,
   "metadata": {},
   "outputs": [
    {
     "data": {
      "text/plain": [
       "<matplotlib.axes._subplots.AxesSubplot at 0x20b2c57e3c8>"
      ]
     },
     "execution_count": 15,
     "metadata": {},
     "output_type": "execute_result"
    },
    {
     "data": {
      "image/png": "[encoded data removed]",
      "text/plain": [
       "<matplotlib.figure.Figure at 0x20b2c5500b8>"
      ]
     },
     "metadata": {},
     "output_type": "display_data"
    }
   ],
   "source": [
    "sns.distplot(data1.sepal_length)"
   ]
  },
  {
   "cell_type": "markdown",
   "metadata": {},
   "source": [
    "Now I look at the pairwise correlations for all variables."
   ]
  },
  {
   "cell_type": "code",
   "execution_count": 16,
   "metadata": {},
   "outputs": [
    {
     "data": {
      "image/png": "[encoded data removed]",
      "text/plain": [
       "<matplotlib.figure.Figure at 0x20b2c6a2be0>"
      ]
     },
     "metadata": {},
     "output_type": "display_data"
    }
   ],
   "source": [
    "g = sns.PairGrid(data1)\n",
    "g = g.map(plt.scatter)"
   ]
  },
  {
   "cell_type": "code",
   "execution_count": null,
   "metadata": {
    "collapsed": true
   },
   "outputs": [],
   "source": []
  },
  {
   "cell_type": "code",
   "execution_count": null,
   "metadata": {
    "collapsed": true
   },
   "outputs": [],
   "source": []
  },
  {
   "cell_type": "markdown",
   "metadata": {
    "collapsed": true
   },
   "source": [
    "## Data 2: DTA (Stata) File"
   ]
  },
  {
   "cell_type": "code",
   "execution_count": 17,
   "metadata": {},
   "outputs": [
    {
     "data": {
      "text/plain": [
       "['About SACMEQ.pdf',\n",
       " 'after.gph',\n",
       " 'before.gph',\n",
       " 'bot.doc',\n",
       " 'bot.txt',\n",
       " 'Country specific',\n",
       " 'csv.dta',\n",
       " 'desktop.ini',\n",
       " 'Do-file codes.gsheet',\n",
       " 'Do-File for SACMEQ Analysis.do',\n",
       " 'doseresponse_example.do',\n",
       " 'Factors (scratch).gsheet',\n",
       " 'Factors.gsheet',\n",
       " 'fulldata.dta',\n",
       " 'gdp-bar.png',\n",
       " 'gpscore_output.do',\n",
       " 'gps_example.do',\n",
       " 'iv_dataset.dta',\n",
       " 'iv_dataset[Conflict].dta',\n",
       " 'KENYA_compact.dta',\n",
       " 'KENYA_expanded.dta',\n",
       " 'kenya_iv.dta',\n",
       " 'Kenya_model.docx',\n",
       " 'Kenya_model.txt',\n",
       " 'Lesotho_model.doc',\n",
       " 'Lesotho_model.docx',\n",
       " 'Lesotho_model.txt',\n",
       " 'lotterydataset.dta',\n",
       " 'master_KEN.dta',\n",
       " 'no_missing.dta',\n",
       " 'output.dta',\n",
       " 'PASEC data',\n",
       " 'Questionnaires',\n",
       " 'reduced_data_set.dta',\n",
       " 'SACMEQ data restructuring.do',\n",
       " 'SACMEQ15_corrected.dta',\n",
       " 'SACMEQ15_final (after restructuring for PSM analysis) - 23 Aug 2017.dta',\n",
       " 'SACMEQ15_final.csv',\n",
       " 'SACMEQ15_final.dta',\n",
       " 'SES by school type T-test.xlsx',\n",
       " 'sesinteract.doc',\n",
       " 'sesinteract.txt',\n",
       " 'teachertemp.doc',\n",
       " 'teachertemp.txt',\n",
       " 'Variable Reference.gsheet',\n",
       " 'Variables and codebooks',\n",
       " 'Variables.gdoc',\n",
       " 'Vars.gsheet']"
      ]
     },
     "execution_count": 17,
     "metadata": {},
     "output_type": "execute_result"
    }
   ],
   "source": [
    "import os\n",
    "os.chdir('C:\\\\Users\\\\iriley\\\\Google Drive\\\\B. Asistente de investigación\\\\Dr. Baum\\\\###SACMEQ. PASEC private school analysis\\\\Data')\n",
    "os.listdir()"
   ]
  },
  {
   "cell_type": "code",
   "execution_count": 18,
   "metadata": {
    "collapsed": true
   },
   "outputs": [],
   "source": [
    "data2 = pd.read_stata('KENYA_compact.dta')\n",
    "data2 = data2.round(3)"
   ]
  },
  {
   "cell_type": "code",
   "execution_count": 19,
   "metadata": {},
   "outputs": [
    {
     "data": {
      "text/html": [
       "<div>\n",
       "<style>\n",
       "    .dataframe thead tr:only-child th {\n",
       "        text-align: right;\n",
       "    }\n",
       "\n",
       "    .dataframe thead th {\n",
       "        text-align: left;\n",
       "    }\n",
       "\n",
       "    .dataframe tbody tr th {\n",
       "        vertical-align: top;\n",
       "    }\n",
       "</style>\n",
       "<table border=\"1\" class=\"dataframe\">\n",
       "  <thead>\n",
       "    <tr style=\"text-align: right;\">\n",
       "      <th></th>\n",
       "      <th>REGION</th>\n",
       "      <th>DISTRICT</th>\n",
       "      <th>SCHOOL</th>\n",
       "      <th>private</th>\n",
       "      <th>read</th>\n",
       "      <th>math</th>\n",
       "      <th>f_nutr</th>\n",
       "      <th>f_pabs</th>\n",
       "      <th>f_borrow</th>\n",
       "      <th>f_comp1</th>\n",
       "      <th>...</th>\n",
       "      <th>readmean</th>\n",
       "      <th>mathsd</th>\n",
       "      <th>readsd</th>\n",
       "      <th>mathnorm</th>\n",
       "      <th>readnorm</th>\n",
       "      <th>relsesmed</th>\n",
       "      <th>relsesrank</th>\n",
       "      <th>f_sesnn</th>\n",
       "      <th>sa_f_sesnn</th>\n",
       "      <th>relses</th>\n",
       "    </tr>\n",
       "  </thead>\n",
       "  <tbody>\n",
       "    <tr>\n",
       "      <th>0</th>\n",
       "      <td>COA</td>\n",
       "      <td>101</td>\n",
       "      <td>101354</td>\n",
       "      <td>GOVERNMENT</td>\n",
       "      <td>652.288</td>\n",
       "      <td>622.880</td>\n",
       "      <td>0.543</td>\n",
       "      <td>-0.644</td>\n",
       "      <td>-0.866</td>\n",
       "      <td>1.643</td>\n",
       "      <td>...</td>\n",
       "      <td>548.666992</td>\n",
       "      <td>92.945999</td>\n",
       "      <td>100.310997</td>\n",
       "      <td>0.646</td>\n",
       "      <td>1.033</td>\n",
       "      <td>1.276</td>\n",
       "      <td>4156.0</td>\n",
       "      <td>3.827</td>\n",
       "      <td>2.483</td>\n",
       "      <td>1.344</td>\n",
       "    </tr>\n",
       "    <tr>\n",
       "      <th>1</th>\n",
       "      <td>COA</td>\n",
       "      <td>101</td>\n",
       "      <td>101354</td>\n",
       "      <td>GOVERNMENT</td>\n",
       "      <td>709.037</td>\n",
       "      <td>809.772</td>\n",
       "      <td>0.543</td>\n",
       "      <td>NaN</td>\n",
       "      <td>-0.866</td>\n",
       "      <td>0.709</td>\n",
       "      <td>...</td>\n",
       "      <td>548.666992</td>\n",
       "      <td>92.945999</td>\n",
       "      <td>100.310997</td>\n",
       "      <td>2.657</td>\n",
       "      <td>1.599</td>\n",
       "      <td>0.000</td>\n",
       "      <td>2138.0</td>\n",
       "      <td>2.551</td>\n",
       "      <td>2.483</td>\n",
       "      <td>0.068</td>\n",
       "    </tr>\n",
       "    <tr>\n",
       "      <th>2</th>\n",
       "      <td>COA</td>\n",
       "      <td>101</td>\n",
       "      <td>101354</td>\n",
       "      <td>GOVERNMENT</td>\n",
       "      <td>678.516</td>\n",
       "      <td>788.507</td>\n",
       "      <td>0.543</td>\n",
       "      <td>-0.666</td>\n",
       "      <td>-0.866</td>\n",
       "      <td>-0.254</td>\n",
       "      <td>...</td>\n",
       "      <td>548.666992</td>\n",
       "      <td>92.945999</td>\n",
       "      <td>100.310997</td>\n",
       "      <td>2.428</td>\n",
       "      <td>1.294</td>\n",
       "      <td>0.336</td>\n",
       "      <td>3427.0</td>\n",
       "      <td>2.887</td>\n",
       "      <td>2.483</td>\n",
       "      <td>0.405</td>\n",
       "    </tr>\n",
       "    <tr>\n",
       "      <th>3</th>\n",
       "      <td>COA</td>\n",
       "      <td>101</td>\n",
       "      <td>101354</td>\n",
       "      <td>GOVERNMENT</td>\n",
       "      <td>533.542</td>\n",
       "      <td>560.321</td>\n",
       "      <td>0.543</td>\n",
       "      <td>NaN</td>\n",
       "      <td>-0.866</td>\n",
       "      <td>0.384</td>\n",
       "      <td>...</td>\n",
       "      <td>548.666992</td>\n",
       "      <td>92.945999</td>\n",
       "      <td>100.310997</td>\n",
       "      <td>-0.027</td>\n",
       "      <td>-0.151</td>\n",
       "      <td>-1.555</td>\n",
       "      <td>29.0</td>\n",
       "      <td>0.996</td>\n",
       "      <td>2.483</td>\n",
       "      <td>-1.487</td>\n",
       "    </tr>\n",
       "    <tr>\n",
       "      <th>4</th>\n",
       "      <td>COA</td>\n",
       "      <td>101</td>\n",
       "      <td>101354</td>\n",
       "      <td>GOVERNMENT</td>\n",
       "      <td>618.238</td>\n",
       "      <td>610.278</td>\n",
       "      <td>0.543</td>\n",
       "      <td>NaN</td>\n",
       "      <td>-0.866</td>\n",
       "      <td>-0.460</td>\n",
       "      <td>...</td>\n",
       "      <td>548.666992</td>\n",
       "      <td>92.945999</td>\n",
       "      <td>100.310997</td>\n",
       "      <td>0.510</td>\n",
       "      <td>0.694</td>\n",
       "      <td>0.340</td>\n",
       "      <td>3431.0</td>\n",
       "      <td>2.891</td>\n",
       "      <td>2.483</td>\n",
       "      <td>0.408</td>\n",
       "    </tr>\n",
       "  </tbody>\n",
       "</table>\n",
       "<p>5 rows × 120 columns</p>\n",
       "</div>"
      ],
      "text/plain": [
       "  REGION DISTRICT  SCHOOL     private     read     math  f_nutr  f_pabs  \\\n",
       "0    COA      101  101354  GOVERNMENT  652.288  622.880   0.543  -0.644   \n",
       "1    COA      101  101354  GOVERNMENT  709.037  809.772   0.543     NaN   \n",
       "2    COA      101  101354  GOVERNMENT  678.516  788.507   0.543  -0.666   \n",
       "3    COA      101  101354  GOVERNMENT  533.542  560.321   0.543     NaN   \n",
       "4    COA      101  101354  GOVERNMENT  618.238  610.278   0.543     NaN   \n",
       "\n",
       "   f_borrow  f_comp1   ...      readmean     mathsd      readsd  mathnorm  \\\n",
       "0    -0.866    1.643   ...    548.666992  92.945999  100.310997     0.646   \n",
       "1    -0.866    0.709   ...    548.666992  92.945999  100.310997     2.657   \n",
       "2    -0.866   -0.254   ...    548.666992  92.945999  100.310997     2.428   \n",
       "3    -0.866    0.384   ...    548.666992  92.945999  100.310997    -0.027   \n",
       "4    -0.866   -0.460   ...    548.666992  92.945999  100.310997     0.510   \n",
       "\n",
       "   readnorm  relsesmed  relsesrank  f_sesnn  sa_f_sesnn  relses  \n",
       "0     1.033      1.276      4156.0    3.827       2.483   1.344  \n",
       "1     1.599      0.000      2138.0    2.551       2.483   0.068  \n",
       "2     1.294      0.336      3427.0    2.887       2.483   0.405  \n",
       "3    -0.151     -1.555        29.0    0.996       2.483  -1.487  \n",
       "4     0.694      0.340      3431.0    2.891       2.483   0.408  \n",
       "\n",
       "[5 rows x 120 columns]"
      ]
     },
     "execution_count": 19,
     "metadata": {},
     "output_type": "execute_result"
    }
   ],
   "source": [
    "data2.head().round(3)"
   ]
  },
  {
   "cell_type": "code",
   "execution_count": 20,
   "metadata": {},
   "outputs": [
    {
     "data": {
      "text/html": [
       "<div>\n",
       "<style>\n",
       "    .dataframe thead tr:only-child th {\n",
       "        text-align: right;\n",
       "    }\n",
       "\n",
       "    .dataframe thead th {\n",
       "        text-align: left;\n",
       "    }\n",
       "\n",
       "    .dataframe tbody tr th {\n",
       "        vertical-align: top;\n",
       "    }\n",
       "</style>\n",
       "<table border=\"1\" class=\"dataframe\">\n",
       "  <thead>\n",
       "    <tr style=\"text-align: right;\">\n",
       "      <th></th>\n",
       "      <th>SCHOOL</th>\n",
       "      <th>read</th>\n",
       "      <th>math</th>\n",
       "      <th>f_nutr</th>\n",
       "      <th>f_pabs</th>\n",
       "      <th>f_borrow</th>\n",
       "      <th>f_comp1</th>\n",
       "      <th>f_comp2</th>\n",
       "      <th>f_english</th>\n",
       "      <th>f_ext</th>\n",
       "      <th>...</th>\n",
       "      <th>readmean</th>\n",
       "      <th>mathsd</th>\n",
       "      <th>readsd</th>\n",
       "      <th>mathnorm</th>\n",
       "      <th>readnorm</th>\n",
       "      <th>relsesmed</th>\n",
       "      <th>relsesrank</th>\n",
       "      <th>f_sesnn</th>\n",
       "      <th>sa_f_sesnn</th>\n",
       "      <th>relses</th>\n",
       "    </tr>\n",
       "  </thead>\n",
       "  <tbody>\n",
       "    <tr>\n",
       "      <th>count</th>\n",
       "      <td>4.433000e+03</td>\n",
       "      <td>4433.000</td>\n",
       "      <td>4430.000</td>\n",
       "      <td>4433.000</td>\n",
       "      <td>1789.000</td>\n",
       "      <td>4433.000</td>\n",
       "      <td>550.000</td>\n",
       "      <td>550.000</td>\n",
       "      <td>4433.000</td>\n",
       "      <td>3008.000</td>\n",
       "      <td>...</td>\n",
       "      <td>4433.000</td>\n",
       "      <td>4433.000</td>\n",
       "      <td>4433.000</td>\n",
       "      <td>4430.000</td>\n",
       "      <td>4433.000</td>\n",
       "      <td>4433.000</td>\n",
       "      <td>4433.000</td>\n",
       "      <td>4433.000</td>\n",
       "      <td>4433.000</td>\n",
       "      <td>4433.000</td>\n",
       "    </tr>\n",
       "    <tr>\n",
       "      <th>mean</th>\n",
       "      <td>7.775268e+08</td>\n",
       "      <td>548.667</td>\n",
       "      <td>562.848</td>\n",
       "      <td>-0.000</td>\n",
       "      <td>0.000</td>\n",
       "      <td>0.001</td>\n",
       "      <td>0.000</td>\n",
       "      <td>0.000</td>\n",
       "      <td>-0.000</td>\n",
       "      <td>0.000</td>\n",
       "      <td>...</td>\n",
       "      <td>548.664</td>\n",
       "      <td>92.945</td>\n",
       "      <td>100.312</td>\n",
       "      <td>0.000</td>\n",
       "      <td>0.000</td>\n",
       "      <td>0.127</td>\n",
       "      <td>2213.729</td>\n",
       "      <td>0.992</td>\n",
       "      <td>0.992</td>\n",
       "      <td>0.000</td>\n",
       "    </tr>\n",
       "    <tr>\n",
       "      <th>std</th>\n",
       "      <td>2.899323e+08</td>\n",
       "      <td>100.311</td>\n",
       "      <td>92.946</td>\n",
       "      <td>0.988</td>\n",
       "      <td>0.999</td>\n",
       "      <td>1.000</td>\n",
       "      <td>0.993</td>\n",
       "      <td>0.996</td>\n",
       "      <td>0.998</td>\n",
       "      <td>0.937</td>\n",
       "      <td>...</td>\n",
       "      <td>0.003</td>\n",
       "      <td>0.001</td>\n",
       "      <td>0.001</td>\n",
       "      <td>1.000</td>\n",
       "      <td>1.000</td>\n",
       "      <td>0.666</td>\n",
       "      <td>1279.949</td>\n",
       "      <td>0.954</td>\n",
       "      <td>0.695</td>\n",
       "      <td>0.653</td>\n",
       "    </tr>\n",
       "    <tr>\n",
       "      <th>min</th>\n",
       "      <td>1.013540e+05</td>\n",
       "      <td>122.083</td>\n",
       "      <td>171.122</td>\n",
       "      <td>-5.577</td>\n",
       "      <td>-0.727</td>\n",
       "      <td>-0.866</td>\n",
       "      <td>-1.394</td>\n",
       "      <td>-1.787</td>\n",
       "      <td>-3.222</td>\n",
       "      <td>-4.120</td>\n",
       "      <td>...</td>\n",
       "      <td>548.667</td>\n",
       "      <td>92.946</td>\n",
       "      <td>100.311</td>\n",
       "      <td>-4.215</td>\n",
       "      <td>-4.253</td>\n",
       "      <td>-2.378</td>\n",
       "      <td>1.000</td>\n",
       "      <td>0.000</td>\n",
       "      <td>0.127</td>\n",
       "      <td>-2.301</td>\n",
       "    </tr>\n",
       "    <tr>\n",
       "      <th>25%</th>\n",
       "      <td>8.243011e+08</td>\n",
       "      <td>481.848</td>\n",
       "      <td>509.350</td>\n",
       "      <td>-0.003</td>\n",
       "      <td>-0.627</td>\n",
       "      <td>-0.866</td>\n",
       "      <td>-0.787</td>\n",
       "      <td>-0.834</td>\n",
       "      <td>0.277</td>\n",
       "      <td>-0.631</td>\n",
       "      <td>...</td>\n",
       "      <td>548.667</td>\n",
       "      <td>92.946</td>\n",
       "      <td>100.311</td>\n",
       "      <td>-0.576</td>\n",
       "      <td>-0.666</td>\n",
       "      <td>-0.190</td>\n",
       "      <td>1109.000</td>\n",
       "      <td>0.392</td>\n",
       "      <td>0.591</td>\n",
       "      <td>-0.337</td>\n",
       "    </tr>\n",
       "    <tr>\n",
       "      <th>50%</th>\n",
       "      <td>8.825010e+08</td>\n",
       "      <td>542.222</td>\n",
       "      <td>547.831</td>\n",
       "      <td>0.543</td>\n",
       "      <td>-0.327</td>\n",
       "      <td>-0.572</td>\n",
       "      <td>-0.269</td>\n",
       "      <td>0.107</td>\n",
       "      <td>0.277</td>\n",
       "      <td>0.157</td>\n",
       "      <td>...</td>\n",
       "      <td>548.667</td>\n",
       "      <td>92.946</td>\n",
       "      <td>100.311</td>\n",
       "      <td>-0.162</td>\n",
       "      <td>-0.064</td>\n",
       "      <td>0.000</td>\n",
       "      <td>2138.000</td>\n",
       "      <td>0.633</td>\n",
       "      <td>0.756</td>\n",
       "      <td>-0.098</td>\n",
       "    </tr>\n",
       "    <tr>\n",
       "      <th>75%</th>\n",
       "      <td>9.168040e+08</td>\n",
       "      <td>618.238</td>\n",
       "      <td>610.278</td>\n",
       "      <td>0.543</td>\n",
       "      <td>0.146</td>\n",
       "      <td>0.632</td>\n",
       "      <td>0.587</td>\n",
       "      <td>0.723</td>\n",
       "      <td>0.277</td>\n",
       "      <td>0.772</td>\n",
       "      <td>...</td>\n",
       "      <td>548.667</td>\n",
       "      <td>92.946</td>\n",
       "      <td>100.311</td>\n",
       "      <td>0.510</td>\n",
       "      <td>0.694</td>\n",
       "      <td>0.280</td>\n",
       "      <td>3325.000</td>\n",
       "      <td>1.240</td>\n",
       "      <td>1.126</td>\n",
       "      <td>0.182</td>\n",
       "    </tr>\n",
       "    <tr>\n",
       "      <th>max</th>\n",
       "      <td>9.471010e+08</td>\n",
       "      <td>965.698</td>\n",
       "      <td>1090.392</td>\n",
       "      <td>0.543</td>\n",
       "      <td>7.355</td>\n",
       "      <td>2.266</td>\n",
       "      <td>3.961</td>\n",
       "      <td>3.220</td>\n",
       "      <td>0.601</td>\n",
       "      <td>1.476</td>\n",
       "      <td>...</td>\n",
       "      <td>548.667</td>\n",
       "      <td>92.946</td>\n",
       "      <td>100.311</td>\n",
       "      <td>5.676</td>\n",
       "      <td>4.157</td>\n",
       "      <td>5.152</td>\n",
       "      <td>4433.000</td>\n",
       "      <td>6.165</td>\n",
       "      <td>4.671</td>\n",
       "      <td>4.759</td>\n",
       "    </tr>\n",
       "  </tbody>\n",
       "</table>\n",
       "<p>8 rows × 117 columns</p>\n",
       "</div>"
      ],
      "text/plain": [
       "             SCHOOL      read      math    f_nutr    f_pabs  f_borrow  \\\n",
       "count  4.433000e+03  4433.000  4430.000  4433.000  1789.000  4433.000   \n",
       "mean   7.775268e+08   548.667   562.848    -0.000     0.000     0.001   \n",
       "std    2.899323e+08   100.311    92.946     0.988     0.999     1.000   \n",
       "min    1.013540e+05   122.083   171.122    -5.577    -0.727    -0.866   \n",
       "25%    8.243011e+08   481.848   509.350    -0.003    -0.627    -0.866   \n",
       "50%    8.825010e+08   542.222   547.831     0.543    -0.327    -0.572   \n",
       "75%    9.168040e+08   618.238   610.278     0.543     0.146     0.632   \n",
       "max    9.471010e+08   965.698  1090.392     0.543     7.355     2.266   \n",
       "\n",
       "       f_comp1  f_comp2  f_english     f_ext    ...     readmean    mathsd  \\\n",
       "count  550.000  550.000   4433.000  3008.000    ...     4433.000  4433.000   \n",
       "mean     0.000    0.000     -0.000     0.000    ...      548.664    92.945   \n",
       "std      0.993    0.996      0.998     0.937    ...        0.003     0.001   \n",
       "min     -1.394   -1.787     -3.222    -4.120    ...      548.667    92.946   \n",
       "25%     -0.787   -0.834      0.277    -0.631    ...      548.667    92.946   \n",
       "50%     -0.269    0.107      0.277     0.157    ...      548.667    92.946   \n",
       "75%      0.587    0.723      0.277     0.772    ...      548.667    92.946   \n",
       "max      3.961    3.220      0.601     1.476    ...      548.667    92.946   \n",
       "\n",
       "         readsd  mathnorm  readnorm  relsesmed  relsesrank   f_sesnn  \\\n",
       "count  4433.000  4430.000  4433.000   4433.000    4433.000  4433.000   \n",
       "mean    100.312     0.000     0.000      0.127    2213.729     0.992   \n",
       "std       0.001     1.000     1.000      0.666    1279.949     0.954   \n",
       "min     100.311    -4.215    -4.253     -2.378       1.000     0.000   \n",
       "25%     100.311    -0.576    -0.666     -0.190    1109.000     0.392   \n",
       "50%     100.311    -0.162    -0.064      0.000    2138.000     0.633   \n",
       "75%     100.311     0.510     0.694      0.280    3325.000     1.240   \n",
       "max     100.311     5.676     4.157      5.152    4433.000     6.165   \n",
       "\n",
       "       sa_f_sesnn    relses  \n",
       "count    4433.000  4433.000  \n",
       "mean        0.992     0.000  \n",
       "std         0.695     0.653  \n",
       "min         0.127    -2.301  \n",
       "25%         0.591    -0.337  \n",
       "50%         0.756    -0.098  \n",
       "75%         1.126     0.182  \n",
       "max         4.671     4.759  \n",
       "\n",
       "[8 rows x 117 columns]"
      ]
     },
     "execution_count": 20,
     "metadata": {},
     "output_type": "execute_result"
    }
   ],
   "source": [
    "data2.describe().round(3)"
   ]
  },
  {
   "cell_type": "code",
   "execution_count": null,
   "metadata": {
    "collapsed": true
   },
   "outputs": [],
   "source": []
  },
  {
   "cell_type": "markdown",
   "metadata": {},
   "source": [
    "### Data Cleaning"
   ]
  },
  {
   "cell_type": "code",
   "execution_count": null,
   "metadata": {
    "collapsed": true
   },
   "outputs": [],
   "source": []
  },
  {
   "cell_type": "code",
   "execution_count": null,
   "metadata": {
    "collapsed": true
   },
   "outputs": [],
   "source": []
  },
  {
   "cell_type": "code",
   "execution_count": null,
   "metadata": {
    "collapsed": true
   },
   "outputs": [],
   "source": []
  },
  {
   "cell_type": "code",
   "execution_count": null,
   "metadata": {
    "collapsed": true
   },
   "outputs": [],
   "source": []
  },
  {
   "cell_type": "code",
   "execution_count": null,
   "metadata": {
    "collapsed": true
   },
   "outputs": [],
   "source": []
  },
  {
   "cell_type": "code",
   "execution_count": null,
   "metadata": {
    "collapsed": true
   },
   "outputs": [],
   "source": []
  },
  {
   "cell_type": "markdown",
   "metadata": {},
   "source": [
    "### Data Visualization"
   ]
  },
  {
   "cell_type": "markdown",
   "metadata": {
    "collapsed": true
   },
   "source": [
    "I want to see the distribution of student socio-economic scores."
   ]
  },
  {
   "cell_type": "code",
   "execution_count": 21,
   "metadata": {},
   "outputs": [
    {
     "data": {
      "text/plain": [
       "<matplotlib.axes._subplots.AxesSubplot at 0x20b2e4b1f28>"
      ]
     },
     "execution_count": 21,
     "metadata": {},
     "output_type": "execute_result"
    },
    {
     "data": {
      "image/png": "[encoded data removed]",
      "text/plain": [
       "<matplotlib.figure.Figure at 0x20b2e469f60>"
      ]
     },
     "metadata": {},
     "output_type": "display_data"
    }
   ],
   "source": [
    "sns.distplot(data2.f_ses)"
   ]
  },
  {
   "cell_type": "markdown",
   "metadata": {
    "collapsed": true
   },
   "source": [
    "I also want to see how different test scores are correlated."
   ]
  },
  {
   "cell_type": "code",
   "execution_count": 22,
   "metadata": {},
   "outputs": [
    {
     "data": {
      "text/plain": [
       "<matplotlib.text.Text at 0x20b2db9ceb8>"
      ]
     },
     "execution_count": 22,
     "metadata": {},
     "output_type": "execute_result"
    },
    {
     "data": {
      "image/png": "[encoded data removed]",
      "text/plain": [
       "<matplotlib.figure.Figure at 0x20b2b1126d8>"
      ]
     },
     "metadata": {},
     "output_type": "display_data"
    }
   ],
   "source": [
    "sns.set_style(\"white\")\n",
    "sns.boxplot(data=data2.f_ses);\n",
    "plt.title(\"Boxplots of Factor Variables\")"
   ]
  },
  {
   "cell_type": "code",
   "execution_count": 23,
   "metadata": {},
   "outputs": [
    {
     "data": {
      "text/plain": [
       "4433"
      ]
     },
     "execution_count": 23,
     "metadata": {},
     "output_type": "execute_result"
    }
   ],
   "source": [
    "len(data2.f_ses)"
   ]
  },
  {
   "cell_type": "code",
   "execution_count": 34,
   "metadata": {
    "collapsed": true
   },
   "outputs": [],
   "source": [
    "data2.ones = [1]*len(data2.f_ses)"
   ]
  },
  {
   "cell_type": "code",
   "execution_count": 35,
   "metadata": {},
   "outputs": [
    {
     "data": {
      "text/plain": [
       "<matplotlib.text.Text at 0x20b2ebd4208>"
      ]
     },
     "execution_count": 35,
     "metadata": {},
     "output_type": "execute_result"
    },
    {
     "data": {
      "image/png": "[encoded data removed]",
      "text/plain": [
       "<matplotlib.figure.Figure at 0x20b2df48710>"
      ]
     },
     "metadata": {},
     "output_type": "display_data"
    }
   ],
   "source": [
    "sns.set_style(\"white\")\n",
    "sns.boxplot(data=data2.ones);\n",
    "plt.title(\"Boxplots of Factor Variables\")"
   ]
  },
  {
   "cell_type": "code",
   "execution_count": 33,
   "metadata": {},
   "outputs": [
    {
     "data": {
      "text/plain": [
       "<matplotlib.text.Text at 0x20b2f05cdd8>"
      ]
     },
     "execution_count": 33,
     "metadata": {},
     "output_type": "execute_result"
    },
    {
     "data": {
      "image/png": "[encoded data removed]",
      "text/plain": [
       "<matplotlib.figure.Figure at 0x20b2debbdd8>"
      ]
     },
     "metadata": {},
     "output_type": "display_data"
    }
   ],
   "source": [
    "sns.set_style(\"white\")\n",
    "sns.boxplot(data=data2.f_ext);\n",
    "plt.title(\"Boxplots of Factor Variables\")"
   ]
  },
  {
   "cell_type": "markdown",
   "metadata": {},
   "source": [
    "## Data 3: Web Scraping Subtitle Text"
   ]
  },
  {
   "cell_type": "code",
   "execution_count": 14,
   "metadata": {
    "collapsed": true
   },
   "outputs": [],
   "source": [
    "import requests\n",
    "import re"
   ]
  },
  {
   "cell_type": "markdown",
   "metadata": {},
   "source": [
    "Now I define functions to scrape and clean the data I will eventually scrape."
   ]
  },
  {
   "cell_type": "code",
   "execution_count": 20,
   "metadata": {
    "collapsed": true
   },
   "outputs": [],
   "source": [
    "def scraper(lang, vidid):\n",
    "    '''\n",
    "    Scrapes YouTube subtitles from Google's online \n",
    "    subtitle repository, using the video ID.\n",
    "    '''\n",
    "    address = 'http://video.google.com/timedtext?lang=%s&v=%s' % (lang, vidid)\n",
    "    return requests.get(address).text\n",
    "\n",
    "\n",
    "def ytcleaner(html):\n",
    "    '''\n",
    "   Process subtitle xml text scraped from the web\n",
    "    '''\n",
    "    html2 =  re.sub('\" dur=\".*?\">', '_spl_', html)\n",
    "    html3 = re.sub('<.*?=\"', '_n_', html2)\n",
    "    html4 = re.sub('<.*?>', '', html3)\n",
    "    html5 = re.sub('\\n', '', html4)\n",
    "    html6 = re.sub('_n_', '\\n', html5[3:])\n",
    "    html7 = re.sub('&quot;|&amp;quot;', '\"', html6)\n",
    "    anntext = re.sub('&#39|&amp;#39;;', \"'\", html7)\n",
    "    return anntext\n",
    "\n",
    "\n",
    "def plaintext(html):\n",
    "    '''\n",
    "    Process subtitle xml text to return a plain text file\n",
    "    '''\n",
    "    html2 =  re.sub('\" dur=\".*?\">|<.*?text start=.*?>', '\\t', html)\n",
    "    html3 = re.sub('<.*?=\"', '_n_', html2)\n",
    "    html4 = re.sub('<.*?>', '', html3)\n",
    "    html5 = re.sub('\\n', '', html4)\n",
    "    html6 = re.sub('_n_', '\\n', html5[3:])\n",
    "    html7 = re.sub('&quot;|&amp;quot;', '\"', html6)\n",
    "    html8 = re.sub('&amp;#39;', \"'\", html7)\n",
    "    anntext = re.sub('&#39;', \"'\", html8)\n",
    "    return anntext"
   ]
  },
  {
   "cell_type": "markdown",
   "metadata": {},
   "source": []
  },
  {
   "cell_type": "code",
   "execution_count": 16,
   "metadata": {},
   "outputs": [
    {
     "name": "stdout",
     "output_type": "stream",
     "text": [
      "<?xml version=\"1.0\" encoding=\"utf-8\" ?><transcript><text start=\"5.4\" dur=\"2.81\">The challenge begins with how to pronounce\n",
      "his name.</text><text start=\"8.21\" dur=\"3.44\">The first bit should sound like ‘Knee’, the second like ‘cha’</text><text start=\"11.65\" dur=\"1.21\">Knee – cha.</text><text start=\"12.86\" dur=\"3.76\">Then we need to get past some of his extraordinary\n",
      "and provocative statements:</text><text start=\"16.62\" dur=\"1.76\">‘What doesn’t kill me makes\n",
      "me stronger’</text><text start=\"18.39\" dur=\"2.68\">‘God is dead! And we have killed him.&amp;#39;</text><text start=\"21.07\" dur=\"1.26\">And his large moustache.</text><text start=\"22.33\" dur=\"4.63\">But when we do, we’ll discover a thinker\n",
      "who is intermittently enchanting, wise and</text><text start=\"26.96\" dur=\"1.549\">very helpful.</text><text start=\"28.509\" dur=\"4.481\">Friedrich Nietzsche was born in 1844 in a\n",
      "quiet village in the eastern part of Germany</text><text start=\"32.99\" dur=\"2.13\">where his father was the priest.</text><text start=\"35.12\" dur=\"3.35\">He did exceptionally well at school and university and so excelled at</text><text start=\"38.47\" dur=\"2.06\">ancient Greek that he was made a professor</text><text start=\"40.53\" dur=\"1.52\">at the University of Basel</text><text start=\"42.05\" dur=\"2.34\">when still only in his mid-twenties.</text><text start=\"44.39\" dur=\"4.2\">But his official career didn’t work out.\n",
      "He got fed up with his fellow academics, gave</text><text start=\"48.59\" dur=\"3.27\">up his job and moved to Sils Maria in the\n",
      "Swiss alps</text><text start=\"51.86\" dur=\"2.71\">where he lived quietly, working on his masterpieces,</text><text start=\"54.57\" dur=\"0.77\">among them:</text><text start=\"55.34\" dur=\"1.88\">The Birth of Tragedy,\n",
      "Human, All Too Human,</text><text start=\"57.22\" dur=\"2.04\">The Gay Science, Thus Spoke Zarathustra,</text><text start=\"59.26\" dur=\"2.7\">Beyond Good and Evil,\n",
      "On the Genealogy of Morals,</text><text start=\"61.96\" dur=\"2.82\">He had lots of problems:\n",
      "- he didn’t get on with his family:</text><text start=\"64.78\" dur=\"3.819\">&amp;#39;I don’t like my mother and it’s painful\n",
      "even for me to hear my sister’s voice.’</text><text start=\"68.599\" dur=\"2.191\">- women kept rejecting him.\n",
      "- his books didn’t sell</text><text start=\"70.79\" dur=\"4.57\">- And when he was only forty-four, he had\n",
      "a mental breakdown, precipitated when he saw</text><text start=\"75.36\" dur=\"3.03\">a horse in a Turin street being beaten by its driver</text><text start=\"78.39\" dur=\"4.35\">and ran over to embrace him shouting\n",
      "&amp;#39;I understand you&amp;#39;. He never recovered and</text><text start=\"82.74\" dur=\"2.96\">died eleven sad years later.</text><text start=\"85.7\" dur=\"3.2\">But his philosophy was full of heroism and\n",
      "grandeur.</text><text start=\"88.909\" dur=\"3.051\">He was a prophet of what he called: SELBSTÜBERWINDUNG</text><text start=\"91.96\" dur=\"3.5\">or SELF-OVERCOMING, the process by which a great-souled</text><text start=\"95.46\" dur=\"2.46\">person - what he called an ÜBERMENSCH </text><text start=\"97.92\" dur=\"3.059\">rises above their\n",
      "circumstances and difficulties to embrace</text><text start=\"100.979\" dur=\"2.281\">whatever life throws at them.</text><text start=\"103.26\" dur=\"4.95\">He wanted his work to teach us, as he put\n",
      "it, ‘how to become who we really are’.</text><text start=\"108.21\" dur=\"4.3\">His thought centers around 4 main recommendations:</text><text start=\"113.18\" dur=\"1.799\">Own up to envy</text><text start=\"114.979\" dur=\"4.231\">Envy is – Nietzsche recognised – a big\n",
      "part of life. Yet the lingering effects of</text><text start=\"119.21\" dur=\"2.78\">Christianity generally teaches to be feel ashamed</text><text start=\"121.99\" dur=\"2.09\">of our envious feelings. They seem an</text><text start=\"124.08\" dur=\"3.8\">indication of evil. So we hide them from ourselves\n",
      "and others</text><text start=\"128.22\" dur=\"4.53\">Yet there is nothing wrong with envy, maintained\n",
      "Nietzsche, so long as we use it as a guide</text><text start=\"132.75\" dur=\"5.139\">to what we really want. Every person who makes\n",
      "us envious should be seen as an indication</text><text start=\"137.889\" dur=\"4.35\">of what we could one day become. The envy-inducing\n",
      "writer, tycoon</text><text start=\"142.239\" dur=\"4.18\">or chef is hinting at who you are capable of one day being.</text><text start=\"146.419\" dur=\"3.98\">It&amp;#39;s not that Nietzsche believed we always end up getting what we want. His own life</text><text start=\"150.409\" dur=\"4.34\">had taught him this well enough). He simply\n",
      "insisted that we must face up to our true</text><text start=\"154.749\" dur=\"5.58\">desires, put up a heroic fight to honour them,\n",
      "and only then mourn failure with solemn dignity.</text><text start=\"160.329\" dur=\"2.8\">That is what it means to be an ÜBERMENSCH</text><text start=\"163.129\" dur=\"2.321\">2. Don’t be a Christian</text><text start=\"165.45\" dur=\"2.75\">Nietzsche had some extreme things to say about Christianity</text><text start=\"168.2\" dur=\"2.519\">‘In the entire New Testament, there</text><text start=\"170.719\" dur=\"4.68\">is only person worth respecting: Pilate, the\n",
      "Roman governor.’</text><text start=\"175.4\" dur=\"5\">It was knockabout stuff, but his true target\n",
      "was more subtle and more interesting: he resented</text><text start=\"180.4\" dur=\"4.319\">Christianity for protecting people from their\n",
      "envy.</text><text start=\"184.719\" dur=\"4.03\">Christianity had in Nietzsche’s account\n",
      "emerged in the late Roman Empire</text><text start=\"188.749\" dur=\"2.92\">in the minds of timid slaves, who had lacked the stomach</text><text start=\"191.669\" dur=\"2.29\">to get hold of what they really wanted </text><text start=\"193.959\" dur=\"4.26\">and so had clung to a philosophy that made a virtue of their cowardice.</text><text start=\"198.23\" dur=\"2.64\">He called this SKLAVENMORAL</text><text start=\"200.87\" dur=\"4.349\">Christians - whom he rather rudely termed\n",
      "DIE HEERDE, the herd - had wished to</text><text start=\"205.219\" dur=\"4.321\">enjoy the real ingredients of fulfilment (a\n",
      "position in the world, sex,</text><text start=\"209.54\" dur=\"1.72\">intellectual mastery, creativity)</text><text start=\"211.26\" dur=\"2.679\">but had been too inept\n",
      "to get them.</text><text start=\"213.939\" dur=\"2.961\">They had therefore fashioned a hypocritical\n",
      "creed denouncing what</text><text start=\"216.9\" dur=\"2.349\">they wanted but were too weak to fight for</text><text start=\"219.249\" dur=\"2.39\"> – while praising what they did not want but happened</text><text start=\"221.639\" dur=\"3.88\">to have. So, in the Christian value system, sexlessness</text><text start=\"225.519\" dur=\"4.84\">turned into purity [show text changing] weakness\n",
      "became goodness, submission-to-people-one-hates</text><text start=\"230.359\" dur=\"5.44\">became obedience and, in Nietzsche’s phrase,\n",
      "“not-being-able-to-take-revenge” turned</text><text start=\"235.8\" dur=\"1.78\">into “forgiveness.”</text><text start=\"237.82\" dur=\"3.779\">Christianity amounted to a giant machine for\n",
      "bitter denial.</text><text start=\"242.22\" dur=\"2.5\">3. Never drink alcohol</text><text start=\"244.849\" dur=\"4.31\">Nietzsche himself drank only water – and\n",
      "as a special treat, milk. And he thought we</text><text start=\"249.159\" dur=\"2.81\">should do likewise. He wasn’t making a small,</text><text start=\"251.969\" dur=\"4.311\">eccentric dietary point. The idea went to\n",
      "the heart of his philosophy, as contained</text><text start=\"256.28\" dur=\"4.96\">in his declaration: ‘There have been two\n",
      "great narcotics in European civilisation:</text><text start=\"261.24\" dur=\"2.46\">Christianity and alcohol.’</text><text start=\"263.7\" dur=\"4.68\">He hated alcohol for the very same reasons\n",
      "that he scorned Christianity: because both</text><text start=\"268.389\" dur=\"4.81\">numb pain, and both reassure us that things\n",
      "are just fine as they are, sapping us of the</text><text start=\"273.199\" dur=\"4.391\">will to change our lives for the better. A\n",
      "few drinks usher in a transient feeling of</text><text start=\"277.59\" dur=\"4.5\">satisfaction that can get fatally in the way\n",
      "of taking the steps necessary to improve our</text><text start=\"282.09\" dur=\"1.389\">lives.</text><text start=\"283.479\" dur=\"4.981\">Nietzsche was obsessed with the awkward truth\n",
      "that getting really valuable things done hurts.</text><text start=\"288.46\" dur=\"4.62\">“How little you know of human happiness\n",
      "- you comfortable people” he wrote</text><text start=\"293.08\" dur=\"2.929\">“The secret of a fulfilled life is: live</text><text start=\"296.009\" dur=\"4.41\">dangerously! Build your cities on the slopes\n",
      "of Mount Vesuvius!”</text><text start=\"300.68\" dur=\"2.46\">4. “God is Dead”</text><text start=\"303.14\" dur=\"4.58\">Nietzsche’s dramatic assertion that God\n",
      "is dead is not, as it’s often taken to be,</text><text start=\"307.72\" dur=\"2.92\">some kind of a celebratory statement.</text><text start=\"310.64\" dur=\"4.2\">Despite his reservations about Christianity,\n",
      "Nietzsche did not think that the end of belief</text><text start=\"314.849\" dur=\"2.08\">was anything to cheer about.</text><text start=\"316.929\" dur=\"5.031\">Religious beliefs were false, he knew; but\n",
      "he observed that they were very beneficial</text><text start=\"321.96\" dur=\"3.1\">in the sense of helping us cope with the problems\n",
      "of life.</text><text start=\"325.2\" dur=\"5.02\">Nietzsche felt that the gap left by religion\n",
      "should ideally be filled by Culture (he meant:</text><text start=\"330.22\" dur=\"4.48\">philosophy, art, music, literature): Culture should replace Scripture.</text><text start=\"334.7\" dur=\"4.9\">However, Nietzsche was deeply suspicious of\n",
      "the way his own era was handling culture.</text><text start=\"339.61\" dur=\"2.39\">He believed the universities were killing the humanities,</text><text start=\"342\" dur=\"2.8\">turning them into dry academic exercises,</text><text start=\"344.8\" dur=\"3.1\">rather than using them for what they were always meant to be:</text><text start=\"347.9\" dur=\"1.799\">guides to life. He admired</text><text start=\"349.699\" dur=\"3.981\">the way the Greeks had used tragic drama in a practical, therapeutic way,</text><text start=\"353.68\" dur=\"4.97\">as an occasion for catharsis and moral education\n",
      "– and wished his own age to be comparably</text><text start=\"358.65\" dur=\"1.139\">ambitious.</text><text start=\"359.789\" dur=\"3.791\">He called for a reformation, in which people\n",
      "– newly conscious of the crisis brought</text><text start=\"363.58\" dur=\"4.38\">on by the end of faith – would fill the\n",
      "gaps created by the disappearance of religion</text><text start=\"367.96\" dur=\"2.8\">with philosophy and art.</text><text start=\"370.96\" dur=\"4.72\">Every era faces particular psychological challenges,\n",
      "thought Nietzsche, and it is the task of the</text><text start=\"375.689\" dur=\"3.311\">philosopher to identify, and help solve, these.</text><text start=\"379\" dur=\"2.939\">For Nietzsche, the 19th century was reeling under the impact</text><text start=\"381.939\" dur=\"2.641\">of two developments: Mass Democracy </text><text start=\"384.58\" dur=\"1.889\">and Atheism. The first</text><text start=\"386.469\" dur=\"4.151\">threatened to unleash torrents of undigested\n",
      "envy; the second to</text><text start=\"390.62\" dur=\"2.78\">leave humans without guidance or morality.</text><text start=\"393.4\" dur=\"4.46\">In relation to both challenges, Nietzsche\n",
      "remains our endearing, fascinating often loveable</text><text start=\"397.86\" dur=\"2.94\">and moustachioed guide.</text></transcript>\n"
     ]
    }
   ],
   "source": [
    "html1 = scraper('en', 'wHWbZmg2hzU')\n",
    "print(html1)"
   ]
  },
  {
   "cell_type": "markdown",
   "metadata": {},
   "source": [
    "Now I create a dictionary with multiple subtitle files indexed by ID."
   ]
  },
  {
   "cell_type": "code",
   "execution_count": 26,
   "metadata": {},
   "outputs": [],
   "source": [
    "subdict = {}\n",
    "ids = ['wHWbZmg2hzU', 'p0ZVztROpls', 'aircAruvnKk&t=56s', 'CoTA2aqckNM', 'yN0DQFv_-vI', 'Jtma1IcWM7c']\n",
    "for i in ids:\n",
    "    subdict.update({i:plaintext(scraper('en', i))})"
   ]
  },
  {
   "cell_type": "code",
   "execution_count": 27,
   "metadata": {},
   "outputs": [
    {
     "data": {
      "text/plain": [
       "dict_keys(['wHWbZmg2hzU', 'p0ZVztROpls', 'aircAruvnKk&t=56s', 'CoTA2aqckNM', 'yN0DQFv_-vI', 'Jtma1IcWM7c'])"
      ]
     },
     "execution_count": 27,
     "metadata": {},
     "output_type": "execute_result"
    }
   ],
   "source": [
    "subdict.keys()"
   ]
  },
  {
   "cell_type": "code",
   "execution_count": 28,
   "metadata": {},
   "outputs": [
    {
     "name": "stdout",
     "output_type": "stream",
     "text": [
      "{'wHWbZmg2hzU': \"e challenge begins with how to pronouncehis name.\\tThe first bit should sound like ‘Knee’, the second like ‘cha’\\tKnee – cha.\\tThen we need to get past some of his extraordinaryand provocative statements:\\t‘What doesn’t kill me makesme stronger’\\t‘God is dead! And we have killed him.'\\tAnd his large moustache.\\tBut when we do, we’ll discover a thinkerwho is intermittently enchanting, wise and\\tvery helpful.\\tFriedrich Nietzsche was born in 1844 in aquiet village in the eastern part of Germany\\twhere his father was the priest.\\tHe did exceptionally well at school and university and so excelled at\\tancient Greek that he was made a professor\\tat the University of Basel\\twhen still only in his mid-twenties.\\tBut his official career didn’t work out.He got fed up with his fellow academics, gave\\tup his job and moved to Sils Maria in theSwiss alps\\twhere he lived quietly, working on his masterpieces,\\tamong them:\\tThe Birth of Tragedy,Human, All Too Human,\\tThe Gay Science, Thus Spoke Zarathustra,\\tBeyond Good and Evil,On the Genealogy of Morals,\\tHe had lots of problems:- he didn’t get on with his family:\\t'I don’t like my mother and it’s painfuleven for me to hear my sister’s voice.’\\t- women kept rejecting him.- his books didn’t sell\\t- And when he was only forty-four, he hada mental breakdown, precipitated when he saw\\ta horse in a Turin street being beaten by its driver\\tand ran over to embrace him shouting'I understand you'. He never recovered and\\tdied eleven sad years later.\\tBut his philosophy was full of heroism andgrandeur.\\tHe was a prophet of what he called: SELBSTÜBERWINDUNG\\tor SELF-OVERCOMING, the process by which a great-souled\\tperson - what he called an ÜBERMENSCH \\trises above theircircumstances and difficulties to embrace\\twhatever life throws at them.\\tHe wanted his work to teach us, as he putit, ‘how to become who we really are’.\\tHis thought centers around 4 main recommendations:\\tOwn up to envy\\tEnvy is – Nietzsche recognised – a bigpart of life. Yet the lingering effects of\\tChristianity generally teaches to be feel ashamed\\tof our envious feelings. They seem an\\tindication of evil. So we hide them from ourselvesand others\\tYet there is nothing wrong with envy, maintainedNietzsche, so long as we use it as a guide\\tto what we really want. Every person who makesus envious should be seen as an indication\\tof what we could one day become. The envy-inducingwriter, tycoon\\tor chef is hinting at who you are capable of one day being.\\tIt's not that Nietzsche believed we always end up getting what we want. His own life\\thad taught him this well enough). He simplyinsisted that we must face up to our true\\tdesires, put up a heroic fight to honour them,and only then mourn failure with solemn dignity.\\tThat is what it means to be an ÜBERMENSCH\\t2. Don’t be a Christian\\tNietzsche had some extreme things to say about Christianity\\t‘In the entire New Testament, there\\tis only person worth respecting: Pilate, theRoman governor.’\\tIt was knockabout stuff, but his true targetwas more subtle and more interesting: he resented\\tChristianity for protecting people from theirenvy.\\tChristianity had in Nietzsche’s accountemerged in the late Roman Empire\\tin the minds of timid slaves, who had lacked the stomach\\tto get hold of what they really wanted \\tand so had clung to a philosophy that made a virtue of their cowardice.\\tHe called this SKLAVENMORAL\\tChristians - whom he rather rudely termedDIE HEERDE, the herd - had wished to\\tenjoy the real ingredients of fulfilment (aposition in the world, sex,\\tintellectual mastery, creativity)\\tbut had been too ineptto get them.\\tThey had therefore fashioned a hypocriticalcreed denouncing what\\tthey wanted but were too weak to fight for\\t – while praising what they did not want but happened\\tto have. So, in the Christian value system, sexlessness\\tturned into purity [show text changing] weaknessbecame goodness, submission-to-people-one-hates\\tbecame obedience and, in Nietzsche’s phrase,“not-being-able-to-take-revenge” turned\\tinto “forgiveness.”\\tChristianity amounted to a giant machine forbitter denial.\\t3. Never drink alcohol\\tNietzsche himself drank only water – andas a special treat, milk. And he thought we\\tshould do likewise. He wasn’t making a small,\\teccentric dietary point. The idea went tothe heart of his philosophy, as contained\\tin his declaration: ‘There have been twogreat narcotics in European civilisation:\\tChristianity and alcohol.’\\tHe hated alcohol for the very same reasonsthat he scorned Christianity: because both\\tnumb pain, and both reassure us that thingsare just fine as they are, sapping us of the\\twill to change our lives for the better. Afew drinks usher in a transient feeling of\\tsatisfaction that can get fatally in the wayof taking the steps necessary to improve our\\tlives.\\tNietzsche was obsessed with the awkward truththat getting really valuable things done hurts.\\t“How little you know of human happiness- you comfortable people” he wrote\\t“The secret of a fulfilled life is: live\\tdangerously! Build your cities on the slopesof Mount Vesuvius!”\\t4. “God is Dead”\\tNietzsche’s dramatic assertion that Godis dead is not, as it’s often taken to be,\\tsome kind of a celebratory statement.\\tDespite his reservations about Christianity,Nietzsche did not think that the end of belief\\twas anything to cheer about.\\tReligious beliefs were false, he knew; buthe observed that they were very beneficial\\tin the sense of helping us cope with the problemsof life.\\tNietzsche felt that the gap left by religionshould ideally be filled by Culture (he meant:\\tphilosophy, art, music, literature): Culture should replace Scripture.\\tHowever, Nietzsche was deeply suspicious ofthe way his own era was handling culture.\\tHe believed the universities were killing the humanities,\\tturning them into dry academic exercises,\\trather than using them for what they were always meant to be:\\tguides to life. He admired\\tthe way the Greeks had used tragic drama in a practical, therapeutic way,\\tas an occasion for catharsis and moral education– and wished his own age to be comparably\\tambitious.\\tHe called for a reformation, in which people– newly conscious of the crisis brought\\ton by the end of faith – would fill thegaps created by the disappearance of religion\\twith philosophy and art.\\tEvery era faces particular psychological challenges,thought Nietzsche, and it is the task of the\\tphilosopher to identify, and help solve, these.\\tFor Nietzsche, the 19th century was reeling under the impact\\tof two developments: Mass Democracy \\tand Atheism. The first\\tthreatened to unleash torrents of undigestedenvy; the second to\\tleave humans without guidance or morality.\\tIn relation to both challenges, Nietzscheremains our endearing, fascinating often loveable\\tand moustachioed guide.\", 'p0ZVztROpls': 'od morning Hank, it\\'s Tuesday\\tIt\\'s hard to get people on the internet to agree about anything like it\\'s hard to get them to agree about\\tcomplicated subjects like how to pay for and deliver health care and also it\\'s hard to get them to agree about\\ttiny things like whether to call a gif a jif.\\tBut the one thing everybody on the internet seems to agree on at the moment is that the internet kind of sucks. Like Samuel\\tAshworth wrote of Twitter \"the thing about Twitter is that no one who uses it needs an explanation of why it is the worst?\"\\tIt is an endlessly self-renewing bonfire of outrage and confusion.\\tAnd I think that\\'s true not only for Twitter, but also for YouTube and Facebook and reddit\\tand so on. It\\'s hard to get reliable news online and the news cycle moves so quickly that it\\'s difficult to follow\\tcomplicated stories over time and the architecture of the social Internet often seems to lift up the loudest and most\\tdivisive voices over more cautious and nuanced ones. Also lots of undeserving creators and creations reach large audiences\\tAnd then the backlash to those creators and creations is so hyper\\tintense that it creates a backlash to the backlash and then a backlash to the backlash to the backlash ad infinitum. First\\tI think it\\'s worth noting that a lot of this isn\\'t new like the Internet has always sucked or at least\\tWe\\'ve always felt like it sucked.\\tI mean way back in 1995 the very first joke I made on my very first web\\tsite was that the internet was made out of narcissism cat pictures and pornography. The more things change--\\tbut the point is whatever Golden Age of Internet discourse people harken back to is inevitably misremembered. There\\'s a lot\\tI don\\'t like about today\\'s YouTube\\tbut that was also true in 2007 and 2010 and\\t2012 when the running joke online was that the only place on the internet worse than Yahoo Answers was YouTube comments.\\tAdmittedly it sometimes feels like YouTube comments\\tnever really got better so much as the rest of the internet got worse\\tbut still we shouldn\\'t\\tidealize the past. There have always been powerful people who misuse that power and there have always been people who feel powerless and\\tvengeful and use the cloak of anonymity to attack others.\\tBut none of that means we should have to accept an internet that sucks, look\\tthis is a complicated problem, and I am NOT going to solve it in a YouTube video.\\tI do think however that we need to look at the differences between\\tour goals as a species and the goals of the private companies that hosts so much of our public discourse.\\tAll right imagine you work at a zoo and someone comes up to you and says I\\'ll give you a thousand dollars every time you\\tget that lion to roar, maybe at first you teach the lion that when it roars it gets extra food.\\tBut then over time you start to notice that the lion roars whenever it sees something weird\\tso you start to show it lots of surprising information. You also might notice that Lions roar when they feel threatened\\tBut they\\'d learned pretty quickly that your threats were empty, so you\\'d have to vary them up.\\tYou\\'d have to find a million different ways to make the lines feel like their lives were in danger\\tor their families were about to be broken up or their territory was threatened. Twitter is not\\tstructured to make us better informed or happier--\\tit is structured to keep us on Twitter. The same is true for\\tFacebook and Netflix and Hulu and YouTube and cable news all of these companies want as much of our attention as they can get because\\tthat is how they make money, which is what they exist to do.\\tI don\\'t buy the argument that this makes corporations or the people who work at them evil\\tbut I do think we need to understand\\twhat corporations want so that we can know how best to tell them what we want. They want our attention,\\tand it is very hard to turn down the feast that they lay before us.\\tBut if we refuse to roar on cue they will notice and they will change.\\tAlgorithms and the companies that control them are big and powerful\\tbut in the end each of us still chooses what we watch and listen to and read.\\tYour attention is powerful and it is yours\\tHank, I\\'ll see you on Friday.', 'aircAruvnKk&t=56s': \"is is a three. It's sloppily written and rendered at an extremely low resolution of 28 by 28 pixels.\\tBut your brain has no trouble recognizing it as a three and I want you to take a moment to appreciate\\tHow crazy it is that brains can do this so effortlessly?\\tI mean this this and this are also recognizable as threes,\\teven though the specific values of each pixel is very different from one image to the next.\\tThe particular light-sensitive cells in your eye that are firing when you see this three\\tare very different from the ones firing when you see this three.\\tBut something in that crazy smart visual cortex of yours\\tresolves these as representing the same idea while at the same time recognizing other images as their own distinct ideas\\tBut if I told you hey sit down and write for me a program that takes in a grid of 28 by 28\\tpixels like this and outputs a single number between 0 and 10 telling you what it thinks the digit is\\tWell the task goes from comically trivial to dauntingly difficult\\tUnless you've been living under a rock\\tI think I hardly need to motivate the relevance and importance of machine learning and neural networks to the present into the future\\tBut what I want to do here is show you what a neural network actually is\\tAssuming no background and to help visualize what it's doing not as a buzzword but as a piece of math\\tMy hope is just that you come away feeling like this structure itself is\\tMotivated and to feel like you know what it means when you read or you hear about a neural network quote-unquote learning\\tThis video is just going to be devoted to the structure component of that and the following one is going to tackle learning\\tWhat we're going to do is put together a neural network that can learn to recognize handwritten digits\\tThis is a somewhat classic example for\\tIntroducing the topic and I'm happy to stick with the status quo here because at the end of the two videos I want to point\\tYou to a couple good resources where you can learn more and where you can download the code that does this and play with it?\\ton your own computer\\tThere are many many variants of neural networks and in recent years\\tThere's been sort of a boom in research towards these variants\\tBut in these two introductory videos you and I are just going to look at the simplest plain-vanilla form with no added frills\\tThis is kind of a necessary\\tprerequisite for understanding any of the more powerful modern variants and\\tTrust me it still has plenty of complexity for us to wrap our minds around\\tBut even in this simplest form it can learn to recognize handwritten digits\\tWhich is a pretty cool thing for a computer to be able to do.\\tAnd at the same time you'll see how it does fall short of a couple hopes that we might have for it\\tAs the name suggests neural networks are inspired by the brain, but let's break that down\\tWhat are the neurons and in what sense are they linked together?\\tRight now when I say neuron all I want you to think about is a thing that holds a number\\tSpecifically a number between 0 &amp;amp; 1 it's really not more than that\\tFor example the network starts with a bunch of neurons corresponding to each of the 28 times 28 pixels of the input image\\twhich is\\t784 neurons in total each one of these holds a number that represents the grayscale value of the corresponding pixel\\tranging from 0 for black pixels up to 1 for white pixels\\tThis number inside the neuron is called its activation and the image you might have in mind here\\tIs that each neuron is lit up when its activation is a high number?\\tSo all of these 784 neurons make up the first layer of our network\\tNow jumping over to the last layer this has ten neurons each representing one of the digits\\tthe activation in these neurons again some number that's between zero and one\\tRepresents how much the system thinks that a given image?\\tCorresponds with a given digit. There's also a couple layers in between called the hidden layers\\tWhich for the time being?\\tShould just be a giant question mark for how on earth this process of recognizing digits is going to be handled\\tIn this network I chose two hidden layers each one with 16 neurons and admittedly that's kind of an arbitrary choice\\tto be honest I chose two layers based on how I want to motivate the structure in just a moment and\\t16 well that was just a nice number to fit on the screen in practice\\tThere is a lot of room for experiment with a specific structure here\\tThe way the network operates activations in one layer determine the activations of the next layer\\tAnd of course the heart of the network as an information processing mechanism comes down to exactly how those\\tactivations from one layer bring about activations in the next layer\\tIt's meant to be loosely analogous to how in biological networks of neurons some groups of neurons firing\\tcause certain others to fire\\tNow the network\\tI'm showing here has already been trained to recognize digits and let me show you what I mean by that\\tIt means if you feed in an image lighting up all\\t784 neurons of the input layer according to the brightness of each pixel in the image\\tThat pattern of activations causes some very specific pattern in the next layer\\tWhich causes some pattern in the one after it?\\tWhich finally gives some pattern in the output layer and?\\tThe brightest neuron of that output layer is the network's choice so to speak for what digit this image represents?\\tAnd before jumping into the math for how one layer influences the next or how training works?\\tLet's just talk about why it's even reasonable to expect a layered structure like this to behave intelligently\\tWhat are we expecting here? What is the best hope for what those middle layers might be doing?\\tWell when you or I recognize digits we piece together various components a nine has a loop up top and a line on the right\\tan 8 also has a loop up top, but it's paired with another loop down low\\tA 4 basically breaks down into three specific lines and things like that\\tNow in a perfect world we might hope that each neuron in the second-to-last layer\\tcorresponds with one of these sub components\\tThat anytime you feed in an image with say a loop up top like a 9 or an 8\\tThere's some specific\\tNeuron whose activation is going to be close to one and I don't mean this specific loop of pixels the hope would be that any\\tGenerally loopy pattern towards the top sets off this neuron that way going from the third layer to the last one\\tjust requires learning which combination of sub components corresponds to which digits\\tOf course that just kicks the problem down the road\\tBecause how would you recognize these sub components or even learn what the right sub components should be and I still haven't even talked about\\tHow one layer influences the next but run with me on this one for a moment\\trecognizing a loop can also break down into subproblems\\tOne reasonable way to do this would be to first recognize the various little edges that make it up\\tSimilarly a long line like the kind you might see in the digits 1 or 4 or 7\\tWell that's really just a long edge or maybe you think of it as a certain pattern of several smaller edges\\tSo maybe our hope is that each neuron in the second layer of the network\\tcorresponds with the various relevant little edges\\tMaybe when an image like this one comes in it lights up all of the neurons\\tassociated with around eight to ten specific little edges\\twhich in turn lights up the neurons associated with the upper loop and a long vertical line and\\tThose light up the neuron associated with a nine\\twhether or not\\tThis is what our final network actually does is another question, one that I'll come back to once we see how to train the network\\tBut this is a hope that we might have. A sort of goal with the layered structure like this\\tMoreover you can imagine how being able to detect edges and patterns like this would be really useful for other image recognition tasks\\tAnd even beyond image recognition there are all sorts of intelligent things you might want to do that break down into layers of abstraction\\tParsing speech for example involves taking raw audio and picking out distinct sounds which combine to make certain syllables\\tWhich combine to form words which combine to make up phrases and more abstract thoughts etc\\tBut getting back to how any of this actually works picture yourself right now designing\\tHow exactly the activations in one layer might determine the activations in the next?\\tThe goal is to have some mechanism that could conceivably combine pixels into edges\\tOr edges into patterns or patterns into digits and to zoom in on one very specific example\\tLet's say the hope is for one particular\\tNeuron in the second layer to pick up on whether or not the image has an edge in this region here\\tThe question at hand is what parameters should the network have\\twhat dials and knobs should you be able to tweak so that it's expressive enough to potentially capture this pattern or\\tAny other pixel pattern or the pattern that several edges can make a loop and other such things?\\tWell, what we'll do is assign a weight to each one of the connections between our neuron and the neurons from the first layer\\tThese weights are just numbers\\tthen take all those activations from the first layer and compute their weighted sum according to these weights I\\tFind it helpful to think of these weights as being organized into a little grid of their own\\tAnd I'm going to use green pixels to indicate positive weights and red pixels to indicate negative weights\\tWhere the brightness of that pixel is some loose depiction of the weights value?\\tNow if we made the weights associated with almost all of the pixels zero\\texcept for some positive weights in this region that we care about\\tthen taking the weighted sum of\\tall the pixel values really just amounts to adding up the values of the pixel just in the region that we care about\\tAnd, if you really want it to pick up on whether there's an edge here what you might do is have some negative weights\\tassociated with the surrounding pixels\\tThen the sum is largest when those middle pixels are bright, but the surrounding pixels are darker\\tWhen you compute a weighted sum like this you might come out with any number\\tbut for this network what we want is for activations to be some value between 0 &amp;amp; 1\\tso a common thing to do is to pump this weighted sum\\tInto some function that squishes the real number line into the range between 0 &amp;amp; 1 and\\tA common function that does this is called the sigmoid function also known as a logistic curve\\tbasically very negative inputs end up close to zero very positive inputs end up close to 1\\tand it just steadily increases around the input 0\\tSo the activation of the neuron here is basically a measure of how positive the relevant weighted sum is\\tBut maybe it's not that you want the neuron to light up when the weighted sum is bigger than 0\\tMaybe you only want it to be active when the sum is bigger than say 10\\tThat is you want some bias for it to be inactive\\twhat we'll do then is just add in some other number like negative 10 to this weighted sum\\tBefore plugging it through the sigmoid squishification function\\tThat additional number is called the bias\\tSo the weights tell you what pixel pattern this neuron in the second layer is picking up on and the bias\\ttells you how high the weighted sum needs to be before the neuron starts getting meaningfully active\\tAnd that is just one neuron\\tEvery other neuron in this layer is going to be connected to all\\t784 pixels neurons from the first layer and each one of those 784 connections has its own weight associated with it\\talso each one has some bias some other number that you add on to the weighted sum before squishing it with the sigmoid and\\tThat's a lot to think about with this hidden layer of 16 neurons\\tthat's a total of 784 times 16 weights along with 16 biases\\tAnd all of that is just the connections from the first layer to the second the connections between the other layers\\tAlso, have a bunch of weights and biases associated with them\\tAll said and done this network has almost exactly\\t13,000 total weights and biases\\t13,000 knobs and dials that can be tweaked and turned to make this network behave in different ways\\tSo when we talk about learning?\\tWhat that's referring to is getting the computer to find a valid setting for all of these many many numbers so that it'll actually solve\\tthe problem at hand\\tone thought\\tExperiment that is at once fun and kind of horrifying is to imagine sitting down and setting all of these weights and biases by hand\\tPurposefully tweaking the numbers so that the second layer picks up on edges the third layer picks up on patterns etc\\tI personally find this satisfying rather than just reading the network as a total black box\\tBecause when the network doesn't perform the way you\\tanticipate if you've built up a little bit of a relationship with what those weights and biases actually mean you have a starting place for\\tExperimenting with how to change the structure to improve or when the network does work?\\tBut not for the reasons you might expect\\tDigging into what the weights and biases are doing is a good way to challenge your assumptions and really expose the full space of possible\\tsolutions\\tBy the way the actual function here is a little cumbersome to write down. Don't you think?\\tSo let me show you a more notationally compact way that these connections are represented. This is how you'd see it\\tIf you choose to read up more about neural networks\\tOrganize all of the activations from one layer into a column as a vector\\tThen organize all of the weights as a matrix where each row of that matrix\\tcorresponds to the connections between one layer and a particular neuron in the next layer\\tWhat that means is that taking the weighted sum of the activations in the first layer according to these weights?\\tCorresponds to one of the terms in the matrix vector product of everything we have on the left here\\tBy the way so much of machine learning just comes down to having a good grasp of linear algebra\\tSo for any of you who want a nice visual understanding for matrices and what matrix vector multiplication means take a look at the series I did on linear algebra\\tespecially chapter three\\tBack to our expression instead of talking about adding the bias to each one of these values independently we represent it by\\tOrganizing all those biases into a vector and adding the entire vector to the previous matrix vector product\\tThen as a final step\\tI'll rap a sigmoid around the outside here\\tAnd what that's supposed to represent is that you're going to apply the sigmoid function to each specific\\tcomponent of the resulting vector inside\\tSo once you write down this weight matrix and these vectors as their own symbols you can\\tcommunicate the full transition of activations from one layer to the next in an extremely tight and neat little expression and\\tThis makes the relevant code both a lot simpler and a lot faster since many libraries optimize the heck out of matrix multiplication\\tRemember how earlier I said these neurons are simply things that hold numbers\\tWell of course the specific numbers that they hold depends on the image you feed in\\tSo it's actually more accurate to think of each neuron as a function one that takes in the\\toutputs of all the neurons in the previous layer and spits out a number between zero and one\\tReally the entire network is just a function one that takes in\\t784 numbers as an input and spits out ten numbers as an output\\tIt's an absurdly\\tComplicated function one that involves thirteen thousand parameters in the forms of these weights and biases that pick up on certain patterns and which involves\\titerating many matrix vector products and the sigmoid squish evocation function\\tBut it's just a function nonetheless and in a way it's kind of reassuring that it looks complicated\\tI mean if it were any simpler what hope would we have that it could take on the challenge of recognizing digits?\\tAnd how does it take on that challenge? How does this network learn the appropriate weights and biases just by looking at data? Oh?\\tThat's what I'll show in the next video, and I'll also dig a little more into what this particular network we are seeing is really doing\\tNow is the point I suppose I should say subscribe to stay notified about when that video or any new videos come out\\tBut realistically most of you don't actually receive notifications from YouTube, do you ?\\tMaybe more honestly I should say subscribe so that the neural networks that underlie YouTube's\\tRecommendation algorithm are primed to believe that you want to see content from this channel get recommended to you\\tanyway stay posted for more\\tThank you very much to everyone supporting these videos on patreon\\tI've been a little slow to progress in the probability series this summer\\tBut I'm jumping back into it after this project so patrons you can look out for updates there\\tTo close things off here I have with me Lisha Li\\tLee who did her PhD work on the theoretical side of deep learning and who currently works at a venture capital firm called amplify partners\\tWho kindly provided some of the funding for this video so Lisha one thing\\tI think we should quickly bring up is this sigmoid function\\tAs I understand it early networks used this to squish the relevant weighted sum into that interval between zero and one\\tYou know kind of motivated by this biological analogy of neurons either being inactive or active(Lisha) - Exactly\\t(3B1B) - But relatively few modern networks actually use sigmoid anymore. That's kind of old school right ?(Lisha) - Yeah or rather\\tReLU seems to be much easier to train(3B1B) - And ReLU really stands for rectified linear unit\\t(Lisha) - Yes it's this kind of function where you're just taking a max of 0 and a where a is given by\\twhat you were explaining in the video and what this was sort of motivated from I think was a\\tpartially by a biological\\tAnalogy with how\\tNeurons would either be activated or not and so if it passes a certain threshold\\tIt would be the identity function\\tBut if it did not then it would just not be activated so be zero so it's kind of a simplification\\tUsing sigmoids didn't help training, or it was very difficult to train\\tIt's at some point and people just tried relu and it happened to work\\tVery well for these incredibly\\tDeep neural networks.(3B1B) - All right\\tThank You Lisha\\tfor background amplify partners in early-stage VC invests in technical founders building the next generation of companies focused on the\\tapplications of AI if you or someone that you know has ever thought about starting a company someday\\tOr if you're working on an early-stage one right now the Amplify folks would love to hear from you\\tthey even set up a specific email for this video 3blue1brown@amplifypartners.com\\tso feel free to reach out to them through that\\t \", 'CoTA2aqckNM': 'is year\\'s Grammyswere very political,\\tand the bit that got most peopletalking was a sketch\\twhere James Corden gotcelebrities to \"audition\"\\tto read the audiobookfor Fire and Fury,\\tthe tell-all book about Trump.\\t\"If Trump was not having his6:30 dinner with Steve Bannon,\\t\"then, more to his liking,he was in bed by that time\\twith a cheeseburger.\"(chirps)\\tWhy am I evenreading this (bleep)?\\tI can\\'t believe this. I can\\'tbelieve that he really...\\tThis how he lives his life?\\tStand by. Take one.\\t\"He had a long-time fearof being poisoned.\\t\"One reason why he likedto eat at McDonald\\'s:\\t-\"nobody knew he was coming-(Grammy audience cheering)\\tand the foodwas safely pre-made.\"\\tREPORTER: The segment was criticized\\t by some conservatives, including U.N. ambassador\\t Nikki Haley, who tweeted, \"Some of us love music\\t without the politics thrown it.\"\\tOh, you want musicwithout politics?\\tSo, no country?\\tNo rap?\\tNo folk, no rock,no reggae and no punk.\\tYeah, so, I guess,elevator music--\\tthat\\'s your jam? Yeah?\\tOh, no, that shit is aboutthe genocide in Rwanda, no, no.\\tSo, no music.\\tAnd Nikki Haleywasn\\'t-wasn\\'t the only person\\twho didn\\'t love Hillary\\'s cameo.Uh, many conservatives\\tvoiced their displeasure,including Don, Jr.,\\twho tweeted \"Getting to reada fake news book excerpt\\t\"at the Grammys seems likea great consolation prize\\tfor losing the presidency.\"Yeah.\\tNow, you know what,uh, Junior Trump may be\\ttoo stupid to realize that he\\'sactually made a great point.\\tBeing able to go on the Grammysand talk shit about Trump\\tbecause you feel like it--\\tthat literallyis the consolation prize.\\tYeah. That\\'s exactly\\twhat Hillary should be doing.\\tLike, I\\'m sorry. People arelike, \"Oh, Hillary, go away.\"\\tI\\'m like, you can\\'t expectsomeone to lose the presidency\\tbut then still act presidential.That\\'s not how it works.\\tIt\\'s like if you losethe Miss America pageant,\\tyou don\\'t have to pretendabout child hunger anymore.\\tYou can justgo on with your life.\\tBut... but, you know,\\tHillary\\'s Grammy, uh, cameocame at a weird moment for her.\\tBecause last night\\'s themewas #MeToo, Time\\'s Up.\\tWhich is a message Hillary foundherself on the wrong side of\\tover the weekend.\\tHillary Clintonis now facing accusations\\tthat she harboredan accused sexual harasser.\\tREPORTER: Burns Strider, a 2008 campaign advisor,\\t was accused of sexually harassing a young staffer,\\t and Hillary Clinton\\'s campaign manager\\t recommended that she fire him.\\tStrider is accusedof inappropriately touching\\tthe shouldersof a younger staffer,\\tkissing her forehead,and sending her\\tsuggestive e-mails.But when the accusations\\tmade their way tocandidate Clinton, she decided\\tto dock him pay and to reassignthe woman to a new job\\tinstead of firing him.\\tLook, there\\'s a a few areaswhere I don\\'t necessarily\\texpect Hillary Clintonto nail it, you know?\\tManaging e-mails,visiting Wisconsin--\\tyou know, weaknesses.\\tBut I won\\'t lie-- I expected\\tstanding up for a womanon her staff\\tto be one of her strengths.\\tSo the story is disturbing.\\tHillary learned thatone of her female staffers\\twas being sexually harassed,\\tand instead of the mangetting fired,\\tthe woman got reassigned?\\tBut all that woman didwas come forward.\\tShe did whatshe was supposed to do\\tand then she gotpunished for it.\\tIt\\'s like when park rangerseuthanize a bear\\twho tried to eat a tourist.\\tThe bear\\'s like,\"Yo, man, I\\'m a bear.\\t\"Eating stuff is my whole life.Ask that guy\\t\"why he was walking aroundin my living room.\\tWhat was he doing here?\"\\tAnd look, i-it\\'s possiblethat Hillary Clinton\\thas a good explanationfor why she kept this guy on\\tover the objectionsof her top campaign advisors.\\tBut, instead of an explanation,all we got was this.\\tREPORTER: Clinton responded on Twitter,\\t stopping short of an apology.\\t \"A story appeared today\\t \"about something that happened in 2008.\\t \"I was dismayed when it occurred but was heartened\\t \"that the young woman came forward, was heard,\\t \"and had her concerns taken seriously and addressed.\\t \"I called her today to tell her how proud I am of her\\t \"and to make sure she knows what all women should:\\t we deserve to be heard.\"\\tYeah, women deserve to be heardand then quietly reassigned.\\t\"Thank you for speaking up.\\tNow into the closet. Shh!\"\\tLike, I know that this incidenthappened ten years ago,\\tand maybe, ten years ago,the world was a different place.\\tBut, I-I don\\'t know,I thought in 2018,\\twith everythingwe\\'re learning about now,\\tmaybe Hillary might come outand say,\\t\"Hey, guys, I realize nowthat I was part\\t\"of the problemin the way I handled this.\\tWhen I look back, I realizeI should have done better.\"\\tBecause that\\'s the truth.When we look back\\ton all of our lives,we realize there are moments\\twhere we should have donebetter.\\tBut it feels like Hillary\\'snot only trying\\tto dodge all the blame,\\tshe wants to present herself\\tas having always beenon this woman\\'s side,\\twhich doesn\\'t fly.\\tBecause not only didthe woman get reassigned,\\tbut this guy, Burns Strider,\\the went on to get another jobin Democratic politics,\\twhere he got fired for doingthe same thing to other women.\\tSo you could argue that,if Hillary had fired him,\\tshe would have been protectingmany women\\tinstead of just herself.', 'yN0DQFv_-vI': 's President Trump was wrappingup his foreign trip last week,\\this administration was rockedby reports that he tried to fire\\tthe Special Counselin the Russia investigation,\\tRobert Mueller.\\tFor more on this,it\\'s time for \"A Closer Look.\"\\t[ Cheers and applause ]\\t-As the Mueller story broke,Trump was in Davos, Switzerland,\\tglad-handing with wealthy elitesat the World Economic Forum.\\tTrump\\'s taxand regulatory policies\\thave been a boonto the financial elite\\twho gather in Davos every year,\\tand yet somehow,Trump still managed\\tto antagonizean otherwise friendly crowd\\tby taking a gratuitous shotat the media.\\t-I\\'ve always seemed to get,for whatever reason,\\ta disproportionate amountof press or media.\\tAnd...[ Laughter ]\\tThroughout my whole life.\\tSomebody will explainsomeday why,\\tbut I\\'ve always gotten a lot.[ Laughter ]\\tAnd as a businessman,I was always treated really well\\tby the press.\\tYou know, the numbers speak,and things happen,\\tbut I\\'ve alwaysreally had a very good press,\\tand it wasn\\'t untilI became a politician\\tthat I realizedhow nasty, how mean,\\thow vicious,and how fake the press can be.\\tAs the camerasstart going off in the back.\\t[ Crowd boos ]\\t-Wow.[ Laughter ]\\tYou have to bea real piece of work\\tto get booedin a neutral country.\\t[ Laughter and applause ]\\tOnly Donald Trump could make meside with the people at Davos.\\tIt\\'s like being at ahigh-society gala and thinking,\\t\"Look at all these rich jerks,\"\\tand then the Jokercrashes the party,\\tand you\\'re like,\"Save them, Batman!\"\\t[ Laughter ]\\tAfter that performance,I guess it makes sense\\tthat Trump spentthe rest of his time in Davos\\trushing into the armsof friendly interviewers.\\tFirst, CNBC anchor Joe Kernenasked Trump\\tabout his position on trade,\\twhether he supportsfree trade or fair trade.\\tAnd Trumpgave this nonsensical answer.\\t-I\\'m a free trader.\\tTotally.I\\'m a fair trader.\\tI\\'m all kinds of trader.\\t-First of all...[ Laughter ]\\tFirst of all,Robert Mueller will decide\\twhat kind of \"trader\" you are.\\tSecond, Trump sounds likehe\\'s reciting lyrics\\tfrom The Steve Miller Band.\\t\"I\\'m a joker, I\\'m a smoker,I\\'m also a midnight toker.\"\\t[ Laughter ]\\tIn fact, many people --multiple people --\\tcall me the space cowboy.This is...\"\\tIt\\'s amazing how --\\t[ Cheers and applause ]\\tWhen Trump doesn\\'t knowhow to answer a question,\\the somehow managesto take every position\\tand no positionat the same time.\\tA similar thing happenedwhen Trump sat down\\twith fellow TV blowhardPiers Morgan,\\tand for some reason,Morgan asked Trump,\\twho has been accusedby at least 19 women\\tof sexual misconduct if heconsiders himself a feminist.\\t-Do you identify as a feminist?Are you a feminist?\\t-No, I wouldn\\'t sayI\\'m a feminist.\\tI mean, I think that would bemaybe going too far.\\tI\\'m for women, I\\'m for men,I\\'m for everyone.\\t-You don\\'t have to askDonald Trump if he\\'s a feminist.\\tThat\\'s like askingHannibal Lecter if he\\'s a vegan.\\t[ Laughter ]\\tSometimes we can glean ouranswers from previous behavior.\\tMorgan also asked Trumpabout a series of racist videos\\the retweeted from a notoriouslyIslamophobic group in the U.K.,\\tand Trump essentiallytried to claim\\the had no ideawhat he was actually retweeting.\\t-You retweeted an organizationcalled Britain First,\\tone of the leaders --three times.\\t-Well, three times,boom, boom, boom, quickly\\t-Right, but this causedhuge, huge anxiety and anger\\tin my country,because Britain First\\tis basically a bunchof racist, fascist --\\t-Of course, I didn\\'t know that.\\t-Well, that\\'s what I wantedto clarify with you.\\tWhat did you know about themwhen did those retweets?\\t-Well, I know nothingabout them.\\tI did a retweet.You know, retweets --\\tSometimes you do retweets --\\tWhen you do your own tweeting,\\twhen you do your ownsocial media, it\\'s fine.\\tWhen you do those retweets,they can cause problems.\\tThis was a depictionof radical Islamic terror.\\t-Well, they wereunverified videos.\\tAt least one of themwas not what it seemed.\\t-Well, they are.But this was -- I didn\\'t do it.\\tI didn\\'t go out and --I did a retweet.\\t-Oh, my God, dude.\\tJust say you retweeted someone.\\tStop saying, \"I did a retweet.\"[ Laughter ]\\tThat\\'s how children talk.\\tIt\\'s the differencebetween saying,\\t\"I went to the bathroom,\"and, \"I did a potty.\"\\t[ Laughter ]\\tOf course, while Trumpis talking about retweets,\\the\\'s also dealingwith the ongoing\\tRussia investigation, led bySpecial Counsel Robert Mueller.\\tNow, Muellerisn\\'t just investigating\\talleged collusion with Russia.\\tHe\\'s also investigatingwhether Trump or anyone else\\ttried to obstructthat investigation,\\tand last week,we got yet another lead\\tin that obstruction case.\\t-Breaking news tonight --\"The New York Times\" reporting\\tPresident Trump orderedSpecial Counsel Robert Mueller\\tto be fired last Juneand only backed down\\twhen White House counselDon McGahn threatened to quit\\tif he was forced to do so.\\t-Amazing. Trump is madthat he\\'s being investigated\\tfor obstruction of justice,\\tso his plan to get out of itis to obstruct justice.\\tIf Trump wasthe captain of the Titanic,\\this plan would have beento hit a second iceberg.\\t[ Laughter ]\\tAnd if you thinkthat\\'s all dumb, that\\'s not all,\\tbecause Trumpapparently also concocted\\ta bunch of fake reasonswhy he thought Mueller\\tcouldn\\'t be fairand should be fired,\\tand those reasonswere truly absurd.\\tFirst, Trump saidMueller couldn\\'t be fair\\tbecause he had workedfor a law firm\\tthat represented Jared Kushner.\\tAnd then he saidMueller couldn\\'t be fair\\tbecause he had interviewedto be Trump\\'s FBI director.\\tBut the dumbest reasonTrump came up with is this.\\tMueller left the club in 2011,\\tand Trump believes he still\\tholds a grudge against himover the matter.\\t[ Laughter ]\\tSo, you think Robert Muellerhas been lying in wait\\tall these years...[ Laughter ]\\t...quietly biding his time\\tso he could finallyget his revenge...\\tover golf fees.[ Laughter ]\\t\"What\\'s wrong, Robert?\"\\t\"Trump raised fees at his club.\"\\t\"You shouldwrite an angry letter.\"\\t\"No, I thinkI have a better idea.\"\\t[ Laughter and applause ]\\t[ Chuckles evilly ]\\t\"Yes. Yes, I --I think this will work.\\tBring memy five-year hourglass!\"\\t[ Laughter ]\\tSo, now this brings upa simple question --\\twhy would Donald Trump do this?\\tWhy does he keepgoing out of his way\\tto interferewith the investigation?\\tWell, there aretwo possible answers.\\tOne, he\\'s guilty, or, two,he asked the FBI director\\tfor a pledge of loyalty,\\tasked him to stop hisinvestigation of Michael Flynn,\\tfired the FBI director,admitted he fired him\\tbecause ofthe Russia investigation,\\tbragged to the Russiansthat he did it\\tbecause ofthe Russia investigation,\\tpressured the Attorney Generalnot to recuse himself,\\tpressured the headsof the intelligence agencies\\tto intervene, and tried to firethe Special Counsel\\twho took overthe Russia investigation\\tbecause he\\'s innocent?\\t[ Laughter ]\\tSo, who knows? It\\'s...[ Cheers and applause ]\\tYou know, it\\'s one of thoseeither -- either/ors.\\tAnd that\\'s not evena full list of all the ways\\tTrump has tried to interfere\\twith the Justice Departmentand the FBI.\\tLast week, for example,we learned that,\\tafter he fired Comey,Trump called in\\tthe acting FBI director,Andrew McCabe,\\tand asked hima pointed question --\\t\"Whom did he vote forin the 2016 election?\"\\tTrump has beenespecially fixated on the fact\\tthat McCabe\\'s wiferan for state Senate in Virginia\\tas a Democrat and receivedpolitical donations\\tfrom then Virginia governorTerry McAuliffe.\\tNow, McCabe, himself,\\twas a registered Republicanas recently as 2016.\\tBut Trump cannot seemto stop obsessing\\tover his wife\\'sfailed state Senate bid.\\tNBC News reported today thatthe day after he fired Comey,\\ta furious Trump called McCabe,\\tdemanding to know why Comeyhad been allowed to fly\\ton an FBI plane from Los Angelesback to Washington\\tafter he was dismissed.\\tMcCabe told the Presidenthe hadn\\'t been asked\\tto authorize Comey\\'s flight,\\tbut if anyone had asked,he would have approved it.\\tThe Presidentwas silent for a moment\\tand then turned on McCabe,suggesting he ask his wife\\thow it felt to be a loser.[ Audience \"Oohs\" ]\\tMcCabe replied, \"Okay, sir.\"\\tTrump then hung up the phone.[ Laughter ]\\tYou told him to ask his wifewhat it\\'s like to be a loser?\\tYou should ask your wife whatit\\'s like to be married to one.\\t[ Laughter, cheers, applause ]\\tAwful!\\tYou are...awful.\\tSo, naturally, all these reportshave raised questions\\tabout how far Trump has goneto obstruct an investigation\\tof him and his campaign,\\tand today, former White Housepress secretary Sean Spicer\\tcrawled out of the bushesoutside the White House...\\t[ Laughter ]\\t...and answered --tried to answer those questions.\\tSpicer was specifically askedabout the report,\\tthat Trump tried to fire Mueller\\tand said he personally could notcorroborate that story.\\t-You were in the White Houseat that time.\\t-I was.-Can you corroborate that story?\\tDid the presidenttry and fire Bob Mueller?\\t-There is nothing that I saw,\\twitnessed, or was nearthat suggests that\\'s true.\\tEver.-Completely made up?\\t-I didn\\'t say it was made up.\\tWhat I\\'m saying is that I didn\\'tsee anything in my tenure,\\tnor did I talk to anybodyduring the time that I was there\\tthat witnessed anythingsimilar to what that was.\\t-So Spicer says he hasn\\'ttalked to anyone about it,\\tbut I\\'m not sure Sean Spicer isthe most reliable source here,\\tgiven that he has clearlynever actually talked\\tto Donald Trump about anything.\\t-I have not asked the President\\tsince the last timewe spoke about this.\\tI have not asked the President.\\tI haven\\'t asked him.\\tI have not talked to himabout the qualities\\the\\'s looking forward to seeing.\\tBut, again,I haven\\'t spoken to him on it.\\tHonestly, I haven\\'t asked him.\\tI honestly haven\\'t asked himthat specific question.\\tI have not had an opportunityto have that discussion.\\tI literally have not hadthat kind of conver--\\tI\\'ve not discussed thatwith the President.\\t-Even when Spicerwas in the Oval Office,\\tI\\'m pretty sure Trumpmade him wear a blindfold\\tlike he was playingPin the Tail on the Donkey.\\t[ Laughter ]\\tSo, there\\'s now a clear,established pattern\\tof Trump attemptingto meddle in the FBI\\tand the Russia investigation,but one of the most\\tfascinating thingsabout this episode\\thas been watchingthe reaction from the right.\\tIn fact, the last few dayshave been a very revealing look\\tinto how the right-wingpropaganda machine works.\\tJust take Fox News hostSean Hannity as an example.\\tWhen the news first brokeon Thursday night,\\tHannity did what he usually doesand dismissed it.\\t-At this hour,\"The New York Times\"\\tis trying to distract you.\\tThey have a storythat Trump wanted Mueller fired\\tsometime last June,and our sources --\\tand I\\'ve checked inwith many of them --\\tthey\\'re not confirmingthat tonight.\\tAnd the President\\'s attorneydismissed the story,\\tand says \"Nope. No comment.We\\'re not going there.\"\\tAnd how many timeshas \"The New York Times\"\\tand others gotten it wrong?\\t-So, that was Hannity\\'sfirst response.\\tThen, about 40 minutes later,the journalists at Fox News\\tconfirmed the story,\\tand Hannity had to issuean awkward update.\\t-All right.So we have sources tonight\\tjust confirming, Henry,that, yeah, maybe Donald Trump\\twanted to fire theSpecial Counsel for conflict.\\tDoes he not have the rightto raise those questions?\\tYou know, we\\'ll deal with thistomorrow night.\\tWe have a shocking video of theday to bring you, by the way.\\tThis footage comes to usfrom Arizona where --\\tYou see that red S.U.V.?\\tHigh-speed police chase.\\tUltimately, the suspect\\'svehicle slams into another car,\\tflips several timesbefore coming to a stop.\\t-Wow. I\\'ve never seen someonecrash and burn like that.\\t[ Laughter and applause ]\\tAnd the car-chase videowas bad, too.\\t[ Cheers and applause ]\\tSo, Fox News\\' own reporters --own reporters --\\tconfirmed the story,but then the next morning,\\tTrump spoketo reporters in Davos\\tand called the story fake news,\\tso then,Fox had to reverse itself\\tall over againto fall in line with Trump,\\tgoing againsttheir own reporting\\tand dismissingthe story as fake.\\t-Let\\'s take a look at the coverof \"the New York Times.\"\\tUp there in the corner --Ted, this corner over here.\\tThere\\'s a big story that,apparently,\\tthe Presidentof the United States, last June,\\twanted to fire Robert Mueller.\\tWe heard back in Junethat there were talks\\tof the Presidentwasn\\'t happy with Bob Mueller.\\tWhat would he do?-Right.\\t-But some new details that mayor may not actually be true.\\t-All right, well, the Presidentsays it\\'s fake news.\\tThat happened last June.\\tYou know, it\\'s somethingwe have to tell you about\\t\\'cause it is a headlinein \"The New York Times.\"\\tWhat do you think about that?Do you even care?\\tSomething you probablydo care about is immigration.\\t-Oh, my God.\\tThey will literally dowhatever Trump says.\\tI think if Trumpdid actually shoot someone\\tin the middle of Fifth Avenue,the Fox chyron would be,\\t\"Trump solvesjaywalking problem in New York.\"\\t[ Laughter and applause ]\\tNow, obviously,it\\'s not surprising\\tthat Republicansand \"Fox &amp;amp; Friends\"\\twould do whatever they couldto defend Trump,\\tbut what is surprisingis that there are even\\tsome Democrats bending overbackwards to give Trump a pass,\\tlike West VirginiaSenator Joe Manchin,\\twho said on Sundaythat Trump firing Mueller\\twasn\\'t a big deal.It\\'s just the way he talks.\\t-What\\'s your reactionto the President\\'s\\treported orderto fire Bob Mueller?\\tHow much does that concern you?\\t-Again, that\\'s New York talk.\\tI look at it strictlyas the New York language\\tthat they have,which is different\\tthan most other people.\\t-What?[ Laughter ]\\tHow do you thinkNew Yorkers talk?\\t\"Good morning, Kevin.Fire Robert Mueller.\"\\t\"And a fine fire Robert Muellerto you, Dave.\"\\tAh, New York!\\t[ Laughter and applause ]\\tSo there\\'s now a clear pattern\\tof the Presidenttrying to interfere\\twith an investigationof his campaign\\tand the people around him,\\tand his alliesin the right-wing media\\tare either saying it\\'s not true\\tor admitting itand saying it\\'s good.\\tI don\\'t know if he\\'ll everbe charged with a crime,\\tbut given Trump\\'s penchant foraccidentally admitting things,\\tthere\\'s a good chance\\the\\'ll end his interviewwith Mueller by saying --\\t-I\\'m all kinds of trader.\\t-This has been \"A Closer Look.\"\\t[ Cheers and applause ]', 'Jtma1IcWM7c': 'YWAY, I\\'M LOOKING FORWARD TOTHE SPEECH.\\tALMOST AS MUCH I\\'M LOOKINGFORWARD TO HIS INTERVIEW WITH\\tROBERT MUELLER.\\t( LAUGHTER )HERE\\'S THE THING: SINCE LAST WE\\tMET, WE LEARNED THAT TRUMP TRIEDTO FIRE MUELLER LAST JUNE.\\tSO THAT INTERVIEW MIGHT BEAWKWARD.\\t( LAUGHTER )NOW, ULTIMATELY, TRUMP DIDN\\'T\\tFIRE MUELLER BECAUSE WHITE HOUSELEGAL COUNSEL DON MCGAHN,\\t\"REFUSED TO ASK THE JUSTICEDEPARTMENT TO DISMISS THE\\tSPECIAL COUNSEL, SAYING HE WOULDQUIT INSTEAD.\"\\tTHERE WAS A TIME WHEN I THOUGHTNOBODY IN THE WHITE HOUSE HAD\\tANY SCRUPLES.\\tBUT WE FOUND A SCRAP OF SCRUPLE!\\t( LAUGHTER )( APPLAUSE )\\tAN ANEMIC JUST FIREFLY RICOCHETOF A SCATTER OF A SCREWLE!\\tIT\\'S HARD TO BELIEVE THAT THEONLY THING KEEPING THE PRESIDENT\\tFROM DESTROYING OUR COUNTRY\\'SSYSTEM OF CHECKS AND BALANCES\\tWAS A LAWYER WHOSE HAIRCUT ISPARTY-IN-THE-BACK AND IN THE\\tFRONT.\\t( LAUGHTER )THAT IS AMAZING.\\tALTHOUGH IF HE DID QUIT, HE\\'SGOT A BACKUP CAREER, BECAUSE DON\\tMCGAHN IS IN AN 80S COVER BAND.\\tTHIS IS REAL.\\tTHIS IS ACTUAL FOOTAGE OF MCGHANTEARING IT UP AT A LOCAL BAR\\tSCENE.\\t♪♪\\tWHOA, BUDDY.\\tSAVE SOME OF THAT SHREDDING FORWHITE HOUSE DOCUMENTS.\\t( CHEERS AND APPLAUSE )( LAUGHTER )\\tHERE\\'S WHY THIS IS A BIG DEAL:NIXON\\'S DOWNFALL REALLY STARTED\\tWHEN HE ORDERED THE FIRING OFTHE SPECIAL PROSECUTOR\\tINVESTIGATING HIM, BUTREPUBLICANS INSIST THAT THERE\\'S\\tNOTHING TO SEE HERE.\\t&amp;gt;&amp;gt; I THINK WHAT HAPPENED HERE ISTHE PRESIDENT HAD A BAD IDEA.\\tHE TALKED WITH HIS COUNSEL, WHOEXPLAINED TO AN ANGRY AND\\tFRUSTRATED PRESIDENT WHY IT WASA BAD IDEA, AND THAT WAS SEVEN\\tMONTHS AGO.\\t&amp;gt;&amp;gt; STEPHEN: \"NOT SURE WHYEVERYONE\\'S UPSET.\\tHERE\\'S WHAT HAPPENED: YES, THEPRESIDENT DID HAVE A MACHETE AT\\tTHE NATIONAL ZOO.\\tAND HE JUMPED INTO THE PANDACAGE, SCREAMING \"I JUST WANT TO\\tTASTE IT.\"\\t( LAUGHTER )BUT HIS LAWYER WRESTLED THE\\tMACHETE OUT OF TRUMP\\'S HANDS.\\tAND THAT WAS HOURS AGO.\"\\t( LAUGHTER )( APPLAUSE )\\tYEAH, SAVE THE PANDAS!\\t( CHEERS AND APPLAUSE )LUCKILY, TRUMP COULD COUNT ON\\tBACKUP FROM HIS BEST FRIEND INTHE TV, FOX NEWS COMMENTATOR AND\\tFINAL HOLE AT THE WORLD\\'S WORSTPUTT-PUTT COURSE, SEAN\\tHANNITY.\\t( LAUGHTER )&amp;gt;&amp;gt; AT THIS HOUR \"THE NEW YORK\\tTIMES\" IS TRYING TO DISTRACTYOU.\\tTHEY HAVE A STORY TRUMP WANTEDMUELLER FIRED SOMETIME LAST JUNE\\tAND OUR SOURCES-- AND I\\'VECHECKED WITH MANY OF THEM --\\tTHEY\\'RE NOT CONFIRMING THATTONIGHT.\\tALL RIGHT, SO WE HAVE SOURCESTONIGHT, JUST CONFIRMING TO ED\\tHENRY THAT MAYBE DONALD TRUMPWANTED TO FIRE THE SPECIAL\\tCOUNSEL FOR CONFLICT, DOES HENOT HAVE THE RIGHT TO RAISE\\tTHOSE QUESTIONS?\\tYOU KNOW, WE\\'LL DEAL WITH THISTOMORROW NIGHT.\\t&amp;gt;&amp;gt; Stephen: AAAHHH!\\tOH!\\tAHHH!\\t( CHEERS AND APPLAUSE )MAN, THAT WAS -- THAT WAS FAST.\\t( LAUGHTER )BUT SEAN KNEW WHAT THE REAL\\tSTORY WAS HERE.\\t&amp;gt;&amp;gt; DOES HE NOT HAVE THE RIGHT TORAISE THOSE QUESTIONS?\\tYOU KNOW, WE\\'LL DEAL WITH THISTOMORROW NIGHT.\\tWE HAVE A SHOCKING VIDEO OF THEDAY TO BRING YOU, BY THE WAY.\\tTHIS FOOTAGE COMES TO US FROMARIZONA.\\tYOU SEE THAT RED S.U.V., HIGHSPEED POLICE CHASE, ONLY THE\\tSUSPECTS VEHICLE SLAMS INTOANOTHER CAR.\\t&amp;gt;&amp;gt; STEPHEN: SEAN, IF YOU WANT TOCHANGE THE SUBJECT AWAY FROM\\tTRUMP, MAYBE DON\\'T GO TO FOOTAGETHAT\\'S SO CLEARLY A METAPHOR FOR\\tHIS ADMINISTRATION.\\tA CAR CRASH THAT WE CAN\\'T TEAROUR EYES FROM.\\t( APPLAUSE )BUT HANNITY\\'S NOT THE ONLY\\tTRUMP-FRIENDLY PUNDIT COVERINGTHIS STORY.\\tWE\\'VE ALSO GOT SOME EXCLUSIVECOVERAGE FROM OUR IN-HOUSE\\tNEWS TEAM, REAL NEWS TONIGHT:&amp;gt;&amp;gt; WELCOME TO REAL NEWS TONIGHT.\\tI\\'M JIM.\\tLL.\\tWE HAVE BREAKING NEWS, MORE LIESFROM THE FAKE FAILING \"NEW YORK\\tTIMES.\"\\tTHEIR NEWEST LINE, TRUMP TRIEDTO FIRE ROBERT MUELLER LAST\\tSUMMER.\\t&amp;gt;&amp;gt; TYPICAL OF THE FAKE LIARS OFTHE \"NEW YORK TIMES.\"\\t&amp;gt;&amp;gt; TRUMP NEVER TRIED TO FIREMUELLER AND THAT STORY WILL\\tNEVER CHANGE.\\tBREAKING NEWS, TRUMP DID TRY TOFIRE ROBERT MUELLER.\\t( LAUGHTER )&amp;gt;&amp;gt; GOOD FOR HIM!\\tHE GETS TO DO THAT.\\t&amp;gt;&amp;gt; YES!\\tMORE ON WHY THIS IS GOOD AS WEFIGURE IT OUT.\\t&amp;gt;&amp;gt; NOW, LET\\'S COMPLETELY CHANGETRACK AND COVER THIS UNRELATED\\tNEWS ITEM.\\tTHERE\\'S BEEN A MASSIVE FIRE ATTHE TURD FACTORY.\\t&amp;gt;&amp;gt; AS FLAMING HOT PIECES OFDO-DO REIGN FROM THE SKY, CAN\\tTHIS BRING DOWN A MANURE TYCOON.\\t&amp;gt;&amp;gt; PROBABLY NOT, NOTHING CANTOUCH THE KING OF (BLEEP).'}\n"
     ]
    }
   ],
   "source": [
    "print(subdict)"
   ]
  },
  {
   "cell_type": "code",
   "execution_count": null,
   "metadata": {
    "collapsed": true,
    "scrolled": false
   },
   "outputs": [],
   "source": []
  },
  {
   "cell_type": "code",
   "execution_count": null,
   "metadata": {
    "collapsed": true
   },
   "outputs": [],
   "source": []
  },
  {
   "cell_type": "code",
   "execution_count": null,
   "metadata": {
    "collapsed": true
   },
   "outputs": [],
   "source": []
  },
  {
   "cell_type": "code",
   "execution_count": null,
   "metadata": {
    "collapsed": true
   },
   "outputs": [],
   "source": [
    "\n",
    "from nltk.corpus import webtext as wt"
   ]
  },
  {
   "cell_type": "code",
   "execution_count": null,
   "metadata": {
    "collapsed": true
   },
   "outputs": [],
   "source": [
    "for fileid in webtext.fileids():\n",
    "...     print(fileid, webtext.raw(fileid)[:65], '...')\n",
    "\n",
    "#http://www.nltk.org/book/ch02.html"
   ]
  },
  {
   "cell_type": "markdown",
   "metadata": {},
   "source": [
    "### Data Cleaning"
   ]
  },
  {
   "cell_type": "code",
   "execution_count": 33,
   "metadata": {
    "collapsed": true
   },
   "outputs": [],
   "source": []
  },
  {
   "cell_type": "code",
   "execution_count": 8,
   "metadata": {},
   "outputs": [
    {
     "name": "stdout",
     "output_type": "stream",
     "text": [
      "1.0\" encoding=\"utf-8\" ?>\n",
      "5.4_spl_The challenge begins with how to pronouncehis name.\n",
      "8.21_spl_The first bit should sound like ‘Knee’, the second like ‘cha’\n",
      "11.65_spl_Knee – cha.\n",
      "12.86_spl_Then we need to get past some of his extraordinaryand provocative statements:\n",
      "16.62_spl_‘What doesn’t kill me makesme stronger’\n",
      "18.39_spl_‘God is dead! And we have killed him.&amp;#39;\n",
      "21.07_spl_And his large moustache.\n",
      "22.33_spl_But when we do, we’ll discover a thinkerwho is intermittently enchanting, wise and\n",
      "26.96_spl_very helpful.\n",
      "28.509_spl_Friedrich Nietzsche was born in 1844 in aquiet village in the eastern part of Germany\n",
      "32.99_spl_where his father was the priest.\n",
      "35.12_spl_He did exceptionally well at school and university and so excelled at\n",
      "38.47_spl_ancient Greek that he was made a professor\n",
      "40.53_spl_at the University of Basel\n",
      "42.05_spl_when still only in his mid-twenties.\n",
      "44.39_spl_But his official career didn’t work out.He got fed up with his fellow academics, gave\n",
      "48.59_spl_up his job and moved to Sils Maria in theSwiss alps\n",
      "51.86_spl_where he lived quietly, working on his masterpieces,\n",
      "54.57_spl_among them:\n",
      "55.34_spl_The Birth of Tragedy,Human, All Too Human,\n",
      "57.22_spl_The Gay Science, Thus Spoke Zarathustra,\n",
      "59.26_spl_Beyond Good and Evil,On the Genealogy of Morals,\n",
      "61.96_spl_He had lots of problems:- he didn’t get on with his family:\n",
      "64.78_spl_&amp;#39;I don’t like my mother and it’s painfuleven for me to hear my sister’s voice.’\n",
      "68.599_spl_- women kept rejecting him.- his books didn’t sell\n",
      "70.79_spl_- And when he was only forty-four, he hada mental breakdown, precipitated when he saw\n",
      "75.36_spl_a horse in a Turin street being beaten by its driver\n",
      "78.39_spl_and ran over to embrace him shouting&amp;#39;I understand you&amp;#39;. He never recovered and\n",
      "82.74_spl_died eleven sad years later.\n",
      "85.7_spl_But his philosophy was full of heroism andgrandeur.\n",
      "88.909_spl_He was a prophet of what he called: SELBSTÜBERWINDUNG\n",
      "91.96_spl_or SELF-OVERCOMING, the process by which a great-souled\n",
      "95.46_spl_person - what he called an ÜBERMENSCH \n",
      "97.92_spl_rises above theircircumstances and difficulties to embrace\n",
      "100.979_spl_whatever life throws at them.\n",
      "103.26_spl_He wanted his work to teach us, as he putit, ‘how to become who we really are’.\n",
      "108.21_spl_His thought centers around 4 main recommendations:\n",
      "113.18_spl_Own up to envy\n",
      "114.979_spl_Envy is – Nietzsche recognised – a bigpart of life. Yet the lingering effects of\n",
      "119.21_spl_Christianity generally teaches to be feel ashamed\n",
      "121.99_spl_of our envious feelings. They seem an\n",
      "124.08_spl_indication of evil. So we hide them from ourselvesand others\n",
      "128.22_spl_Yet there is nothing wrong with envy, maintainedNietzsche, so long as we use it as a guide\n",
      "132.75_spl_to what we really want. Every person who makesus envious should be seen as an indication\n",
      "137.889_spl_of what we could one day become. The envy-inducingwriter, tycoon\n",
      "142.239_spl_or chef is hinting at who you are capable of one day being.\n",
      "146.419_spl_It&amp;#39;s not that Nietzsche believed we always end up getting what we want. His own life\n",
      "150.409_spl_had taught him this well enough). He simplyinsisted that we must face up to our true\n",
      "154.749_spl_desires, put up a heroic fight to honour them,and only then mourn failure with solemn dignity.\n",
      "160.329_spl_That is what it means to be an ÜBERMENSCH\n",
      "163.129_spl_2. Don’t be a Christian\n",
      "165.45_spl_Nietzsche had some extreme things to say about Christianity\n",
      "168.2_spl_‘In the entire New Testament, there\n",
      "170.719_spl_is only person worth respecting: Pilate, theRoman governor.’\n",
      "175.4_spl_It was knockabout stuff, but his true targetwas more subtle and more interesting: he resented\n",
      "180.4_spl_Christianity for protecting people from theirenvy.\n",
      "184.719_spl_Christianity had in Nietzsche’s accountemerged in the late Roman Empire\n",
      "188.749_spl_in the minds of timid slaves, who had lacked the stomach\n",
      "191.669_spl_to get hold of what they really wanted \n",
      "193.959_spl_and so had clung to a philosophy that made a virtue of their cowardice.\n",
      "198.23_spl_He called this SKLAVENMORAL\n",
      "200.87_spl_Christians - whom he rather rudely termedDIE HEERDE, the herd - had wished to\n",
      "205.219_spl_enjoy the real ingredients of fulfilment (aposition in the world, sex,\n",
      "209.54_spl_intellectual mastery, creativity)\n",
      "211.26_spl_but had been too ineptto get them.\n",
      "213.939_spl_They had therefore fashioned a hypocriticalcreed denouncing what\n",
      "216.9_spl_they wanted but were too weak to fight for\n",
      "219.249_spl_ – while praising what they did not want but happened\n",
      "221.639_spl_to have. So, in the Christian value system, sexlessness\n",
      "225.519_spl_turned into purity [show text changing] weaknessbecame goodness, submission-to-people-one-hates\n",
      "230.359_spl_became obedience and, in Nietzsche’s phrase,“not-being-able-to-take-revenge” turned\n",
      "235.8_spl_into “forgiveness.”\n",
      "237.82_spl_Christianity amounted to a giant machine forbitter denial.\n",
      "242.22_spl_3. Never drink alcohol\n",
      "244.849_spl_Nietzsche himself drank only water – andas a special treat, milk. And he thought we\n",
      "249.159_spl_should do likewise. He wasn’t making a small,\n",
      "251.969_spl_eccentric dietary point. The idea went tothe heart of his philosophy, as contained\n",
      "256.28_spl_in his declaration: ‘There have been twogreat narcotics in European civilisation:\n",
      "261.24_spl_Christianity and alcohol.’\n",
      "263.7_spl_He hated alcohol for the very same reasonsthat he scorned Christianity: because both\n",
      "268.389_spl_numb pain, and both reassure us that thingsare just fine as they are, sapping us of the\n",
      "273.199_spl_will to change our lives for the better. Afew drinks usher in a transient feeling of\n",
      "277.59_spl_satisfaction that can get fatally in the wayof taking the steps necessary to improve our\n",
      "282.09_spl_lives.\n",
      "283.479_spl_Nietzsche was obsessed with the awkward truththat getting really valuable things done hurts.\n",
      "288.46_spl_“How little you know of human happiness- you comfortable people” he wrote\n",
      "293.08_spl_“The secret of a fulfilled life is: live\n",
      "296.009_spl_dangerously! Build your cities on the slopesof Mount Vesuvius!”\n",
      "300.68_spl_4. “God is Dead”\n",
      "303.14_spl_Nietzsche’s dramatic assertion that Godis dead is not, as it’s often taken to be,\n",
      "307.72_spl_some kind of a celebratory statement.\n",
      "310.64_spl_Despite his reservations about Christianity,Nietzsche did not think that the end of belief\n",
      "314.849_spl_was anything to cheer about.\n",
      "316.929_spl_Religious beliefs were false, he knew; buthe observed that they were very beneficial\n",
      "321.96_spl_in the sense of helping us cope with the problemsof life.\n",
      "325.2_spl_Nietzsche felt that the gap left by religionshould ideally be filled by Culture (he meant:\n",
      "330.22_spl_philosophy, art, music, literature): Culture should replace Scripture.\n",
      "334.7_spl_However, Nietzsche was deeply suspicious ofthe way his own era was handling culture.\n",
      "339.61_spl_He believed the universities were killing the humanities,\n",
      "342_spl_turning them into dry academic exercises,\n",
      "344.8_spl_rather than using them for what they were always meant to be:\n",
      "347.9_spl_guides to life. He admired\n",
      "349.699_spl_the way the Greeks had used tragic drama in a practical, therapeutic way,\n",
      "353.68_spl_as an occasion for catharsis and moral education– and wished his own age to be comparably\n",
      "358.65_spl_ambitious.\n",
      "359.789_spl_He called for a reformation, in which people– newly conscious of the crisis brought\n",
      "363.58_spl_on by the end of faith – would fill thegaps created by the disappearance of religion\n",
      "367.96_spl_with philosophy and art.\n",
      "370.96_spl_Every era faces particular psychological challenges,thought Nietzsche, and it is the task of the\n",
      "375.689_spl_philosopher to identify, and help solve, these.\n",
      "379_spl_For Nietzsche, the 19th century was reeling under the impact\n",
      "381.939_spl_of two developments: Mass Democracy \n",
      "384.58_spl_and Atheism. The first\n",
      "386.469_spl_threatened to unleash torrents of undigestedenvy; the second to\n",
      "390.62_spl_leave humans without guidance or morality.\n",
      "393.4_spl_In relation to both challenges, Nietzscheremains our endearing, fascinating often loveable\n",
      "397.86_spl_and moustachioed guide.\n"
     ]
    }
   ],
   "source": [
    "print(ytcleaner(html1))"
   ]
  },
  {
   "cell_type": "code",
   "execution_count": 31,
   "metadata": {
    "collapsed": true
   },
   "outputs": [],
   "source": [
    "pt = plaintext(html1)"
   ]
  },
  {
   "cell_type": "code",
   "execution_count": null,
   "metadata": {},
   "outputs": [],
   "source": []
  },
  {
   "cell_type": "code",
   "execution_count": 13,
   "metadata": {
    "collapsed": true
   },
   "outputs": [],
   "source": [
    "from nltk import word_tokenize as wt"
   ]
  },
  {
   "cell_type": "markdown",
   "metadata": {
    "collapsed": true
   },
   "source": [
    "Now I calculate the lexical diversity of each video."
   ]
  },
  {
   "cell_type": "code",
   "execution_count": 35,
   "metadata": {},
   "outputs": [
    {
     "name": "stdout",
     "output_type": "stream",
     "text": [
      "[0.5496809480401094, 0.43846153846153846, 0.24963841481052937, 0.5589988081048868, 0.4308836395450569, 0.5265486725663717]\n",
      "[603, 342, 863, 469, 985, 357]\n",
      "[1097, 780, 3457, 839, 2286, 678]\n"
     ]
    }
   ],
   "source": [
    "ratios = []\n",
    "totlens = []\n",
    "setlens = []\n",
    "for k in subdict.keys():\n",
    "    subs = re.sub('\\.|\\?|!|,|:|;', '', subdict[k])\n",
    "    totlen = len(subs.split())\n",
    "    setlen = len(set(subs.split()))\n",
    "    if totlen != 0:\n",
    "        ratio = setlen/totlen\n",
    "    else:\n",
    "        ratio = 0\n",
    "    ratios.append(ratio)\n",
    "    setlens.append(setlen)\n",
    "    totlens.append(totlen)\n"
   ]
  },
  {
   "cell_type": "code",
   "execution_count": 39,
   "metadata": {},
   "outputs": [
    {
     "name": "stdout",
     "output_type": "stream",
     "text": [
      "[0.5496809480401094, 0.43846153846153846, 0.24963841481052937, 0.5589988081048868, 0.4308836395450569, 0.5265486725663717]\n",
      "[603, 342, 863, 469, 985, 357]\n",
      "[1097, 780, 3457, 839, 2286, 678]\n"
     ]
    },
    {
     "data": {
      "text/plain": [
       "array([603, 342, 863, 469, 985, 357])"
      ]
     },
     "execution_count": 39,
     "metadata": {},
     "output_type": "execute_result"
    }
   ],
   "source": [
    "print(ratios)\n",
    "print(setlens)\n",
    "print(totlens)\n",
    "np.asarray(ratios)\n",
    "np.asarray(totlens)\n",
    "np.asarray(setlens)"
   ]
  },
  {
   "cell_type": "markdown",
   "metadata": {},
   "source": [
    "Now I create a pandas dataframe from the arrays."
   ]
  },
  {
   "cell_type": "code",
   "execution_count": 62,
   "metadata": {},
   "outputs": [],
   "source": [
    "from numpy import array\n",
    "varnames = ['ID', 'Unique', 'Total', 'Ratio']\n",
    "data = array([ids, setlens, totlens, ratios]).T"
   ]
  },
  {
   "cell_type": "code",
   "execution_count": 63,
   "metadata": {},
   "outputs": [],
   "source": [
    "df = pd.DataFrame(data=data[:,:], columns=varnames)"
   ]
  },
  {
   "cell_type": "code",
   "execution_count": 64,
   "metadata": {},
   "outputs": [],
   "source": [
    "data = array([['','Col1','Col2'],['Row1',1,2],['Row2',3,4]])"
   ]
  },
  {
   "cell_type": "code",
   "execution_count": 65,
   "metadata": {},
   "outputs": [
    {
     "data": {
      "text/html": [
       "<div>\n",
       "<style>\n",
       "    .dataframe thead tr:only-child th {\n",
       "        text-align: right;\n",
       "    }\n",
       "\n",
       "    .dataframe thead th {\n",
       "        text-align: left;\n",
       "    }\n",
       "\n",
       "    .dataframe tbody tr th {\n",
       "        vertical-align: top;\n",
       "    }\n",
       "</style>\n",
       "<table border=\"1\" class=\"dataframe\">\n",
       "  <thead>\n",
       "    <tr style=\"text-align: right;\">\n",
       "      <th></th>\n",
       "      <th>ID</th>\n",
       "      <th>Unique</th>\n",
       "      <th>Total</th>\n",
       "      <th>Ratio</th>\n",
       "    </tr>\n",
       "  </thead>\n",
       "  <tbody>\n",
       "    <tr>\n",
       "      <th>0</th>\n",
       "      <td>wHWbZmg2hzU</td>\n",
       "      <td>603</td>\n",
       "      <td>1097</td>\n",
       "      <td>0.5496809480401094</td>\n",
       "    </tr>\n",
       "    <tr>\n",
       "      <th>1</th>\n",
       "      <td>p0ZVztROpls</td>\n",
       "      <td>342</td>\n",
       "      <td>780</td>\n",
       "      <td>0.43846153846153846</td>\n",
       "    </tr>\n",
       "    <tr>\n",
       "      <th>2</th>\n",
       "      <td>aircAruvnKk&amp;t=56s</td>\n",
       "      <td>863</td>\n",
       "      <td>3457</td>\n",
       "      <td>0.24963841481052937</td>\n",
       "    </tr>\n",
       "    <tr>\n",
       "      <th>3</th>\n",
       "      <td>CoTA2aqckNM</td>\n",
       "      <td>469</td>\n",
       "      <td>839</td>\n",
       "      <td>0.5589988081048868</td>\n",
       "    </tr>\n",
       "    <tr>\n",
       "      <th>4</th>\n",
       "      <td>yN0DQFv_-vI</td>\n",
       "      <td>985</td>\n",
       "      <td>2286</td>\n",
       "      <td>0.4308836395450569</td>\n",
       "    </tr>\n",
       "    <tr>\n",
       "      <th>5</th>\n",
       "      <td>Jtma1IcWM7c</td>\n",
       "      <td>357</td>\n",
       "      <td>678</td>\n",
       "      <td>0.5265486725663717</td>\n",
       "    </tr>\n",
       "  </tbody>\n",
       "</table>\n",
       "</div>"
      ],
      "text/plain": [
       "                  ID Unique Total                Ratio\n",
       "0        wHWbZmg2hzU    603  1097   0.5496809480401094\n",
       "1        p0ZVztROpls    342   780  0.43846153846153846\n",
       "2  aircAruvnKk&t=56s    863  3457  0.24963841481052937\n",
       "3        CoTA2aqckNM    469   839   0.5589988081048868\n",
       "4        yN0DQFv_-vI    985  2286   0.4308836395450569\n",
       "5        Jtma1IcWM7c    357   678   0.5265486725663717"
      ]
     },
     "execution_count": 65,
     "metadata": {},
     "output_type": "execute_result"
    }
   ],
   "source": [
    "df\n"
   ]
  },
  {
   "cell_type": "markdown",
   "metadata": {},
   "source": [
    "### Data Visualization"
   ]
  },
  {
   "cell_type": "markdown",
   "metadata": {
    "collapsed": true
   },
   "source": [
    "First I graph the number of unique words next to the total number of words."
   ]
  },
  {
   "cell_type": "code",
   "execution_count": 69,
   "metadata": {},
   "outputs": [
    {
     "ename": "SyntaxError",
     "evalue": "invalid syntax (<ipython-input-69-62eff6b65f79>, line 1)",
     "output_type": "error",
     "traceback": [
      "\u001b[1;36m  File \u001b[1;32m\"<ipython-input-69-62eff6b65f79>\"\u001b[1;36m, line \u001b[1;32m1\u001b[0m\n\u001b[1;33m    ax = sns.barplot(y=, hue=\"sex\", data=tips)\u001b[0m\n\u001b[1;37m                       ^\u001b[0m\n\u001b[1;31mSyntaxError\u001b[0m\u001b[1;31m:\u001b[0m invalid syntax\n"
     ]
    }
   ],
   "source": [
    "ax = sns.barplot(x=np.asarray(range(6)), y=, hue=\"sex\", data=tips)"
   ]
  },
  {
   "cell_type": "code",
   "execution_count": null,
   "metadata": {
    "collapsed": true
   },
   "outputs": [],
   "source": [
    "Next, I graph the lexical diversity of each subtitle file."
   ]
  },
  {
   "cell_type": "code",
   "execution_count": 84,
   "metadata": {},
   "outputs": [
    {
     "name": "stdout",
     "output_type": "stream",
     "text": [
      "[0 1 2 3 4 5]\n",
      "[ 0.54968095  0.43846154  0.24963841  0.55899881  0.43088364  0.52654867]\n"
     ]
    }
   ],
   "source": [
    "x=np.asarray(range(6))\n",
    "y=np.asarray(ratios)\n",
    "print(x)\n",
    "print(y)"
   ]
  },
  {
   "cell_type": "code",
   "execution_count": 86,
   "metadata": {},
   "outputs": [],
   "source": [
    "import seaborn as sns\n",
    "import matplotlib.pyplot as plt\n",
    "import seaborn as sns; sns.set()\n",
    "%matplotlib inline\n"
   ]
  },
  {
   "cell_type": "code",
   "execution_count": 92,
   "metadata": {},
   "outputs": [
    {
     "ename": "TypeError",
     "evalue": "'Text' object is not callable",
     "output_type": "error",
     "traceback": [
      "\u001b[1;31m---------------------------------------------------------------------------\u001b[0m",
      "\u001b[1;31mTypeError\u001b[0m                                 Traceback (most recent call last)",
      "\u001b[1;32m<ipython-input-92-9d806c73f7b5>\u001b[0m in \u001b[0;36m<module>\u001b[1;34m()\u001b[0m\n\u001b[0;32m      2\u001b[0m \u001b[1;33m\u001b[0m\u001b[0m\n\u001b[0;32m      3\u001b[0m \u001b[0mg\u001b[0m \u001b[1;33m=\u001b[0m \u001b[0msns\u001b[0m\u001b[1;33m.\u001b[0m\u001b[0mbarplot\u001b[0m\u001b[1;33m(\u001b[0m\u001b[0mx\u001b[0m\u001b[1;33m,\u001b[0m \u001b[0my\u001b[0m\u001b[1;33m)\u001b[0m\u001b[1;33m\u001b[0m\u001b[0m\n\u001b[1;32m----> 4\u001b[1;33m \u001b[0mg\u001b[0m\u001b[1;33m.\u001b[0m\u001b[0mtitle\u001b[0m\u001b[1;33m(\u001b[0m\u001b[1;34m\"survival probability\"\u001b[0m\u001b[1;33m)\u001b[0m\u001b[1;33m\u001b[0m\u001b[0m\n\u001b[0m",
      "\u001b[1;31mTypeError\u001b[0m: 'Text' object is not callable"
     ]
    },
    {
     "data": {
      "image/png": "[encoded data removed]",
      "text/plain": [
       "<matplotlib.figure.Figure at 0x220e46d6978>"
      ]
     },
     "metadata": {},
     "output_type": "display_data"
    }
   ],
   "source": [
    "sns.set_style(\"whitegrid\")\n",
    "\n",
    "g = sns.barplot(x, y)\n"
   ]
  },
  {
   "cell_type": "code",
   "execution_count": 97,
   "metadata": {},
   "outputs": [
    {
     "name": "stdout",
     "output_type": "stream",
     "text": [
      "High five! You successfully sent some data to your account on plotly. View your plot in your browser at https://plot.ly/~yelircaasi/0 or inside your plot.ly account where it is named 'stacked-bar-chart'\n"
     ]
    }
   ],
   "source": [
    "import matplotlib.pyplot as plt\n",
    "import numpy as np\n",
    "\n",
    "import plotly\n",
    "import plotly.plotly as py\n",
    "import plotly.tools as tls\n",
    "# Learn about API authentication here: https://plot.ly/python/getting-started\n",
    "# Find your api_key here: https://plot.ly/settings/api\n",
    "plotly.tools.set_credentials_file(username='yelircaasi', api_key='zje4SWAaYfRYxivxwaFx')\n",
    "\n",
    "mpl_fig = plt.figure()\n",
    "ax = mpl_fig.add_subplot(111)\n",
    "\n",
    "N = 6\n",
    "ind = np.arange(N)    # the x locations for the groups\n",
    "width = 0.35       # the width of the bars: can also be len(x) sequence\n",
    "t = totlens\n",
    "u = setlens\n",
    "p1 = ax.bar(ind, t, width, color=(0.2588,0.4433,1.0))\n",
    "p2 = ax.bar(ind, u, width, color=(1.0,0.5,0.62),\n",
    "             bottom=u)\n",
    "ax.set_ylabel('Number of Words')\n",
    "ax.set_xlabel('Video')\n",
    "ax.set_title('Unique Words vs. Total Words')\n",
    "\n",
    "ax.set_xticks(ind + width/2.)\n",
    "ax.set_yticks(np.arange(0, 81, 10))\n",
    "ax.set_xticklabels(('Vid1', 'Vid2', 'Vid3', 'Vid4', 'Vid5', 'Vid6'))\n",
    "\n",
    "plotly_fig = tls.mpl_to_plotly( mpl_fig )\n",
    "\n",
    "# For Legend\n",
    "plotly_fig[\"layout\"][\"showlegend\"] = False\n",
    "#plotly_fig[\"data\"][0][\"name\"] = \"Men\"\n",
    "#plotly_fig[\"data\"][1][\"name\"] = \"Women\"\n",
    "\n",
    "\n",
    "plot_url = py.plot(plotly_fig, filename='stacked-bar-chart')"
   ]
  },
  {
   "cell_type": "code",
   "execution_count": 100,
   "metadata": {},
   "outputs": [
    {
     "data": {
      "image/png": "[encoded data removed]",
      "text/plain": [
       "<matplotlib.figure.Figure at 0x220e4c95ba8>"
      ]
     },
     "metadata": {},
     "output_type": "display_data"
    }
   ],
   "source": [
    "import numpy as np\n",
    "import matplotlib.pyplot as plt\n",
    "N = 6\n",
    "t = totlens\n",
    "u = setlens \n",
    "\n",
    "ind = np.arange(N)    # the x locations for the groups\n",
    "width = 0.5           # the width of the bars: can also be len(x) sequence\n",
    "p1 = plt.bar(ind, u, width, color='r')\n",
    "p2 = plt.bar(ind, t, width, color='b',bottom=u)\n",
    "fig, ax = plt.subplots()\n",
    "\n",
    "ax.set_ylabel('Number of Words')\n",
    "ax.set_title('Unique Words vs Total Words')\n",
    "ax.set_xticks(ind + width / 2)\n",
    "ax.set_xticklabels(('Vid1', 'Vid2', 'Vid3', 'Vid4', 'Vid5'))"
   ]
  },
  {
   "cell_type": "markdown",
   "metadata": {},
   "source": [
    "## Data 4: FRED"
   ]
  },
  {
   "cell_type": "code",
   "execution_count": null,
   "metadata": {
    "collapsed": true
   },
   "outputs": [],
   "source": [
    "import pandas_datareader as pdr\n",
    "pdr.get_data_fred('GS10')"
   ]
  },
  {
   "cell_type": "code",
   "execution_count": null,
   "metadata": {
    "collapsed": true
   },
   "outputs": [],
   "source": []
  },
  {
   "cell_type": "code",
   "execution_count": null,
   "metadata": {
    "collapsed": true
   },
   "outputs": [],
   "source": []
  },
  {
   "cell_type": "code",
   "execution_count": null,
   "metadata": {
    "collapsed": true
   },
   "outputs": [],
   "source": []
  },
  {
   "cell_type": "code",
   "execution_count": null,
   "metadata": {
    "collapsed": true
   },
   "outputs": [],
   "source": [
    "json_file = open('C:\\\\Users\\\\iriley\\\\Documents\\\\news_0000001.json', 'r', encoding = 'utf-8').read()"
   ]
  },
  {
   "cell_type": "code",
   "execution_count": null,
   "metadata": {
    "collapsed": true
   },
   "outputs": [],
   "source": [
    "import json\n",
    "\n",
    "#jsonfile = pd.read_json(jsonfile)"
   ]
  },
  {
   "cell_type": "code",
   "execution_count": null,
   "metadata": {
    "collapsed": true
   },
   "outputs": [],
   "source": [
    "json_dict = json.loads(json_file)"
   ]
  },
  {
   "cell_type": "code",
   "execution_count": null,
   "metadata": {},
   "outputs": [],
   "source": [
    "print(json_dict)\n"
   ]
  },
  {
   "cell_type": "markdown",
   "metadata": {},
   "source": [
    "### Data Cleaning"
   ]
  },
  {
   "cell_type": "code",
   "execution_count": null,
   "metadata": {
    "collapsed": true
   },
   "outputs": [],
   "source": [
    "text = json_dict['text']"
   ]
  },
  {
   "cell_type": "code",
   "execution_count": null,
   "metadata": {},
   "outputs": [],
   "source": [
    "text"
   ]
  },
  {
   "cell_type": "code",
   "execution_count": null,
   "metadata": {
    "collapsed": true
   },
   "outputs": [],
   "source": []
  },
  {
   "cell_type": "code",
   "execution_count": null,
   "metadata": {
    "collapsed": true
   },
   "outputs": [],
   "source": []
  },
  {
   "cell_type": "code",
   "execution_count": null,
   "metadata": {
    "collapsed": true
   },
   "outputs": [],
   "source": []
  },
  {
   "cell_type": "markdown",
   "metadata": {},
   "source": [
    "### Data Visualization"
   ]
  },
  {
   "cell_type": "code",
   "execution_count": 43,
   "metadata": {
    "collapsed": true
   },
   "outputs": [],
   "source": [
    "import nltk"
   ]
  },
  {
   "cell_type": "code",
   "execution_count": null,
   "metadata": {},
   "outputs": [],
   "source": [
    "tok = nltk.word_tokenize(text)"
   ]
  },
  {
   "cell_type": "code",
   "execution_count": null,
   "metadata": {},
   "outputs": [
    {
     "name": "stdout",
     "output_type": "stream",
     "text": [
      "showing info https://raw.githubusercontent.com/nltk/nltk_data/gh-pages/index.xml\n"
     ]
    }
   ],
   "source": [
    "nltk.download()"
   ]
  },
  {
   "cell_type": "code",
   "execution_count": null,
   "metadata": {
    "collapsed": true
   },
   "outputs": [],
   "source": [
    "print(tok)"
   ]
  },
  {
   "cell_type": "code",
   "execution_count": null,
   "metadata": {
    "collapsed": true
   },
   "outputs": [],
   "source": [
    "text"
   ]
  },
  {
   "cell_type": "code",
   "execution_count": null,
   "metadata": {
    "collapsed": true
   },
   "outputs": [],
   "source": []
  }
 ],
 "metadata": {
  "kernelspec": {
   "display_name": "Python 3",
   "language": "python",
   "name": "python3"
  },
  "language_info": {
   "codemirror_mode": {
    "name": "ipython",
    "version": 3
   },
   "file_extension": ".py",
   "mimetype": "text/x-python",
   "name": "python",
   "nbconvert_exporter": "python",
   "pygments_lexer": "ipython3",
   "version": "3.6.1"
  }
 },
 "nbformat": 4,
 "nbformat_minor": 2
}
